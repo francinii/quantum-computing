{
 "cells": [
  {
   "cell_type": "code",
   "execution_count": 14,
   "id": "872f6eed-880d-4631-9c82-120f85d4335a",
   "metadata": {},
   "outputs": [
    {
     "name": "stdout",
     "output_type": "stream",
     "text": [
      "Your user code: GFRF-BXWX\n",
      "If a browser doesn't automatically open, please visit this URL from any trusted device: https://auth.classiq.io/activate?user_code=GFRF-BXWX\n"
     ]
    }
   ],
   "source": [
    "import classiq\n",
    "classiq.authenticate()"
   ]
  },
  {
   "cell_type": "code",
   "execution_count": null,
   "id": "6b808a4a-8139-49e3-a26b-7a6796b96261",
   "metadata": {},
   "outputs": [],
   "source": []
  },
  {
   "cell_type": "markdown",
   "id": "e24d095f-a5f6-4e49-8bc5-8fc9dd8c696c",
   "metadata": {},
   "source": [
    "### Task 01\n",
    "Write within the IDE with the native syntax a quantum algorithm that coherently calculates y= 2*x + 4*z +2, where x and z are quantum numbers represented with 5 qubits each, and they are initialized in a superposition of all possible values."
   ]
  },
  {
   "cell_type": "code",
   "execution_count": 19,
   "id": "a5e85ac5-a7e4-4069-8dac-5b153f06f01d",
   "metadata": {},
   "outputs": [],
   "source": [
    "from classiq import Output, QNum, allocate, hadamard_transform, qfunc\n",
    "\n",
    "@qfunc\n",
    "def main(x: Output[QNum],z: Output[QNum], y: Output[QNum]):\n",
    "\n",
    "    allocate(5, x)\n",
    "    allocate(5, z)\n",
    "    hadamard_transform(x)  # creates a uniform superposition\n",
    "    hadamard_transform(z)\n",
    "    y |= 2*x + 4*z + 2"
   ]
  },
  {
   "cell_type": "code",
   "execution_count": 20,
   "id": "8e2b2064-0954-4aec-8be8-a81f1afa46ab",
   "metadata": {},
   "outputs": [
    {
     "name": "stdout",
     "output_type": "stream",
     "text": [
      "Opening: https://platform.classiq.io/circuit/b92f4a0f-6e05-4cde-88ae-f677c0f5f502?version=0.42.2\n"
     ]
    }
   ],
   "source": [
    "from classiq import create_model, show, synthesize\n",
    "\n",
    "quantum_program = synthesize(create_model(main))\n",
    "show(quantum_program)"
   ]
  },
  {
   "cell_type": "code",
   "execution_count": null,
   "id": "bd13c85a-15a0-4e09-a481-4b65448a1e17",
   "metadata": {},
   "outputs": [],
   "source": []
  },
  {
   "cell_type": "code",
   "execution_count": null,
   "id": "842fd5f6-4f5f-4db4-aceb-06a271e70c1a",
   "metadata": {},
   "outputs": [],
   "source": []
  },
  {
   "cell_type": "code",
   "execution_count": null,
   "id": "7c41406b-0b9a-41bb-9197-d69f572caa87",
   "metadata": {},
   "outputs": [],
   "source": []
  },
  {
   "cell_type": "code",
   "execution_count": null,
   "id": "1c062539-fd79-422a-bc14-639171d83e9f",
   "metadata": {},
   "outputs": [],
   "source": []
  },
  {
   "cell_type": "code",
   "execution_count": null,
   "id": "88e5747d-58b7-4cb1-82d2-ac599a8fac46",
   "metadata": {},
   "outputs": [],
   "source": []
  },
  {
   "cell_type": "code",
   "execution_count": null,
   "id": "e62b3079-051d-4d8c-a1db-6af254e45f62",
   "metadata": {},
   "outputs": [],
   "source": []
  }
 ],
 "metadata": {
  "kernelspec": {
   "display_name": "Python 3 (ipykernel)",
   "language": "python",
   "name": "python3"
  },
  "language_info": {
   "codemirror_mode": {
    "name": "ipython",
    "version": 3
   },
   "file_extension": ".py",
   "mimetype": "text/x-python",
   "name": "python",
   "nbconvert_exporter": "python",
   "pygments_lexer": "ipython3",
   "version": "3.9.12"
  }
 },
 "nbformat": 4,
 "nbformat_minor": 5
}

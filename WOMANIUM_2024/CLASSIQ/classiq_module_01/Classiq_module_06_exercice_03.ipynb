{
 "cells": [
  {
   "cell_type": "code",
   "execution_count": 1,
   "id": "872f6eed-880d-4631-9c82-120f85d4335a",
   "metadata": {},
   "outputs": [
    {
     "name": "stderr",
     "output_type": "stream",
     "text": [
      "C:\\Users\\panch\\Documents\\QUANTUM_COMPUTING\\WOMANIUM\\womanium-env\\lib\\site-packages\\classiq\\_internals\\authentication\\token_manager.py:96: UserWarning: Device is already registered.\n",
      "Generating a new refresh token should only be done if the current refresh token is compromised.\n",
      "To do so, set the overwrite parameter to true\n",
      "  warnings.warn(\n"
     ]
    }
   ],
   "source": [
    "import classiq\n",
    "classiq.authenticate()"
   ]
  },
  {
   "cell_type": "code",
   "execution_count": 2,
   "id": "c04408cc-7b44-4cf9-aa36-2d0c9b85938d",
   "metadata": {},
   "outputs": [],
   "source": [
    "from classiq import *\n",
    "\n",
    "@qfunc\n",
    "def main(x: Output[QNum], y: Output[QNum]):\n",
    "    allocate(4, x)\n",
    "    hadamard_transform(x)  # creates a uniform superposition\n",
    "    y |= x**2 + 1\n",
    "\n",
    "quantum_model = create_model(main)\n",
    "\n",
    "\n",
    "quantum_model_with_constraints = set_constraints( quantum_model, Constraints(optimization_parameter=\"width\", max_depth=500) )\n",
    "quantum_program = synthesize(quantum_model_with_constraints)"
   ]
  },
  {
   "cell_type": "code",
   "execution_count": 8,
   "id": "d105a50b-be75-46c0-9354-4b6d65c4f950",
   "metadata": {},
   "outputs": [
    {
     "name": "stdout",
     "output_type": "stream",
     "text": [
      "The circuit width is 12 and the circuit_depth is 392\n"
     ]
    }
   ],
   "source": [
    "circuit_width = QuantumProgram.from_qprog(quantum_program).data.width\n",
    "circuit_depth = QuantumProgram.from_qprog(quantum_program).transpiled_circuit.depth\n",
    "print(f\"The circuit width is {circuit_width} and the circuit_depth is {circuit_depth}\")"
   ]
  },
  {
   "cell_type": "code",
   "execution_count": 33,
   "id": "80584e66-fcc4-4219-b888-d81e0942e067",
   "metadata": {},
   "outputs": [],
   "source": [
    "quantum_model_with_preferences = set_preferences(\n",
    "    quantum_model,\n",
    "    Preferences(backend_service_provider=\"IBM Quantum\", backend_name=\"ibm_brisbane\"),\n",
    ")\n",
    "\n",
    "quantum_program_with_execution_preferences = synthesize(\n",
    "    quantum_model_with_execution_preferences\n",
    ")\n",
    "\n",
    "job = execute(quantum_program_with_execution_preferences)\n",
    "\n",
    "\n",
    "quantum_program = synthesize(quantum_model_with_preferences)"
   ]
  },
  {
   "cell_type": "markdown",
   "id": "e24d095f-a5f6-4e49-8bc5-8fc9dd8c696c",
   "metadata": {},
   "source": [
    "### Task 03\n",
    "Task: Modify the constraints such that you optimize the circuit for minimal circuit depth using maximum 25 qubits. What are the circuit depth and width you receive? Are they different from the given example?"
   ]
  },
  {
   "cell_type": "code",
   "execution_count": 46,
   "id": "2e611f90-244e-496e-aa59-68b6ac09c19c",
   "metadata": {},
   "outputs": [],
   "source": [
    "# Task 03\n",
    "# Francini Corrales Garro\n",
    "\n",
    "quantum_model_with_constraints = set_constraints(\n",
    "    quantum_model, Constraints(optimization_parameter=\"width\", max_depth=366)\n",
    ")\n",
    "\n",
    "quantum_program = synthesize(quantum_model_with_constraints)\n",
    "\n",
    "\n",
    "quantum_program = synthesize(quantum_model_with_constraints)\n"
   ]
  },
  {
   "cell_type": "code",
   "execution_count": 43,
   "id": "7c41406b-0b9a-41bb-9197-d69f572caa87",
   "metadata": {},
   "outputs": [
    {
     "name": "stdout",
     "output_type": "stream",
     "text": [
      "The circuit width is 21 and the circuit_depth is 346\n"
     ]
    }
   ],
   "source": [
    "circuit_width = QuantumProgram.from_qprog(quantum_program).data.width\n",
    "circuit_depth = QuantumProgram.from_qprog(quantum_program).transpiled_circuit.depth\n",
    "print(f\"The circuit width is {circuit_width} and the circuit_depth is {circuit_depth}\")"
   ]
  },
  {
   "cell_type": "code",
   "execution_count": 44,
   "id": "293ed022-39ee-4de4-b9f8-2d85b5876f5f",
   "metadata": {},
   "outputs": [
    {
     "name": "stdout",
     "output_type": "stream",
     "text": [
      "Opening: https://platform.classiq.io/circuit/1f8da764-95df-497f-987f-cf49662af8dc?version=0.42.2\n"
     ]
    }
   ],
   "source": [
    "show(quantum_program)"
   ]
  },
  {
   "cell_type": "code",
   "execution_count": null,
   "id": "2eb22502-83bf-4da8-b54d-d25605589f33",
   "metadata": {},
   "outputs": [],
   "source": []
  }
 ],
 "metadata": {
  "kernelspec": {
   "display_name": "Python 3 (ipykernel)",
   "language": "python",
   "name": "python3"
  },
  "language_info": {
   "codemirror_mode": {
    "name": "ipython",
    "version": 3
   },
   "file_extension": ".py",
   "mimetype": "text/x-python",
   "name": "python",
   "nbconvert_exporter": "python",
   "pygments_lexer": "ipython3",
   "version": "3.9.12"
  }
 },
 "nbformat": 4,
 "nbformat_minor": 5
}

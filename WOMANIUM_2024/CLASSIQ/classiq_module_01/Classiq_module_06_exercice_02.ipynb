{
 "cells": [
  {
   "cell_type": "code",
   "execution_count": 9,
   "id": "872f6eed-880d-4631-9c82-120f85d4335a",
   "metadata": {},
   "outputs": [],
   "source": [
    "import classiq\n",
    "classiq.authenticate()"
   ]
  },
  {
   "cell_type": "code",
   "execution_count": 12,
   "id": "a5e85ac5-a7e4-4069-8dac-5b153f06f01d",
   "metadata": {},
   "outputs": [],
   "source": [
    "# Example msb\n",
    "\n",
    "from classiq import QArray, X, qfunc\n",
    "\n",
    "@qfunc\n",
    "def flip_msb(reg: QArray):\n",
    "    X(reg[reg.len - 1]) # apply to the most significant qubit\n",
    "\n"
   ]
  },
  {
   "cell_type": "markdown",
   "id": "e24d095f-a5f6-4e49-8bc5-8fc9dd8c696c",
   "metadata": {},
   "source": [
    "### Task 02\n",
    "https://nightly.docs.classiq.io/latest/classiq_101/classiq_concepts/design/quantum_variables_and_functions/ \n",
    "\n",
    "Task: Create another quantum function flip_lsb that flips the least significant bit."
   ]
  },
  {
   "cell_type": "code",
   "execution_count": 14,
   "id": "2e611f90-244e-496e-aa59-68b6ac09c19c",
   "metadata": {},
   "outputs": [],
   "source": [
    "# \n",
    "# Francini Corrales Garro\n",
    "# Task 02 \n",
    "#\n",
    "@qfunc\n",
    "def flip_lsb(reg: QArray):\n",
    "    X(reg[0]) # apply x to the first qubit"
   ]
  },
  {
   "cell_type": "code",
   "execution_count": 1,
   "id": "8e2b2064-0954-4aec-8be8-a81f1afa46ab",
   "metadata": {},
   "outputs": [
    {
     "ename": "NameError",
     "evalue": "name 'qfunc' is not defined",
     "output_type": "error",
     "traceback": [
      "\u001b[1;31m---------------------------------------------------------------------------\u001b[0m",
      "\u001b[1;31mNameError\u001b[0m                                 Traceback (most recent call last)",
      "Cell \u001b[1;32mIn[1], line 4\u001b[0m\n\u001b[0;32m      1\u001b[0m \u001b[38;5;28;01mfrom\u001b[39;00m \u001b[38;5;21;01mclassiq\u001b[39;00m \u001b[38;5;28;01mimport\u001b[39;00m Output, QBit, QNum, allocate\n\u001b[1;32m----> 4\u001b[0m \u001b[38;5;129m@qfunc\u001b[39m\n\u001b[0;32m      5\u001b[0m \u001b[38;5;28;01mdef\u001b[39;00m \u001b[38;5;21mmain\u001b[39m(indicator: Output[QBit]):\n\u001b[0;32m      7\u001b[0m     x \u001b[38;5;241m=\u001b[39m QNum(\u001b[38;5;124m\"\u001b[39m\u001b[38;5;124mx\u001b[39m\u001b[38;5;124m\"\u001b[39m)\n\u001b[0;32m      8\u001b[0m     allocate(\u001b[38;5;241m4\u001b[39m, x)\n",
      "\u001b[1;31mNameError\u001b[0m: name 'qfunc' is not defined"
     ]
    }
   ],
   "source": [
    "from classiq import Output, QBit, QNum, allocate\n",
    "\n",
    "\n",
    "@qfunc\n",
    "def main(indicator: Output[QBit]):\n",
    "\n",
    "    x = QNum(\"x\")\n",
    "    allocate(4, x)\n",
    "    flip_lsb(x)\n",
    "\n",
    "    indicator |= x == 8"
   ]
  },
  {
   "cell_type": "code",
   "execution_count": 16,
   "id": "bd13c85a-15a0-4e09-a481-4b65448a1e17",
   "metadata": {},
   "outputs": [
    {
     "name": "stdout",
     "output_type": "stream",
     "text": [
      "Opening: https://platform.classiq.io/circuit/945e790f-57cf-4ae1-888d-a7b125001a24?version=0.42.2\n"
     ]
    }
   ],
   "source": [
    "from classiq import create_model, show, synthesize\n",
    "\n",
    "quantum_program = synthesize(create_model(main))\n",
    "show(quantum_program)\n"
   ]
  },
  {
   "cell_type": "code",
   "execution_count": null,
   "id": "842fd5f6-4f5f-4db4-aceb-06a271e70c1a",
   "metadata": {},
   "outputs": [],
   "source": []
  },
  {
   "cell_type": "code",
   "execution_count": null,
   "id": "7c41406b-0b9a-41bb-9197-d69f572caa87",
   "metadata": {},
   "outputs": [],
   "source": []
  },
  {
   "cell_type": "code",
   "execution_count": null,
   "id": "1c062539-fd79-422a-bc14-639171d83e9f",
   "metadata": {},
   "outputs": [],
   "source": []
  },
  {
   "cell_type": "code",
   "execution_count": null,
   "id": "88e5747d-58b7-4cb1-82d2-ac599a8fac46",
   "metadata": {},
   "outputs": [],
   "source": []
  },
  {
   "cell_type": "code",
   "execution_count": null,
   "id": "e62b3079-051d-4d8c-a1db-6af254e45f62",
   "metadata": {},
   "outputs": [],
   "source": []
  }
 ],
 "metadata": {
  "kernelspec": {
   "display_name": "Python 3 (ipykernel)",
   "language": "python",
   "name": "python3"
  },
  "language_info": {
   "codemirror_mode": {
    "name": "ipython",
    "version": 3
   },
   "file_extension": ".py",
   "mimetype": "text/x-python",
   "name": "python",
   "nbconvert_exporter": "python",
   "pygments_lexer": "ipython3",
   "version": "3.9.12"
  }
 },
 "nbformat": 4,
 "nbformat_minor": 5
}

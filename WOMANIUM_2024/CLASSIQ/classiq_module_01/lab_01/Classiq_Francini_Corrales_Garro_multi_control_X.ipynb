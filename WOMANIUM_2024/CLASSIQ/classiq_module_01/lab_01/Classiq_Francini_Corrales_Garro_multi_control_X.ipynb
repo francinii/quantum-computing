{
 "cells": [
  {
   "cell_type": "markdown",
   "id": "85913315-70e2-4841-b17f-3b5faa83595f",
   "metadata": {},
   "source": [
    "# Implement a Multi-Control-X\n",
    "\n",
    "## Task A: \n",
    "Synthesize 3 different implementations of an MCX (multi-control-x) with 5 control qubits and 1 target qubit (you should use the control quantum operation for implementing an MCX, follow thisLinks to an external site. tutorial that can be open in the IDE).\n",
    "One implementation should be optimized for minimized depth, the other for minimized width, and the third somewhere in between (choose yourself what is the maximal width / depth you apply).\n",
    "Export the 3 implementations as LaTeX files on the hierarchy level that demonstrates the differences between the implementations. Aggregate the implementations in 1 file and export it as a PDF and explain the key differences. (It is recommended to use OverleafLinks to an external site. -  a free, easy to use online LaTeX editor)\n",
    "\n",
    "## Task B:\n",
    "Synthesize 2 different implementations of an MCX (multi-control-x) with 20 control qubits and 1 target qubit. Compare the circuit width and circuit depth required for each implementation."
   ]
  },
  {
   "cell_type": "code",
   "execution_count": 5,
   "id": "872f6eed-880d-4631-9c82-120f85d4335a",
   "metadata": {},
   "outputs": [],
   "source": [
    "# Adding imports\n",
    "from classiq import *\n"
   ]
  },
  {
   "cell_type": "code",
   "execution_count": 8,
   "id": "43e04157-df1f-477e-89a0-6411f9035a43",
   "metadata": {},
   "outputs": [],
   "source": [
    "# Auth to classiq\n",
    "import classiq\n",
    "classiq.authenticate()"
   ]
  },
  {
   "cell_type": "code",
   "execution_count": 12,
   "id": "6b808a4a-8139-49e3-a26b-7a6796b96261",
   "metadata": {},
   "outputs": [],
   "source": [
    "@qfunc\n",
    "def main(cntrl: Output[QArray[QBit]], target: Output[QBit]) -> None:\n",
    "    '''\n",
    "        Task A\n",
    "        Creating the mcx with 5 control qubits and one target\n",
    "        \n",
    "        param cntrl: List of control qubits\n",
    "        param target: Target qubit\n",
    "        \n",
    "        return None\n",
    "    '''\n",
    "    allocate(5, cntrl)\n",
    "    allocate(1, target)\n",
    "    control(ctrl=cntrl, operand=lambda: X(target))"
   ]
  },
  {
   "cell_type": "code",
   "execution_count": 33,
   "id": "359350ab-0f2d-4def-bfb8-674842da81f4",
   "metadata": {},
   "outputs": [],
   "source": [
    "'''\n",
    "Task A.1\n",
    "Creating the first control for minimum depth\n",
    "Adding some constraints\n",
    "'''\n",
    "\n",
    "#First we create the quantum model\n",
    "quantum_model = create_model(main)\n",
    "\n",
    "\n",
    "\n",
    "quantum_model_with_constraints = set_constraints( quantum_model, Constraints(optimization_parameter=\"depth\", max_depth=36) )\n",
    "write_qmod(quantum_model_with_constraints, \"optimize depth\")\n",
    "quantum_program = synthesize(quantum_model_with_constraints)\n"
   ]
  },
  {
   "cell_type": "code",
   "execution_count": 34,
   "id": "2ffac035-6759-4a9e-a012-c61da89aea4e",
   "metadata": {},
   "outputs": [
    {
     "name": "stdout",
     "output_type": "stream",
     "text": [
      "The circuit width is 8 and the circuit_depth is 34\n"
     ]
    }
   ],
   "source": [
    "circuit_width = QuantumProgram.from_qprog(quantum_program).data.width\n",
    "circuit_depth = QuantumProgram.from_qprog(quantum_program).transpiled_circuit.depth\n",
    "print(f\"The circuit width is {circuit_width} and the circuit_depth is {circuit_depth}\")"
   ]
  },
  {
   "cell_type": "code",
   "execution_count": 35,
   "id": "ae215432-0e51-4188-a13d-785196b8375f",
   "metadata": {},
   "outputs": [
    {
     "name": "stdout",
     "output_type": "stream",
     "text": [
      "Opening: https://platform.classiq.io/circuit/97a7dd6d-0438-43fd-99e6-59c3e74e1df4?version=0.42.2\n"
     ]
    }
   ],
   "source": [
    "show(quantum_program)"
   ]
  },
  {
   "cell_type": "code",
   "execution_count": null,
   "id": "582f3004-05fb-4052-94df-e2fdd1093390",
   "metadata": {},
   "outputs": [],
   "source": []
  },
  {
   "cell_type": "code",
   "execution_count": null,
   "id": "a15f7f48-f508-4abf-8512-7d89c4403e51",
   "metadata": {},
   "outputs": [],
   "source": []
  },
  {
   "cell_type": "code",
   "execution_count": 25,
   "id": "a72d817b-5807-4f97-8e36-3b32571080bc",
   "metadata": {},
   "outputs": [
    {
     "name": "stdout",
     "output_type": "stream",
     "text": [
      "The circuit width is 6 and the circuit_depth is 117\n"
     ]
    }
   ],
   "source": [
    "'''\n",
    "Task A.2\n",
    "Creating the first control to minimize width \n",
    "Adding some constraints\n",
    "'''\n",
    "#First we create the quantum model\n",
    "quantum_model = create_model(main)\n",
    "\n",
    "quantum_model_with_constraints = set_constraints( quantum_model, Constraints(optimization_parameter=\"width\", max_depth=117) )\n",
    "quantum_program = synthesize(quantum_model_with_constraints)\n",
    "\n",
    "circuit_width = QuantumProgram.from_qprog(quantum_program).data.width\n",
    "circuit_depth = QuantumProgram.from_qprog(quantum_program).transpiled_circuit.depth\n",
    "print(f\"The circuit width is {circuit_width} and the circuit_depth is {circuit_depth}\")\n"
   ]
  },
  {
   "cell_type": "code",
   "execution_count": 26,
   "id": "82b3fc86-c4ab-4968-9a1e-d58c8a591d5a",
   "metadata": {},
   "outputs": [
    {
     "name": "stdout",
     "output_type": "stream",
     "text": [
      "Opening: https://platform.classiq.io/circuit/7d09eb32-4404-4c0c-9569-3366e9bcd036?version=0.42.2\n"
     ]
    }
   ],
   "source": [
    "show(quantum_program)"
   ]
  },
  {
   "cell_type": "code",
   "execution_count": 27,
   "id": "6105b09f-dd3b-4efc-a0c4-dae06ed62ed6",
   "metadata": {},
   "outputs": [
    {
     "name": "stdout",
     "output_type": "stream",
     "text": [
      "The circuit width is 7 and the circuit_depth is 51\n"
     ]
    }
   ],
   "source": [
    "'''\n",
    "Task A.3\n",
    "Creating the first control to minimize widh \n",
    "Adding some constraints\n",
    "'''\n",
    "\n",
    "#First we create the quantum model\n",
    "quantum_model = create_model(main)\n",
    "\n",
    "quantum_model_with_constraints = set_constraints( quantum_model, Constraints(optimization_parameter=\"width\", max_depth=51) )\n",
    "quantum_program = synthesize(quantum_model_with_constraints)\n",
    "\n",
    "\n",
    "circuit_width = QuantumProgram.from_qprog(quantum_program).data.width\n",
    "circuit_depth = QuantumProgram.from_qprog(quantum_program).transpiled_circuit.depth\n",
    "print(f\"The circuit width is {circuit_width} and the circuit_depth is {circuit_depth}\")\n"
   ]
  },
  {
   "cell_type": "code",
   "execution_count": 28,
   "id": "7ea4fa9a-7c17-4a4e-a214-c371adb5e82a",
   "metadata": {},
   "outputs": [
    {
     "name": "stdout",
     "output_type": "stream",
     "text": [
      "Opening: https://platform.classiq.io/circuit/06cccbfd-fa86-4000-9193-620c41e35fae?version=0.42.2\n"
     ]
    }
   ],
   "source": [
    "show(quantum_program)"
   ]
  },
  {
   "cell_type": "code",
   "execution_count": null,
   "id": "7e85314a-1992-4b81-8d8f-dc625146fcbc",
   "metadata": {},
   "outputs": [],
   "source": []
  }
 ],
 "metadata": {
  "kernelspec": {
   "display_name": "Python 3 (ipykernel)",
   "language": "python",
   "name": "python3"
  },
  "language_info": {
   "codemirror_mode": {
    "name": "ipython",
    "version": 3
   },
   "file_extension": ".py",
   "mimetype": "text/x-python",
   "name": "python",
   "nbconvert_exporter": "python",
   "pygments_lexer": "ipython3",
   "version": "3.9.12"
  }
 },
 "nbformat": 4,
 "nbformat_minor": 5
}

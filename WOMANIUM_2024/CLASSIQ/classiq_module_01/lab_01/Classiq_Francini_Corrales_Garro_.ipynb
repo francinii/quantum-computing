{
 "cells": [
  {
   "cell_type": "markdown",
   "id": "85913315-70e2-4841-b17f-3b5faa83595f",
   "metadata": {},
   "source": [
    "# Implement a Multi-Control-X\n",
    "\n",
    "## Task A: \n",
    "Synthesize 3 different implementations of an MCX (multi-control-x) with 5 control qubits and 1 target qubit (you should use the control quantum operation for implementing an MCX, follow thisLinks to an external site. tutorial that can be open in the IDE).\n",
    "One implementation should be optimized for minimized depth, the other for minimized width, and the third somewhere in between (choose yourself what is the maximal width / depth you apply).\n",
    "Export the 3 implementations as LaTeX files on the hierarchy level that demonstrates the differences between the implementations. Aggregate the implementations in 1 file and export it as a PDF and explain the key differences. (It is recommended to use OverleafLinks to an external site. -  a free, easy to use online LaTeX editor)\n"
   ]
  },
  {
   "cell_type": "code",
   "execution_count": 40,
   "id": "872f6eed-880d-4631-9c82-120f85d4335a",
   "metadata": {},
   "outputs": [],
   "source": [
    "# Adding imports\n",
    "from classiq import *\n"
   ]
  },
  {
   "cell_type": "code",
   "execution_count": 41,
   "id": "43e04157-df1f-477e-89a0-6411f9035a43",
   "metadata": {},
   "outputs": [],
   "source": [
    "# Auth to classiq\n",
    "import classiq\n",
    "classiq.authenticate()"
   ]
  },
  {
   "cell_type": "code",
   "execution_count": 42,
   "id": "6b808a4a-8139-49e3-a26b-7a6796b96261",
   "metadata": {},
   "outputs": [],
   "source": [
    "@qfunc\n",
    "def main(cntrl: Output[QArray[QBit]], target: Output[QBit]) -> None:\n",
    "    '''\n",
    "        Task A\n",
    "        Creating the mcx with 5 control qubits and one target\n",
    "        \n",
    "        param cntrl: List of control qubits\n",
    "        param target: Target qubit\n",
    "        \n",
    "        return None\n",
    "    '''\n",
    "    allocate(5, cntrl)\n",
    "    allocate(1, target)\n",
    "    control(ctrl=cntrl, operand=lambda: X(target))"
   ]
  },
  {
   "cell_type": "code",
   "execution_count": 43,
   "id": "359350ab-0f2d-4def-bfb8-674842da81f4",
   "metadata": {},
   "outputs": [],
   "source": [
    "'''\n",
    "Task A.1\n",
    "Creating the first control for minimum depth\n",
    "Adding some constraints\n",
    "'''\n",
    "\n",
    "#First we create the quantum model\n",
    "quantum_model = create_model(main)\n",
    "\n",
    "\n",
    "\n",
    "quantum_model_with_constraints = set_constraints( quantum_model, Constraints(optimization_parameter=\"depth\", max_width=8 ) )\n",
    "write_qmod(quantum_model_with_constraints, \"optimize depth\")\n",
    "quantum_program = synthesize(quantum_model_with_constraints)\n"
   ]
  },
  {
   "cell_type": "code",
   "execution_count": 44,
   "id": "2ffac035-6759-4a9e-a012-c61da89aea4e",
   "metadata": {},
   "outputs": [
    {
     "name": "stdout",
     "output_type": "stream",
     "text": [
      "The circuit width is 8 and the circuit_depth is 34\n"
     ]
    }
   ],
   "source": [
    "circuit_width = QuantumProgram.from_qprog(quantum_program).data.width\n",
    "circuit_depth = QuantumProgram.from_qprog(quantum_program).transpiled_circuit.depth\n",
    "print(f\"The circuit width is {circuit_width} and the circuit_depth is {circuit_depth}\")"
   ]
  },
  {
   "cell_type": "code",
   "execution_count": 45,
   "id": "ae215432-0e51-4188-a13d-785196b8375f",
   "metadata": {},
   "outputs": [
    {
     "name": "stdout",
     "output_type": "stream",
     "text": [
      "Opening: https://platform.classiq.io/circuit/097d651b-2dfb-4ccb-926f-f6f455bca663?version=0.42.2\n"
     ]
    }
   ],
   "source": [
    "show(quantum_program)"
   ]
  },
  {
   "cell_type": "code",
   "execution_count": null,
   "id": "582f3004-05fb-4052-94df-e2fdd1093390",
   "metadata": {},
   "outputs": [],
   "source": []
  },
  {
   "cell_type": "code",
   "execution_count": null,
   "id": "a15f7f48-f508-4abf-8512-7d89c4403e51",
   "metadata": {},
   "outputs": [],
   "source": []
  },
  {
   "cell_type": "code",
   "execution_count": 36,
   "id": "a72d817b-5807-4f97-8e36-3b32571080bc",
   "metadata": {},
   "outputs": [
    {
     "name": "stdout",
     "output_type": "stream",
     "text": [
      "The circuit width is 6 and the circuit_depth is 117\n"
     ]
    }
   ],
   "source": [
    "'''\n",
    "Task A.2\n",
    "Creating the first control to minimize width \n",
    "Adding some constraints\n",
    "'''\n",
    "#First we create the quantum model\n",
    "quantum_model = create_model(main)\n",
    "\n",
    "quantum_model_with_constraints = set_constraints( quantum_model, Constraints(optimization_parameter=\"width\", max_depth=117) )\n",
    "quantum_program = synthesize(quantum_model_with_constraints)\n",
    "\n",
    "circuit_width = QuantumProgram.from_qprog(quantum_program).data.width\n",
    "circuit_depth = QuantumProgram.from_qprog(quantum_program).transpiled_circuit.depth\n",
    "print(f\"The circuit width is {circuit_width} and the circuit_depth is {circuit_depth}\")\n"
   ]
  },
  {
   "cell_type": "code",
   "execution_count": 37,
   "id": "82b3fc86-c4ab-4968-9a1e-d58c8a591d5a",
   "metadata": {},
   "outputs": [
    {
     "name": "stdout",
     "output_type": "stream",
     "text": [
      "Opening: https://platform.classiq.io/circuit/94e10d9f-7ceb-4e2c-b6c8-e57b4ae02279?version=0.42.2\n"
     ]
    }
   ],
   "source": [
    "show(quantum_program)"
   ]
  },
  {
   "cell_type": "code",
   "execution_count": 38,
   "id": "6105b09f-dd3b-4efc-a0c4-dae06ed62ed6",
   "metadata": {},
   "outputs": [
    {
     "name": "stdout",
     "output_type": "stream",
     "text": [
      "The circuit width is 7 and the circuit_depth is 51\n"
     ]
    }
   ],
   "source": [
    "'''\n",
    "Task A.3\n",
    "Creating the first control to minimize widh \n",
    "Adding some constraints\n",
    "'''\n",
    "\n",
    "#First we create the quantum model\n",
    "quantum_model = create_model(main)\n",
    "\n",
    "quantum_model_with_constraints = set_constraints( quantum_model, Constraints(optimization_parameter=\"width\", max_depth=51) )\n",
    "quantum_program = synthesize(quantum_model_with_constraints)\n",
    "\n",
    "\n",
    "circuit_width = QuantumProgram.from_qprog(quantum_program).data.width\n",
    "circuit_depth = QuantumProgram.from_qprog(quantum_program).transpiled_circuit.depth\n",
    "print(f\"The circuit width is {circuit_width} and the circuit_depth is {circuit_depth}\")\n"
   ]
  },
  {
   "cell_type": "code",
   "execution_count": 39,
   "id": "7ea4fa9a-7c17-4a4e-a214-c371adb5e82a",
   "metadata": {},
   "outputs": [
    {
     "name": "stdout",
     "output_type": "stream",
     "text": [
      "Opening: https://platform.classiq.io/circuit/cab3d1e4-f39d-4a2e-81c4-ea1261f47bba?version=0.42.2\n"
     ]
    }
   ],
   "source": [
    "show(quantum_program)"
   ]
  },
  {
   "cell_type": "markdown",
   "id": "922ebb49-66c6-41c1-8f08-59c8f167a6dc",
   "metadata": {},
   "source": [
    "\n",
    "## Task B:\n",
    "Synthesize 2 different implementations of an MCX (multi-control-x) with 20 control qubits and 1 target qubit. Compare the circuit width and circuit depth required for each implementation."
   ]
  },
  {
   "cell_type": "code",
   "execution_count": 55,
   "id": "07005a64-d724-4f76-b5b8-735548b373d0",
   "metadata": {},
   "outputs": [],
   "source": [
    "@qfunc\n",
    "def main(cntrl: Output[QArray[QBit]], target: Output[QBit]) -> None:\n",
    "    '''\n",
    "        Task B\n",
    "        Creating the mcx with 20 control qubits and one target\n",
    "        \n",
    "        param cntrl: List of control qubits\n",
    "        param target: Target qubit\n",
    "        \n",
    "        return None\n",
    "    '''\n",
    "    allocate(20, cntrl)\n",
    "    allocate(1, target)\n",
    "    control(ctrl=cntrl, operand=lambda: X(target))"
   ]
  },
  {
   "cell_type": "code",
   "execution_count": 91,
   "id": "1242bdd9-3e83-4367-af86-48621ee644a4",
   "metadata": {},
   "outputs": [],
   "source": [
    "#B.1\n",
    "#First we create the quantum model\n",
    "quantum_model = create_model(main)\n",
    "quantum_model_with_constraints = set_constraints( quantum_model, Constraints(optimization_parameter=\"depth\", max_depth=66 ) )\n",
    "write_qmod(quantum_model_with_constraints, \"optimize depth\")\n",
    "quantum_program = synthesize(quantum_model_with_constraints)"
   ]
  },
  {
   "cell_type": "code",
   "execution_count": 92,
   "id": "11b2a208-32aa-48b8-ac55-dd18a8910c27",
   "metadata": {},
   "outputs": [
    {
     "name": "stdout",
     "output_type": "stream",
     "text": [
      "The circuit width is 30 and the circuit_depth is 66\n"
     ]
    }
   ],
   "source": [
    "circuit_width = QuantumProgram.from_qprog(quantum_program).data.width\n",
    "circuit_depth = QuantumProgram.from_qprog(quantum_program).transpiled_circuit.depth\n",
    "print(f\"The circuit width is {circuit_width} and the circuit_depth is {circuit_depth}\")"
   ]
  },
  {
   "cell_type": "code",
   "execution_count": 80,
   "id": "9b658acd-fb59-4c90-a180-5ff056bee095",
   "metadata": {},
   "outputs": [
    {
     "name": "stdout",
     "output_type": "stream",
     "text": [
      "Opening: https://platform.classiq.io/circuit/81246957-0513-4a3c-a8e5-466a33ae55f4?version=0.42.2\n"
     ]
    }
   ],
   "source": [
    "show(quantum_program)"
   ]
  },
  {
   "cell_type": "code",
   "execution_count": 93,
   "id": "f915b705-edd1-4940-9e22-5025dac66218",
   "metadata": {},
   "outputs": [],
   "source": [
    "#B.2\n",
    "\n",
    "#First we create the quantum model\n",
    "quantum_model = create_model(main)\n",
    "quantum_model_with_constraints = set_constraints( quantum_model, Constraints(optimization_parameter=\"width\", max_width=22) )\n",
    "write_qmod(quantum_model_with_constraints, \"optimize depth\")\n",
    "quantum_program = synthesize(quantum_model_with_constraints)"
   ]
  },
  {
   "cell_type": "code",
   "execution_count": 94,
   "id": "dfef63dd-c995-4fcb-996c-643e46492aab",
   "metadata": {},
   "outputs": [
    {
     "name": "stdout",
     "output_type": "stream",
     "text": [
      "The circuit width is 22 and the circuit_depth is 1894\n"
     ]
    }
   ],
   "source": [
    "circuit_width = QuantumProgram.from_qprog(quantum_program).data.width\n",
    "circuit_depth = QuantumProgram.from_qprog(quantum_program).transpiled_circuit.depth\n",
    "print(f\"The circuit width is {circuit_width} and the circuit_depth is {circuit_depth}\")"
   ]
  },
  {
   "cell_type": "code",
   "execution_count": 95,
   "id": "4e1fb8a4-d25a-4e1d-856c-44982a1e1e7c",
   "metadata": {},
   "outputs": [
    {
     "name": "stdout",
     "output_type": "stream",
     "text": [
      "Opening: https://platform.classiq.io/circuit/d6f2e4e2-2724-48b0-aefe-d969f4ddf564?version=0.42.2\n"
     ]
    }
   ],
   "source": [
    "show(quantum_program)"
   ]
  },
  {
   "cell_type": "code",
   "execution_count": 102,
   "id": "90fee592-52c2-4548-86a4-9a7ac4842a7d",
   "metadata": {},
   "outputs": [],
   "source": [
    "#b.3\n",
    "quantum_model = create_model(main)\n",
    "quantum_model_with_constraints = set_constraints( quantum_model, Constraints(optimization_parameter=\"width\", max_depth=470 ) )\n",
    "write_qmod(quantum_model_with_constraints, \"optimize depth\")\n",
    "quantum_program = synthesize(quantum_model_with_constraints)"
   ]
  },
  {
   "cell_type": "code",
   "execution_count": 103,
   "id": "4cdca1a3-acc3-4e12-93a6-9ee113901769",
   "metadata": {},
   "outputs": [
    {
     "name": "stdout",
     "output_type": "stream",
     "text": [
      "The circuit width is 27 and the circuit_depth is 315\n"
     ]
    }
   ],
   "source": [
    "circuit_width = QuantumProgram.from_qprog(quantum_program).data.width\n",
    "circuit_depth = QuantumProgram.from_qprog(quantum_program).transpiled_circuit.depth\n",
    "print(f\"The circuit width is {circuit_width} and the circuit_depth is {circuit_depth}\")"
   ]
  },
  {
   "cell_type": "code",
   "execution_count": 104,
   "id": "9dd978b5-b057-4864-8d55-c1873ca50033",
   "metadata": {},
   "outputs": [
    {
     "name": "stdout",
     "output_type": "stream",
     "text": [
      "Opening: https://platform.classiq.io/circuit/ec79c62b-b3d0-4788-9e0b-09d035bc00f3?version=0.42.2\n"
     ]
    }
   ],
   "source": [
    "show(quantum_program)"
   ]
  },
  {
   "cell_type": "code",
   "execution_count": null,
   "id": "0d663503-fab3-4b3b-bc09-aab3d18396cf",
   "metadata": {},
   "outputs": [],
   "source": []
  }
 ],
 "metadata": {
  "kernelspec": {
   "display_name": "Python 3 (ipykernel)",
   "language": "python",
   "name": "python3"
  },
  "language_info": {
   "codemirror_mode": {
    "name": "ipython",
    "version": 3
   },
   "file_extension": ".py",
   "mimetype": "text/x-python",
   "name": "python",
   "nbconvert_exporter": "python",
   "pygments_lexer": "ipython3",
   "version": "3.9.12"
  }
 },
 "nbformat": 4,
 "nbformat_minor": 5
}

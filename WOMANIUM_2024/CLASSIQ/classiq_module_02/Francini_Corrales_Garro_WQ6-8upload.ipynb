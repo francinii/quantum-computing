{
 "cells": [
  {
   "cell_type": "code",
   "execution_count": 2,
   "id": "d351e651-fb5a-4e13-a441-ac6569874508",
   "metadata": {},
   "outputs": [
    {
     "name": "stderr",
     "output_type": "stream",
     "text": [
      "The current version of 'classiq' has been deprecated, and will not be supported as of 2024-07-27. Please run \"pip install -U classiq\" to upgrade the classiq SDK to the latest version.\n",
      "C:\\Users\\panch\\Documents\\QUANTUM_COMPUTING\\WOMANIUM\\womanium-env\\lib\\site-packages\\classiq\\_internals\\authentication\\token_manager.py:96: UserWarning: Device is already registered.\n",
      "Generating a new refresh token should only be done if the current refresh token is compromised.\n",
      "To do so, set the overwrite parameter to true\n",
      "  warnings.warn(\n"
     ]
    }
   ],
   "source": [
    "import classiq\n",
    "import matplotlib.pyplot as plt\n",
    "classiq.authenticate()"
   ]
  },
  {
   "cell_type": "markdown",
   "id": "1378d9eb-5831-44ef-aae3-805d2082ac46",
   "metadata": {},
   "source": [
    "# Assignment   \n",
    "\n",
    "\n",
    "Code the algorithm of the Hadamard test that we covered in class using the Python SDK (below is a print screen of the Qmod for your convenience). Execute it from the SDK using 1,000 , 2,000 , 4,000 , 8,000 and 16,000 shots, and for each job calculate the (real part of the) expectation value using the formula  Re { <0 | Usub qft | 0 > } = 2P(0)-1\n",
    ".\n",
    "Plot a graph of the expectation value as a function of the number of shots. Add the theoretical value to the graph. Explain the results. "
   ]
  },
  {
   "cell_type": "code",
   "execution_count": 3,
   "id": "05d16b86-1b65-4a1e-b996-679c96b0087d",
   "metadata": {},
   "outputs": [],
   "source": [
    "from classiq import *\n",
    "\n",
    "@qfunc\n",
    "def main(expectation_value: Output[QBit], psi: Output[QArray[QBit]]):\n",
    "    \"\"\"\n",
    "    6.8 Assignment: Quantum Primitives 1 (Session: June 26) Classiq Certificate 2    \n",
    "    Hadamard Test Exercise 01 \n",
    "    Francini Corrales Garro\n",
    "    Part 1\n",
    "    Creating the Hadamard test\n",
    "    \"\"\"\n",
    "    allocate(1, expectation_value);    \n",
    "    allocate(4, psi);\n",
    "    H(expectation_value);\n",
    "    control(ctrl=expectation_value, operand = lambda: qft(psi) );\n",
    "    H(expectation_value);\n",
    "\n"
   ]
  },
  {
   "cell_type": "code",
   "execution_count": 4,
   "id": "76322876-77eb-4012-8a8b-e6383305e9b0",
   "metadata": {},
   "outputs": [
    {
     "name": "stdout",
     "output_type": "stream",
     "text": [
      "The job on the provider Classiq on the backend simulator with 1000 shots is QUEUED can be accessed in the IDE with this URL: https://platform.classiq.io/jobs/c5d618b4-f9e5-4c99-8354-ac34c76b28e6\n",
      "The job on the provider Classiq on the backend simulator with 2000 shots is QUEUED can be accessed in the IDE with this URL: https://platform.classiq.io/jobs/50722a28-69b9-4ce6-9602-af1abd7eed45\n",
      "The job on the provider Classiq on the backend simulator with 4000 shots is QUEUED can be accessed in the IDE with this URL: https://platform.classiq.io/jobs/d59b74db-87a4-4c7f-a62b-880f2d4818ec\n",
      "The job on the provider Classiq on the backend simulator with 8000 shots is QUEUED can be accessed in the IDE with this URL: https://platform.classiq.io/jobs/dcd29fff-9550-41cd-ac5e-74d7e0525901\n",
      "The job on the provider Classiq on the backend simulator with 16000 shots is QUEUED can be accessed in the IDE with this URL: https://platform.classiq.io/jobs/50743f10-4a62-4ced-9b3d-64db1e67040f\n"
     ]
    }
   ],
   "source": [
    "\"\"\"\n",
    "    6.8 Assignment: Quantum Primitives 1 (Session: June 26) Classiq Certificate 2    \n",
    "    Hadamard Test Exercise 01 \n",
    "    Francini Corrales Garro\n",
    "    Part 2 \n",
    "    Running n number of shots 1000 2000 4000 8000 16000\n",
    "\"\"\"\n",
    "from classiq.execution import ExecutionPreferences\n",
    "\n",
    "shots_test = [1000,2000,4000,8000, 16000]\n",
    "jobs = []\n",
    "\n",
    "for num_shots in shots_test:\n",
    "    quantum_model = create_model(main)\n",
    "    quantum_model_with_execution_preferences = set_execution_preferences(\n",
    "        quantum_model, ExecutionPreferences(num_shots=num_shots, job_name=\"classiq shot with: \"+ str(num_shots)),\n",
    "    )\n",
    "    quantum_program_with_execution_preferences = synthesize(quantum_model_with_execution_preferences)\n",
    "    job = execute(quantum_program_with_execution_preferences)\n",
    "    print( f\"The job on the provider {job.provider} on the backend {job.backend_name} with {job.num_shots} shots is {job.status} can be accessed in the IDE with this URL: {job.ide_url}\")\n",
    "    jobs.append(job)\n",
    "\n",
    "\n"
   ]
  },
  {
   "cell_type": "code",
   "execution_count": 4,
   "id": "e6c56b4b-1f64-4b5d-887a-b88ce2438063",
   "metadata": {},
   "outputs": [
    {
     "name": "stdout",
     "output_type": "stream",
     "text": [
      "Number of shots: 1000     P(0): 0.645    P(1): 0.355     Real part of the expectation value: 0.29000000000000004\n",
      "Number of shots: 2000     P(0): 0.627    P(1): 0.373     Real part of the expectation value: 0.254\n",
      "Number of shots: 4000     P(0): 0.6244285714285714    P(1): 0.37557142857142856     Real part of the expectation value: 0.2488571428571429\n",
      "Number of shots: 8000     P(0): 0.6264666666666666    P(1): 0.37353333333333333     Real part of the expectation value: 0.25293333333333323\n",
      "Number of shots: 16000     P(0): 0.6214838709677419    P(1): 0.37851612903225806     Real part of the expectation value: 0.24296774193548387\n"
     ]
    }
   ],
   "source": [
    "\"\"\"\n",
    "    6.8 Assignment: Quantum Primitives 1 (Session: June 26) Classiq Certificate 2    \n",
    "    Hadamard Test Exercise 01 \n",
    "    Francini Corrales Garro\n",
    "    Part 3 \n",
    "    Getting the real expected value for each set of runs \n",
    "    Return a set of data with the required infomation to the expectation value\n",
    "\"\"\"\n",
    "\n",
    "suma_0 = 0\n",
    "suma_1 = 0\n",
    "_cont = 0\n",
    "_data = [] \n",
    "for job in jobs:\n",
    "    results = job.result()[0].value\n",
    "    resultados = results.parsed_counts\n",
    "    \n",
    "    for resultado in resultados:\n",
    "        expectation_value = resultado.state['expectation_value']\n",
    "        shots = resultado.shots    \n",
    "        if expectation_value== 0.0:\n",
    "            suma_0 += shots\n",
    "        elif expectation_value == 1.0:\n",
    "            suma_1 += shots\n",
    "    \n",
    "    final_result = [\n",
    "        {'expectation_value': 0.0, 'count': suma_0},\n",
    "        {'expectation_value': 1.0, 'count': suma_1}]\n",
    "\n",
    "    total = final_result[0]['count'] + final_result[1]['count']\n",
    "    p0 =  int(final_result[0]['count']) / total\n",
    "    p1 = int(final_result[1]['count']) /total\n",
    "    real_part = 2*p0 - 1\n",
    "    print('Number of shots: ' + str(shots_test[_cont]) +'     P(0): ' + str(p0) + '    P(1): ' + str(p1) + '     Real part of the expectation value: '+ str(real_part))\n",
    "    _data.append({ 'number_shots':shots_test[_cont], 'P0':p0, 'P1':p1, 'real_part':real_part})\n",
    "    #hipotesis =0.5\n",
    "    _cont +=1"
   ]
  },
  {
   "cell_type": "code",
   "execution_count": 8,
   "id": "c7aeac68-d047-4547-9408-07e9742cfc2f",
   "metadata": {},
   "outputs": [],
   "source": [
    "#_data"
   ]
  },
  {
   "cell_type": "code",
   "execution_count": 6,
   "id": "0dcf3b81-d50d-45df-af7c-865a7f845048",
   "metadata": {},
   "outputs": [
    {
     "data": {
      "image/png": "[encoded data removed]",
      "text/plain": [
       "<Figure size 1000x600 with 1 Axes>"
      ]
     },
     "metadata": {},
     "output_type": "display_data"
    }
   ],
   "source": [
    "# Getting values for axis\n",
    "number_shots = [item['number_shots'] for item in _data]\n",
    "real_part = [item['real_part'] for item in _data]\n",
    "theoretical_value = 0.25\n",
    "# Building graph\n",
    "plt.figure(figsize=(10, 6))\n",
    "plt.plot(number_shots, real_part, marker='o', linestyle='-', color='b')\n",
    "plt.axhline(y=theoretical_value, color='r', linestyle='--', label='Teorethical value')\n",
    "\n",
    "# Etiquetas y título del gráfico\n",
    "plt.xlabel('Number of shots')\n",
    "plt.ylabel('Real part of expecting value')\n",
    "plt.title('Expectation value by shots')\n",
    "plt.grid(True)\n",
    "plt.show()"
   ]
  },
  {
   "cell_type": "markdown",
   "id": "d747eb94-a99b-42a2-8210-0d7839669f55",
   "metadata": {},
   "source": [
    "## Explanation\n",
    "The hadamard test is use to estimate the real part of the expectation value of a nunitary operator.\n",
    "As the number of shots increases, the estimation of the real part of the expectation value gets closer to the theoretical value. If we make more measurements the uncertainty should be less.\n"
   ]
  },
  {
   "cell_type": "code",
   "execution_count": 7,
   "id": "41149c98-495c-468f-97f9-c77d79888bbe",
   "metadata": {},
   "outputs": [],
   "source": [
    "#print(results.counts)\n",
    "#print(results.parsed_states)\n",
    "#print(results.counts_lsb_right)\n",
    "#write_qmod(quantum_model_with_execution_preferences, \"execute\")\n",
    "#show(quantum_program_with_execution_preferences)"
   ]
  }
 ],
 "metadata": {
  "kernelspec": {
   "display_name": "Python 3 (ipykernel)",
   "language": "python",
   "name": "python3"
  },
  "language_info": {
   "codemirror_mode": {
    "name": "ipython",
    "version": 3
   },
   "file_extension": ".py",
   "mimetype": "text/x-python",
   "name": "python",
   "nbconvert_exporter": "python",
   "pygments_lexer": "ipython3",
   "version": "3.9.12"
  }
 },
 "nbformat": 4,
 "nbformat_minor": 5
}

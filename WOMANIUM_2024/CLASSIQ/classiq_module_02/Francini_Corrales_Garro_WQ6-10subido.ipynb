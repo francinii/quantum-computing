{
 "cells": [
  {
   "cell_type": "markdown",
   "id": "58232af5-0aa0-4cda-aa2e-8c3487a9d237",
   "metadata": {},
   "source": [
    "### Classiq homework 6.10\n",
    "### Francini Corrales Garro\n",
    "\n",
    "Apply the non-unitary matrix (as follow) on a 1-qubit quantum state which has a 0.3 probability being measured in the zero state |0〉.\n",
    "$$ \\left(\\begin{array}{cc} 1 & 0\\\\ 0 & 0  \\end{array}\\right)  $$"
   ]
  },
  {
   "cell_type": "markdown",
   "id": "a5fe8414-274b-4f3c-8acb-754863688945",
   "metadata": {},
   "source": [
    "## Answer \n",
    "\n",
    "### Step 1 \n",
    "To implement the no unitary matrix is required to set up this non unitary matrix as a sum of unitary matrix\n",
    "\n",
    "$$\n",
    "\\left(\\begin{array}{cc} 1 & 0\\\\ 0 & 0  \\end{array}\\right) = \\frac{1}{2} \\left(\\begin{array}{cc}  1 & 0\\\\ 0 & 1 \\end{array}\\right) +\n",
    "\\frac{1}{2} \\left(\\begin{array}{cc}  1 & 0\\\\  0 & -1 \\end{array}\\right) $$ \n",
    "\n",
    "### Step 2 \n",
    "We can notices that this unitary matrix correspond to the Identity matrix and the Z matrix.\n",
    "\n",
    "Also we can extract the respectively alphas from the equation\n",
    "In this case the vector_probabilities= [0.5, 0.5]\n",
    "\n",
    "### Step 3\n",
    "Prepare the initial phi state on [0.3, 0,7]"
   ]
  },
  {
   "cell_type": "code",
   "execution_count": 59,
   "id": "6833f80d-1ff3-4b11-a96b-edf44b3a83fe",
   "metadata": {},
   "outputs": [
    {
     "name": "stdout",
     "output_type": "stream",
     "text": [
      "Opening: https://platform.classiq.io/circuit/97aff064-d575-4a4a-9c5b-3db5ed4cabac?version=0.42.2\n"
     ]
    }
   ],
   "source": [
    "from classiq import *\n",
    "import numpy as np\n",
    "@qfunc\n",
    "def lcu_controllers(controller: QNum, psi: QNum):\n",
    "    # apply the Identity matrix according  to the above equation\n",
    "    control(ctrl=controller == 0, operand=lambda: apply_to_all(IDENTITY, psi))\n",
    "    # apply the Z-Pauli matrix according the equation\n",
    "    control(ctrl=controller == 1, operand=lambda: apply_to_all(Z, psi))\n",
    " \n",
    "@qfunc\n",
    "def main(controller: Output[QNum], psi: Output[QNum]):\n",
    "    # Defining the error bound and probability distribution\n",
    "    error_bound = 0.01\n",
    "\n",
    "    # Set up the alpha probabilities\n",
    "    controller_probabilities = [0.5, 0.5]\n",
    "    \n",
    "    \n",
    "    # Initialize the psi state 0.3 probability of being in the |0> state   \n",
    "    probabilities = [0.3, 0.7]\n",
    "    prepare_state(probabilities=probabilities, bound=error_bound, out=psi)\n",
    "    \n",
    "    # Allocating the controll qubit\n",
    "    allocate(1, controller)\n",
    "   \n",
    "    \n",
    "    # Executing the Within-Apply function, the SELECT function is defined by lcu_controllers and the PREPARE function is defined by the inplace_prepare_state function.\n",
    "    within_apply(\n",
    "        compute=lambda: inplace_prepare_state(\n",
    "            probabilities=controller_probabilities, bound=error_bound, target=controller\n",
    "        ),\n",
    "        action=lambda: lcu_controllers(controller, psi),\n",
    "    )\n",
    "\n",
    "\n",
    "quantum_model = create_model(main)\n",
    "quantum_program = synthesize(quantum_model)\n",
    "\n",
    "show(quantum_program)"
   ]
  },
  {
   "cell_type": "code",
   "execution_count": null,
   "id": "3f236d43-e8f5-4fb9-9070-1fc525290547",
   "metadata": {},
   "outputs": [],
   "source": []
  }
 ],
 "metadata": {
  "kernelspec": {
   "display_name": "Python 3 (ipykernel)",
   "language": "python",
   "name": "python3"
  },
  "language_info": {
   "codemirror_mode": {
    "name": "ipython",
    "version": 3
   },
   "file_extension": ".py",
   "mimetype": "text/x-python",
   "name": "python",
   "nbconvert_exporter": "python",
   "pygments_lexer": "ipython3",
   "version": "3.9.12"
  }
 },
 "nbformat": 4,
 "nbformat_minor": 5
}

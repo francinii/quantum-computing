{
 "cells": [
  {
   "cell_type": "markdown",
   "id": "educational-petersburg",
   "metadata": {},
   "source": [
    "# Instructions\n",
    "\n",
    "The places where you have enter code, to answer the questions, are marked with `# YOUR CODE HERE`."
   ]
  },
  {
   "cell_type": "markdown",
   "id": "fedb9ec3",
   "metadata": {},
   "source": [
    "## Question 1 (6 points)\n",
    "\n",
    "Given the following QUBO, complete the function `create_bqm` so that it returns the corresponding BQM.\n",
    "\n",
    "$$- 7x_1 - 2x_2 - 10x_3 - 4x_4 + 5x_1x_2 + 3x_1x_3 + 6x_2x_3 - 8x_3x_4 - 2$$\n",
    "\n",
    "\n",
    "The function `create_bqm` has\n",
    "\n",
    "- Input: None\n",
    "- Returns:\n",
    "    - A BQM instance\n"
   ]
  },
  {
   "cell_type": "code",
   "execution_count": 12,
   "id": "e6193cdb",
   "metadata": {
    "deletable": false,
    "nbgrader": {
     "cell_type": "code",
     "checksum": "a4ac8774577151fdadef7d49d7a8ffdb",
     "grade": false,
     "grade_id": "cell-519783454f9c6523",
     "locked": false,
     "schema_version": 3,
     "solution": true
    }
   },
   "outputs": [],
   "source": [
    "from dimod import BQM\n",
    "\n",
    "def create_bqm():\n",
    "    # YOUR CODE HERE\n",
    "    linear = {\"x1\": -7, \"x2\": -2, \"x3\": -10, \"x4\": -4}\n",
    "    quadratic = {(\"x1\", \"x2\"): 5, (\"x1\", \"x3\"): 3, (\"x2\", \"x3\"): 6, (\"x3\", \"x4\"): -8}\n",
    "    offset = -2\n",
    "    vartype = \"BINARY\"\n",
    "    bqm = BQM(linear, quadratic, offset, vartype)\n",
    "    # Do not modify anything below this line\n",
    "    return bqm"
   ]
  },
  {
   "cell_type": "code",
   "execution_count": 13,
   "id": "8b2ef48a",
   "metadata": {},
   "outputs": [
    {
     "name": "stdout",
     "output_type": "stream",
     "text": [
      "BinaryQuadraticModel({'x1': -7.0, 'x2': -2.0, 'x3': -10.0, 'x4': -4.0}, {('x2', 'x1'): 5.0, ('x3', 'x1'): 3.0, ('x3', 'x2'): 6.0, ('x4', 'x3'): -8.0}, -2.0, 'BINARY')\n"
     ]
    }
   ],
   "source": [
    "# You can use this cell to call and check the output of the function\n",
    "\n",
    "print(create_bqm())"
   ]
  },
  {
   "cell_type": "code",
   "execution_count": null,
   "id": "e1587a50",
   "metadata": {
    "deletable": false,
    "editable": false,
    "nbgrader": {
     "cell_type": "code",
     "checksum": "7a286b598bbe89fab85db133ff6c0861",
     "grade": true,
     "grade_id": "cell-bfefd43bc32d56e6",
     "locked": true,
     "points": 6,
     "schema_version": 3,
     "solution": false
    }
   },
   "outputs": [],
   "source": [
    "# hidden tests will be used for grading."
   ]
  },
  {
   "cell_type": "markdown",
   "id": "6fc9152d",
   "metadata": {},
   "source": [
    "## Question 2 (6 points)\n",
    "\n",
    "Function `solve_Q` takes as input a matrix representation of a QUBO formulation. Complete the function `solve_Q` so that it returns the solution to the given problem. Use D-Wave's `ExactSolver()`.\n",
    "\n",
    "\n",
    "The function `solve_Q` has\n",
    "\n",
    "- Input:\n",
    "    - Q matrix representation of QUBO as an `numpy.array`.\n",
    "- Returns:\n",
    "    - Sample with the lowest energy (first sample of the SampleSet)\n"
   ]
  },
  {
   "cell_type": "code",
   "execution_count": 16,
   "id": "cce12dad",
   "metadata": {
    "deletable": false,
    "nbgrader": {
     "cell_type": "code",
     "checksum": "e04ceea9ff373ea4efa237e70f956d03",
     "grade": false,
     "grade_id": "cell-c6fc493496abe710",
     "locked": false,
     "schema_version": 3,
     "solution": true
    }
   },
   "outputs": [],
   "source": [
    "from dimod import BQM\n",
    "\n",
    "\n",
    "def solve_Q(Q):\n",
    "    # YOUR CODE HERE\n",
    "    bqm_np = BQM(Q, \"BINARY\")\n",
    "    #print(bqm_np)\n",
    "    # Do not modify anything below this line\n",
    "    sampler = ExactSolver()\n",
    "    sampleset = sampler.sample(bqm_np)    \n",
    "    return sampleset.first"
   ]
  },
  {
   "cell_type": "code",
   "execution_count": 17,
   "id": "7e561dd7",
   "metadata": {},
   "outputs": [
    {
     "name": "stdout",
     "output_type": "stream",
     "text": [
      "Sample(sample={0: 0, 1: 0}, energy=0.0, num_occurrences=1)\n"
     ]
    }
   ],
   "source": [
    "# You can use this cell to call and check the output of the function\n",
    "import numpy as np\n",
    "from dimod.reference.samplers import ExactSolver\n",
    "\n",
    "\n",
    "Q = np.array([[1, 1], [0, 1]])\n",
    "print(solve_Q(Q))"
   ]
  },
  {
   "cell_type": "code",
   "execution_count": 3,
   "id": "9793fb7a",
   "metadata": {
    "deletable": false,
    "editable": false,
    "nbgrader": {
     "cell_type": "code",
     "checksum": "846b0a64cace0d7572f2263fe479fe53",
     "grade": true,
     "grade_id": "cell-bddecad407041e7b",
     "locked": true,
     "points": 6,
     "schema_version": 3,
     "solution": false
    }
   },
   "outputs": [],
   "source": [
    "# hidden tests will be used for grading."
   ]
  },
  {
   "cell_type": "markdown",
   "id": "17843fc3",
   "metadata": {},
   "source": [
    "## Question 3 (6 points)\n",
    "\n",
    "You are given a graph $G$ in the next cell where the nodes are labeled $0,1,\\dots,8$. Create a BQM with `SPIN` variables to solve Max-Cut problem for the given graph. Variables should be named with the name of the correspoding node.\n",
    "\n",
    "The function `max_cut` has\n",
    "\n",
    "- Input: None \n",
    "- Returns:\n",
    "    - BQM with SPIN variables for graph `G`\n"
   ]
  },
  {
   "cell_type": "code",
   "execution_count": 22,
   "id": "a5592fb5",
   "metadata": {},
   "outputs": [
    {
     "data": {
      "text/plain": [
       "EdgeView([(0, 1), (0, 2), (0, 3), (1, 2), (1, 3), (2, 3), (3, 4), (4, 5), (5, 6), (6, 7), (7, 8)])"
      ]
     },
     "execution_count": 22,
     "metadata": {},
     "output_type": "execute_result"
    },
    {
     "data": {
      "image/png": "[encoded data removed]",
      "text/plain": [
       "<Figure size 640x480 with 1 Axes>"
      ]
     },
     "metadata": {},
     "output_type": "display_data"
    }
   ],
   "source": [
    "import networkx as nx\n",
    "\n",
    "G = nx.lollipop_graph(4, 5)\n",
    "nx.draw(G, with_labels=True)\n",
    "G.edges"
   ]
  },
  {
   "cell_type": "code",
   "execution_count": 28,
   "id": "e04b999b",
   "metadata": {
    "deletable": false,
    "nbgrader": {
     "cell_type": "code",
     "checksum": "9fb1431db7d41d1d0dce4cd65b6db9df",
     "grade": false,
     "grade_id": "cell-04b50f7066c6da97",
     "locked": false,
     "schema_version": 3,
     "solution": true
    }
   },
   "outputs": [],
   "source": [
    "from dimod import BQM\n",
    "\n",
    "\n",
    "def max_cut():\n",
    "    h = {}\n",
    "    J = {}\n",
    "    \n",
    "    for i, j in G.edges:\n",
    "        J[(i, j)] = 1\n",
    "    \n",
    "    #print(\"h:\", h)\n",
    "    #print(\"J:\", J)\n",
    "    bqm = BQM.from_ising(h, J)\n",
    "    \n",
    "    # YOUR CODE HERE\n",
    "    # Do not modify anything below this line\n",
    "    return bqm"
   ]
  },
  {
   "cell_type": "code",
   "execution_count": 29,
   "id": "c19ddac9",
   "metadata": {},
   "outputs": [
    {
     "name": "stdout",
     "output_type": "stream",
     "text": [
      "BinaryQuadraticModel({0: 0.0, 1: 0.0, 2: 0.0, 3: 0.0, 4: 0.0, 5: 0.0, 6: 0.0, 7: 0.0, 8: 0.0}, {(1, 0): 1.0, (2, 0): 1.0, (2, 1): 1.0, (3, 0): 1.0, (3, 1): 1.0, (3, 2): 1.0, (4, 3): 1.0, (5, 4): 1.0, (6, 5): 1.0, (7, 6): 1.0, (8, 7): 1.0}, 0.0, 'SPIN')\n"
     ]
    }
   ],
   "source": [
    "# You can use this cell to call and check the output of the function\n",
    "print(max_cut())"
   ]
  },
  {
   "cell_type": "code",
   "execution_count": null,
   "id": "42f66c03",
   "metadata": {
    "deletable": false,
    "editable": false,
    "nbgrader": {
     "cell_type": "code",
     "checksum": "4b940c935a9203e433a62eda7bd0415b",
     "grade": true,
     "grade_id": "cell-c0db5152684f0877",
     "locked": true,
     "points": 6,
     "schema_version": 3,
     "solution": false
    }
   },
   "outputs": [],
   "source": [
    "# hidden tests will be used for grading.\n",
    "# If this cell results in an error, your implementation is incorrect"
   ]
  },
  {
   "cell_type": "code",
   "execution_count": null,
   "id": "b822a8a2-96be-4584-9e4e-7b388d453d24",
   "metadata": {},
   "outputs": [],
   "source": []
  }
 ],
 "metadata": {
  "kernelspec": {
   "display_name": "Python 3 (ipykernel)",
   "language": "python",
   "name": "python3"
  },
  "language_info": {
   "codemirror_mode": {
    "name": "ipython",
    "version": 3
   },
   "file_extension": ".py",
   "mimetype": "text/x-python",
   "name": "python",
   "nbconvert_exporter": "python",
   "pygments_lexer": "ipython3",
   "version": "3.9.12"
  }
 },
 "nbformat": 4,
 "nbformat_minor": 5
}

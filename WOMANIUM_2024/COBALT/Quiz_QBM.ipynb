{
 "cells": [
  {
   "cell_type": "code",
   "execution_count": 2,
   "id": "c7a1cf4a-edd3-4e86-a098-a5c592b07a7c",
   "metadata": {},
   "outputs": [
    {
     "ename": "ModuleNotFoundError",
     "evalue": "No module named 'bqm_utils'",
     "output_type": "error",
     "traceback": [
      "\u001b[1;31m---------------------------------------------------------------------------\u001b[0m",
      "\u001b[1;31mModuleNotFoundError\u001b[0m                       Traceback (most recent call last)",
      "Cell \u001b[1;32mIn[2], line 11\u001b[0m\n\u001b[0;32m      7\u001b[0m \u001b[38;5;28;01mimport\u001b[39;00m \u001b[38;5;21;01mnetworkx\u001b[39;00m \u001b[38;5;28;01mas\u001b[39;00m \u001b[38;5;21;01mnx\u001b[39;00m\n\u001b[0;32m      8\u001b[0m \u001b[38;5;28;01mfrom\u001b[39;00m \u001b[38;5;21;01mdimod\u001b[39;00m\u001b[38;5;21;01m.\u001b[39;00m\u001b[38;5;21;01mreference\u001b[39;00m\u001b[38;5;21;01m.\u001b[39;00m\u001b[38;5;21;01msamplers\u001b[39;00m \u001b[38;5;28;01mimport\u001b[39;00m ExactSolver\n\u001b[1;32m---> 11\u001b[0m \u001b[38;5;28;01mfrom\u001b[39;00m \u001b[38;5;21;01mbqm_utils\u001b[39;00m \u001b[38;5;28;01mimport\u001b[39;00m graph_viz, maxcut_viz\n",
      "\u001b[1;31mModuleNotFoundError\u001b[0m: No module named 'bqm_utils'"
     ]
    }
   ],
   "source": [
    "from collections import defaultdict\n",
    "\n",
    "import dimod\n",
    "from dimod import BQM\n",
    "import dwave_networkx as dnx\n",
    "import matplotlib.pyplot as plt\n",
    "import networkx as nx\n",
    "from dimod.reference.samplers import ExactSolver\n",
    "\n",
    "\n",
    "from bqm_utils import graph_viz, maxcut_viz"
   ]
  },
  {
   "cell_type": "code",
   "execution_count": null,
   "id": "90b9b625-a43f-477d-99f8-07df95c7fc4c",
   "metadata": {},
   "outputs": [],
   "source": [
    "import networkx as nx\n",
    "G = nx.turan_graph(4, 4)\n"
   ]
  },
  {
   "cell_type": "code",
   "execution_count": null,
   "id": "4d264dda-a4da-4002-8c1d-e74b882b7676",
   "metadata": {},
   "outputs": [],
   "source": [
    "#graph_viz(G)"
   ]
  },
  {
   "cell_type": "code",
   "execution_count": 12,
   "id": "2b4143d1-f8d0-4950-a2d5-81452cbba5d0",
   "metadata": {},
   "outputs": [
    {
     "name": "stdout",
     "output_type": "stream",
     "text": [
      "{0, 1}\n"
     ]
    }
   ],
   "source": [
    "sampler = ExactSolver()\n",
    "\n",
    "cut = dnx.maximum_cut(G, sampler)\n",
    "print(cut)"
   ]
  },
  {
   "cell_type": "code",
   "execution_count": null,
   "id": "71af67f0-f0a7-44b5-8300-7d585bfed8e8",
   "metadata": {},
   "outputs": [],
   "source": []
  }
 ],
 "metadata": {
  "kernelspec": {
   "display_name": "Python 3 (ipykernel)",
   "language": "python",
   "name": "python3"
  },
  "language_info": {
   "codemirror_mode": {
    "name": "ipython",
    "version": 3
   },
   "file_extension": ".py",
   "mimetype": "text/x-python",
   "name": "python",
   "nbconvert_exporter": "python",
   "pygments_lexer": "ipython3",
   "version": "3.9.12"
  }
 },
 "nbformat": 4,
 "nbformat_minor": 5
}

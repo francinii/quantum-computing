{
 "cells": [
  {
   "cell_type": "markdown",
   "metadata": {},
   "source": [
    "Before you turn this lab in, make sure everything runs as expected. **Restart and run all cells** (in the menubar, select Kernel$\\rightarrow$Restart & Run All) then check the output is as expected and there are no errors.  Also remember to **Save** before uploading this file (File$\\rightarrow$Save and Checkpoint)."
   ]
  },
  {
   "cell_type": "markdown",
   "metadata": {},
   "source": [
    "---"
   ]
  },
  {
   "cell_type": "markdown",
   "metadata": {},
   "source": [
    "# <div align=\"center\">Quantum Computer Systems Design</div>&nbsp;  <div align=\"center\">Lab 6</div>\n",
    "\n",
    "In the videos, we looked at three key compilation passes to transform input passes to executable programs on quantum hardware: mapping, scheduling, and routing. For this lab, we will assume all 1 and 2 qubit gates are executable on hardware, i.e. there is no need to resynthesize etc. In this lab, you will implement a simple pass to accomplish each of these tasks. This will most likely take longer than previous labs, so start early. \n",
    "\n",
    "In part 1 you will implement a mapper: given a target hardware connectivity graph and an input program, map the qubits to the hardware in an efficient way (i.e. qubits which interact frequently should be mapped closely together). In part 2 you will implement a simple router: given a mapped program and the program route operations in an efficient way (use as few SWAPs as possible to shift qubits around the device); here we will assume a move there, execute 2 qubit gate, move back strategy. In part 3 you will schedule your gates to minimize the total execution time of the program: given execution times for each of the gates, assign start times to each gate to minimize total execution time.\n",
    "\n",
    "\n",
    "Grading: There are a lot of optimizations which can be made in each of these functions. The grading for this assignment will be 2-fold. Passes which output correct circuits without too much overhead will receive full credit (e.g. don't write very naive solutions which add too many swaps or schedule 2x as long as needed).\n",
    "\n",
    "\n",
    "# 0.1. Programs For Development\n",
    "\n",
    "Below is the same code from last lab which generates the Cuccarro Adder. You're welcome to use this circuit, which has been decomposed into 1 and 2 qubit gates, or any other as you develop your compilation passes. You can adjust the size of the below program `qiskit.transpile(generate_adder_circuit(4), basis_gates=['cx', 'rx', 'h', 'rz'])` by changing the `4` to some other even number for larger circuits. We suggest testing on small circuits however. Even simpler circuits containing only a small number of CNOTs may be beneficial. The grader tests might use programs you have not seen before."
   ]
  },
  {
   "cell_type": "code",
   "execution_count": 1,
   "metadata": {},
   "outputs": [],
   "source": [
    "import numpy as np\n",
    "import networkx as nx\n",
    "import qiskit\n",
    "from qiskit import QuantumCircuit, ClassicalRegister, QuantumRegister, execute\n",
    "from qiskit.circuit.quantumregister import Qubit\n",
    "from IPython.display import display\n",
    "\n",
    "from typing import Dict, Any, List"
   ]
  },
  {
   "cell_type": "code",
   "execution_count": 2,
   "metadata": {},
   "outputs": [
    {
     "name": "stdout",
     "output_type": "stream",
     "text": [
      "Cuccaro Adder:\n"
     ]
    },
    {
     "data": {
      "text/html": [
       "<pre style=\"word-wrap: normal;white-space: pre;background: #fff0;line-height: 1.1;font-family: &quot;Courier New&quot;,Courier,monospace\">     ┌──────┐     ┌───────┐\n",
       "q_0: ┤0     ├─────┤0      ├\n",
       "     │      │     │       │\n",
       "q_1: ┤2 MAJ ├──■──┤2 UMA3 ├\n",
       "     │      │  │  │       │\n",
       "q_2: ┤1     ├──┼──┤1      ├\n",
       "     └──────┘┌─┴─┐└───────┘\n",
       "q_3: ────────┤ X ├─────────\n",
       "             └───┘         </pre>"
      ],
      "text/plain": [
       "     ┌──────┐     ┌───────┐\n",
       "q_0: ┤0     ├─────┤0      ├\n",
       "     │      │     │       │\n",
       "q_1: ┤2 MAJ ├──■──┤2 UMA3 ├\n",
       "     │      │  │  │       │\n",
       "q_2: ┤1     ├──┼──┤1      ├\n",
       "     └──────┘┌─┴─┐└───────┘\n",
       "q_3: ────────┤ X ├─────────\n",
       "             └───┘         "
      ]
     },
     "metadata": {},
     "output_type": "display_data"
    },
    {
     "data": {
      "text/html": [
       "<pre style=\"word-wrap: normal;white-space: pre;background: #fff0;line-height: 1.1;font-family: &quot;Courier New&quot;,Courier,monospace\">global phase: 5π/4\n",
       "          ┌───┐                                                                            ┌─────────┐                                                                                                ┌─────────┐        ┌───┐       \n",
       "q_0: ─────┤ X ├────────────────────────■────────────────────────────────■───────────────■──┤ Rz(π/4) ├───■──────────────────■─────────────────────■────────────────────────────────■───────────────■──┤ Rz(π/4) ├───■────┤ X ├───────\n",
       "          └─┬─┘┌───┐┌───┐┌──────────┐┌─┴─┐┌─────────┐┌───┐┌──────────┐┌─┴─┐┌─────────┐  │  └──┬───┬──┘   │         ┌───┐    │  ┌───┐┌──────────┐┌─┴─┐┌─────────┐┌───┐┌──────────┐┌─┴─┐┌─────────┐  │  └──┬───┬──┘   │    └─┬─┘       \n",
       "q_1: ──■────■──┤ H ├┤ X ├┤ Rz(-π/4) ├┤ X ├┤ Rz(π/4) ├┤ X ├┤ Rz(-π/4) ├┤ X ├┤ Rz(π/4) ├──┼─────┤ H ├──────┼────■────┤ H ├────┼──┤ X ├┤ Rz(-π/4) ├┤ X ├┤ Rz(π/4) ├┤ X ├┤ Rz(-π/4) ├┤ X ├┤ Rz(π/4) ├──┼─────┤ H ├──────┼──────■──────■──\n",
       "     ┌─┴─┐     └───┘└─┬─┘└──────────┘└───┘└─────────┘└─┬─┘├─────────┬┘└───┘└─────────┘┌─┴─┐┌──┴───┴───┐┌─┴─┐  │  ┌─┴───┴─┐┌─┴─┐└─┬─┘└──────────┘└───┘└─────────┘└─┬─┘├─────────┬┘└───┘└─────────┘┌─┴─┐┌──┴───┴───┐┌─┴─┐┌───────┐┌─┴─┐\n",
       "q_2: ┤ X ├────────────■────────────────────────────────■──┤ Rz(π/4) ├─────────────────┤ X ├┤ Rz(-π/4) ├┤ X ├──┼──┤ Rx(π) ├┤ X ├──■────────────────────────────────■──┤ Rz(π/4) ├─────────────────┤ X ├┤ Rz(-π/4) ├┤ X ├┤ Rx(π) ├┤ X ├\n",
       "     └───┘                                                └─────────┘                 └───┘└──────────┘└───┘┌─┴─┐└───────┘└───┘                                      └─────────┘                 └───┘└──────────┘└───┘└───────┘└───┘\n",
       "q_3: ───────────────────────────────────────────────────────────────────────────────────────────────────────┤ X ├────────────────────────────────────────────────────────────────────────────────────────────────────────────────────\n",
       "                                                                                                            └───┘                                                                                                                    </pre>"
      ],
      "text/plain": [
       "global phase: 5π/4\n",
       "          ┌───┐                                                                            ┌─────────┐                                                                                                ┌─────────┐        ┌───┐       \n",
       "q_0: ─────┤ X ├────────────────────────■────────────────────────────────■───────────────■──┤ Rz(π/4) ├───■──────────────────■─────────────────────■────────────────────────────────■───────────────■──┤ Rz(π/4) ├───■────┤ X ├───────\n",
       "          └─┬─┘┌───┐┌───┐┌──────────┐┌─┴─┐┌─────────┐┌───┐┌──────────┐┌─┴─┐┌─────────┐  │  └──┬───┬──┘   │         ┌───┐    │  ┌───┐┌──────────┐┌─┴─┐┌─────────┐┌───┐┌──────────┐┌─┴─┐┌─────────┐  │  └──┬───┬──┘   │    └─┬─┘       \n",
       "q_1: ──■────■──┤ H ├┤ X ├┤ Rz(-π/4) ├┤ X ├┤ Rz(π/4) ├┤ X ├┤ Rz(-π/4) ├┤ X ├┤ Rz(π/4) ├──┼─────┤ H ├──────┼────■────┤ H ├────┼──┤ X ├┤ Rz(-π/4) ├┤ X ├┤ Rz(π/4) ├┤ X ├┤ Rz(-π/4) ├┤ X ├┤ Rz(π/4) ├──┼─────┤ H ├──────┼──────■──────■──\n",
       "     ┌─┴─┐     └───┘└─┬─┘└──────────┘└───┘└─────────┘└─┬─┘├─────────┬┘└───┘└─────────┘┌─┴─┐┌──┴───┴───┐┌─┴─┐  │  ┌─┴───┴─┐┌─┴─┐└─┬─┘└──────────┘└───┘└─────────┘└─┬─┘├─────────┬┘└───┘└─────────┘┌─┴─┐┌──┴───┴───┐┌─┴─┐┌───────┐┌─┴─┐\n",
       "q_2: ┤ X ├────────────■────────────────────────────────■──┤ Rz(π/4) ├─────────────────┤ X ├┤ Rz(-π/4) ├┤ X ├──┼──┤ Rx(π) ├┤ X ├──■────────────────────────────────■──┤ Rz(π/4) ├─────────────────┤ X ├┤ Rz(-π/4) ├┤ X ├┤ Rx(π) ├┤ X ├\n",
       "     └───┘                                                └─────────┘                 └───┘└──────────┘└───┘┌─┴─┐└───────┘└───┘                                      └─────────┘                 └───┘└──────────┘└───┘└───────┘└───┘\n",
       "q_3: ───────────────────────────────────────────────────────────────────────────────────────────────────────┤ X ├────────────────────────────────────────────────────────────────────────────────────────────────────────────────────\n",
       "                                                                                                            └───┘                                                                                                                    "
      ]
     },
     "execution_count": 2,
     "metadata": {},
     "output_type": "execute_result"
    }
   ],
   "source": [
    "# A test program for you to use during development.\n",
    "\n",
    "# Implementation of the Cuccaro Quantum Adder from\n",
    "#   https://github.com/jmbaker94/quantumcircuitbenchmarks\n",
    "# Design from the paper\n",
    "#   https://arxiv.org/abs/quant-ph/0410184\n",
    "\n",
    "# Majority gate\n",
    "maj_c = QuantumCircuit(3, name='MAJ')\n",
    "maj_c.cx(2, 1)\n",
    "maj_c.cx(2, 0)\n",
    "maj_c.ccx(0, 1, 2)\n",
    "maj = maj_c.to_gate(label='MAJ')\n",
    "\n",
    "# 2-CNOT version of UnMajority and Add gate\n",
    "uma2_c = QuantumCircuit(3, name='UMA2')\n",
    "uma2_c.toffoli(0, 1, 2)\n",
    "uma2_c.cx(2, 0)\n",
    "uma2_c.cx(0, 1)\n",
    "uma2 = uma2_c.to_gate(label='UMA2')\n",
    "\n",
    "# 3-CNOT version of UnMajority and Add gate\n",
    "# (Allows more parallelism in the circuit)\n",
    "uma3_c = QuantumCircuit(3, name='UMA3')\n",
    "uma3_c.x(1)\n",
    "uma3_c.cx(0, 1)\n",
    "uma3_c.toffoli(0, 1, 2)\n",
    "uma3_c.x(1)\n",
    "uma3_c.cx(2, 0)\n",
    "uma3_c.cx(2, 1)\n",
    "uma3 = uma3_c.to_gate(label='UMA3')\n",
    "\n",
    "def cuccaro_adder(c, cin, a, b, cout, uma=uma3):\n",
    "    c.append(maj, [cin, b[0], a[0]])\n",
    "    for i in range(1, len(b)):\n",
    "        c.append(maj, [a[i-1], b[i], a[i]])\n",
    "\n",
    "    c.cx(a[-1], cout)\n",
    "\n",
    "    for i in reversed(range(1, len(b))):\n",
    "        c.append(uma, [a[i-1], b[i], a[i]])\n",
    "    c.append(uma, [cin, b[0], a[0]])\n",
    "\n",
    "def generate_adder_circuit(n, uma=uma3):\n",
    "    if n % 2 != 0:\n",
    "        raise ValueError('Odd number of qubits')\n",
    "\n",
    "    qubits = QuantumRegister\n",
    "    cin = range(1)\n",
    "    a = range(1, n//2)\n",
    "    b = range(n//2, n-1)\n",
    "    cout = range(n-1, n)\n",
    "    c = QuantumCircuit(n)\n",
    "        \n",
    "    cuccaro_adder(c, cin, a, b, cout, uma=uma)\n",
    "    return c\n",
    "\n",
    "def decomposed_adder_circuit(n):\n",
    "    return qiskit.transpile(generate_adder_circuit(n),\n",
    "                            basis_gates=['cx', 'rx', 'h', 'rz'])\n",
    "\n",
    "print('Cuccaro Adder:')\n",
    "display(generate_adder_circuit(4).draw(fold=-1))\n",
    "cuccaro = decomposed_adder_circuit(4)\n",
    "cuccaro.draw(fold=-1)"
   ]
  },
  {
   "cell_type": "markdown",
   "metadata": {},
   "source": [
    "# 0.2. Data Structures and Iterating through Qiskit Programs\n",
    "\n",
    "Before you get started, let's build some basic data structures you may need for your passes. These objects are for your use, but you do not have to use them in your implementation of the below passes. You may want to modify the data structures to account for other parameters, such as gate times. It may be helpful to read through these functions to see how to manipulate `qiskit.QuantumCircuit`."
   ]
  },
  {
   "cell_type": "code",
   "execution_count": 3,
   "metadata": {},
   "outputs": [
    {
     "name": "stdout",
     "output_type": "stream",
     "text": [
      "This is an RZ gate\n"
     ]
    }
   ],
   "source": [
    "# 0.2.0 Wrapping Gates to Make them hashable in a graph structure and give them a unique identifying label\n",
    "import dataclasses\n",
    "@dataclasses.dataclass\n",
    "class GateWrapper:\n",
    "    gate:Any\n",
    "    qubits:List[Qubit]\n",
    "    extra_params:List[Any]\n",
    "    label:str\n",
    "        \n",
    "    def __hash__(self):\n",
    "        return hash((type(self.gate), tuple(self.qubits), self.label))\n",
    "    \n",
    "    def __str__(self):\n",
    "        args = ','.join(str(q.index) for q in self.qubits)\n",
    "        return f'{self.label}{{{self.gate.name}({args})}}'\n",
    "    \n",
    "    def __repr__(self):\n",
    "        return str(self)\n",
    "\n",
    "# 0.2.1 Building a new circuit from an old circuit (This is just to see how to use gates from old circuits)\n",
    "def copy_a_circuit(old_circuit, n):\n",
    "    '''\n",
    "    QuantumCircuit's operate on registers of qubits. If the number of qubits in old_circuit is different from the number of qubits in the new circuit \n",
    "    you need to convert the qubits from old to new. \n",
    "\n",
    "    This function explains how to copy gates from one set of qubits to another in a different circuit.\n",
    "\n",
    "    Args: \n",
    "        old_circuit: the circuit to copy\n",
    "        n: number of qubits in the new circuit\n",
    "            \n",
    "    '''\n",
    "    new_circuit = qiskit.QuantumCircuit(n)\n",
    "    \n",
    "    for gate in old_circuit:\n",
    "        # If n = number of qubits in old_circuit this is O.K.\n",
    "        # new_circuit.append(gate[0], gate[1], gate[2])\n",
    "        \n",
    "        # If n != number of qubits in old_circuit the above is NOT O.K.\n",
    "        # Instead, convert the indices\n",
    "        # DO NOT use both this and the above. \n",
    "        new_qubit_indices = [gate[1][i].index for i in range(len(gate[1]))]\n",
    "        new_circuit.append(gate[0], new_qubit_indices, gate[2])\n",
    "        \n",
    "    return new_circuit\n",
    "\n",
    "# 0.2.2 Building a Dependency Graph using NetworkX\n",
    "def build_program_dependency_graph(circuit):\n",
    "    '''\n",
    "    Builds a program dependency graph like in the video. Feel free to modify this or build your own as you see fit.\n",
    "    Here we convert the gates into their hashable versions and add a label.\n",
    "    '''\n",
    "    \n",
    "    # Starting Label Index\n",
    "    i = 0\n",
    "    \n",
    "    # A dictionary to store the last use of any qubit\n",
    "    qubit_last_use = {}\n",
    "    \n",
    "    g = nx.DiGraph()\n",
    "    \n",
    "    # Add the start node\n",
    "    g.add_node(-1)\n",
    "    \n",
    "    for gate in circuit:\n",
    "        # Remember gate is a 3-tuple!\n",
    "        \n",
    "        hashable_gate = GateWrapper(gate[0], gate[1], gate[2], label=i)\n",
    "        i += 1\n",
    "        \n",
    "        g.add_node(hashable_gate)\n",
    "        \n",
    "        # Add edges based on qubit_last_use; update last use\n",
    "        for qubit in hashable_gate.qubits:\n",
    "            if qubit in qubit_last_use:\n",
    "                g.add_edge(qubit_last_use[qubit], hashable_gate)\n",
    "            else:\n",
    "                g.add_edge(-1, hashable_gate)\n",
    "            \n",
    "            qubit_last_use[qubit] = hashable_gate\n",
    "            \n",
    "    # Add the end node\n",
    "    g.add_node(float('inf'))\n",
    "    \n",
    "    for qubit in qubit_last_use:\n",
    "        g.add_edge(qubit_last_use[qubit], float('inf'))\n",
    "            \n",
    "    return g\n",
    "\n",
    "# 0.2.3 From Dependency Graph with Hashable Gates to Qiskit Gates\n",
    "def dependency_graph_to_circuit(dep_graph, n):\n",
    "    '''\n",
    "    Takes a dependency graph and the number of qubits n\n",
    "    '''\n",
    "    \n",
    "    circuit = qiskit.QuantumCircuit(n)\n",
    "    \n",
    "    for gate in nx.topological_sort(dep_graph):\n",
    "        \n",
    "        if gate not in [-1, float('inf')]:\n",
    "            circuit.append(gate.gate, gate.qubits, gate.extra_params)\n",
    "            \n",
    "    return circuit\n",
    "\n",
    "# 0.2.4 Interaction Graphs\n",
    "def interaction_graph_from_circuit(circuit):\n",
    "    '''\n",
    "    Builds a weighted interaction graph for a given circuit.\n",
    "\n",
    "    Nodes are qubits\n",
    "    Edges are weighted by the number of times pairs of qubits interact\n",
    "    '''\n",
    "    g = nx.Graph()\n",
    "    \n",
    "    for gate in circuit:\n",
    "        for q in gate[1]:\n",
    "            g.add_node(q)\n",
    "            \n",
    "        for i in range(len(gate[1])):\n",
    "            for j in range(i):\n",
    "                q1 = gate[1][i]\n",
    "                q2 = gate[1][j]\n",
    "                if q1 != q2:\n",
    "                    if (q1, q2) not in g.edges:\n",
    "                        g.add_edge(q1, q2, weight=1)\n",
    "                    else:\n",
    "                        g.edges[q1, q2]['weight'] += 1\n",
    "        \n",
    "    return g\n",
    "\n",
    "# 0.2.5 Checking if a gate is a certain type\n",
    "basic_c = QuantumCircuit(1)\n",
    "basic_c.rz(np.pi / 2, 0)\n",
    "\n",
    "for gate in basic_c:\n",
    "    if isinstance(gate[0], qiskit.circuit.library.standard_gates.rz.RZGate):\n",
    "        print(\"This is an RZ gate\")"
   ]
  },
  {
   "cell_type": "code",
   "execution_count": 4,
   "metadata": {},
   "outputs": [],
   "source": [
    "# Helper functions to visualize\n",
    "def draw_interaction_graph(ig):\n",
    "    nx.draw(nx.relabel_nodes(ig, {q: f'{q.register.name}_{q.index}' for q in ig.nodes}),\n",
    "            with_labels=True)\n",
    "\n",
    "def draw_dependency_graph(dep_g):\n",
    "    nx.draw(dep_g, with_labels=True)\n",
    "\n",
    "def draw_hardware_graph(target_hardware):\n",
    "    nx.draw(target_hardware, with_labels=True)\n",
    "\n",
    "def draw_mapping(target_hardware, mapping):\n",
    "    rev_mapping = {hw_q: None for hw_q in target_hardware.nodes}\n",
    "    for k, v in mapping.items():\n",
    "        assert v in rev_mapping, (\n",
    "            'Invalid mapping: cannot map a circuit qubit to a non-existant hardware qubit '\n",
    "            f'({k}->{v} but {v} does not exist)')\n",
    "        assert rev_mapping[v] is None, (\n",
    "            'Invalid mapping: cannot map two circuit qubits to the same qubit on hardware '\n",
    "            f'({rev_mapping[v]}->{v} and {k}->{v})')\n",
    "        rev_mapping[v] = k\n",
    "    nx.draw(nx.relabel_nodes(target_hardware,\n",
    "                             {hw_q: f'''q{getattr(rev_mapping[hw_q], 'index', None)\n",
    "                                         }->{hw_q}'''\n",
    "                              for hw_q in target_hardware.nodes}),\n",
    "            with_labels=True)\n",
    "\n",
    "def draw_routing(routed_circuit):\n",
    "    routed_circuit.draw(fold=-1)"
   ]
  },
  {
   "cell_type": "code",
   "execution_count": 5,
   "metadata": {},
   "outputs": [
    {
     "name": "stderr",
     "output_type": "stream",
     "text": [
      "C:\\Users\\panch\\AppData\\Local\\Temp\\ipykernel_21812\\832072005.py:3: DeprecationWarning: Back-references to from Bit instances to their containing Registers have been deprecated. Instead, inspect Registers to find their contained Bits.\n",
      "  nx.draw(nx.relabel_nodes(ig, {q: f'{q.register.name}_{q.index}' for q in ig.nodes}),\n"
     ]
    },
    {
     "data": {
      "image/png": "[encoded data removed]",
      "text/plain": [
       "<Figure size 640x480 with 1 Axes>"
      ]
     },
     "metadata": {},
     "output_type": "display_data"
    }
   ],
   "source": [
    "simple = QuantumCircuit(3)\n",
    "simple.cx(0, 1)\n",
    "simple.cx(1, 0)\n",
    "simple.x(2)\n",
    "\n",
    "ig = interaction_graph_from_circuit(simple)\n",
    "dep_g = build_program_dependency_graph(simple)\n",
    "draw_interaction_graph(ig)"
   ]
  },
  {
   "cell_type": "code",
   "execution_count": 6,
   "metadata": {},
   "outputs": [
    {
     "name": "stderr",
     "output_type": "stream",
     "text": [
      "C:\\Users\\panch\\AppData\\Local\\Temp\\ipykernel_21812\\3593926637.py:14: DeprecationWarning: Back-references to from Bit instances to their containing Registers have been deprecated. Instead, inspect Registers to find their contained Bits.\n",
      "  args = ','.join(str(q.index) for q in self.qubits)\n"
     ]
    },
    {
     "data": {
      "image/png": "[encoded data removed]",
      "text/plain": [
       "<Figure size 640x480 with 1 Axes>"
      ]
     },
     "metadata": {},
     "output_type": "display_data"
    }
   ],
   "source": [
    "draw_dependency_graph(dep_g)"
   ]
  },
  {
   "cell_type": "code",
   "execution_count": 7,
   "metadata": {},
   "outputs": [
    {
     "name": "stderr",
     "output_type": "stream",
     "text": [
      "C:\\Users\\panch\\AppData\\Local\\Temp\\ipykernel_21812\\832072005.py:3: DeprecationWarning: Back-references to from Bit instances to their containing Registers have been deprecated. Instead, inspect Registers to find their contained Bits.\n",
      "  nx.draw(nx.relabel_nodes(ig, {q: f'{q.register.name}_{q.index}' for q in ig.nodes}),\n"
     ]
    },
    {
     "data": {
      "image/png": "[encoded data removed]",
      "text/plain": [
       "<Figure size 640x480 with 1 Axes>"
      ]
     },
     "metadata": {},
     "output_type": "display_data"
    }
   ],
   "source": [
    "draw_interaction_graph(interaction_graph_from_circuit(cuccaro))"
   ]
  },
  {
   "cell_type": "code",
   "execution_count": 8,
   "metadata": {},
   "outputs": [
    {
     "name": "stderr",
     "output_type": "stream",
     "text": [
      "C:\\Users\\panch\\AppData\\Local\\Temp\\ipykernel_21812\\3593926637.py:14: DeprecationWarning: Back-references to from Bit instances to their containing Registers have been deprecated. Instead, inspect Registers to find their contained Bits.\n",
      "  args = ','.join(str(q.index) for q in self.qubits)\n"
     ]
    },
    {
     "data": {
      "image/png": "[encoded data removed]",
      "text/plain": [
       "<Figure size 640x480 with 1 Axes>"
      ]
     },
     "metadata": {},
     "output_type": "display_data"
    }
   ],
   "source": [
    "draw_dependency_graph(build_program_dependency_graph(cuccaro))"
   ]
  },
  {
   "cell_type": "markdown",
   "metadata": {},
   "source": [
    "# 1. Mapping Programs to Hardware\n",
    "\n",
    "Your first task is to map program qubits to hardware qubits in a good way - here this means you want to make sure qubits which interact frequently (given by the weights\n",
    "of edges in the interaction graph) are mapped close together. Your mapper should try to minimize, using a heursitic, the total distance between interacting qubits. How you do the mapping is up to you. Good mappings usually lead to good routing.\n",
    "\n",
    "Metric to minimize:\n",
    "    $$\n",
    "        \\sum_{u \\in Q}\\sum_{v \\in Q} w(u, v) * d(u, v)\n",
    "    $$\n",
    "Where $Q$ is the set of qubits, $w(u, v)$ is the number of times $u, v$ interact in the program (check the interaction graph edge weights) and $d(u, v)$ is the shortest path distance between $u$ and $v$ once they've been mapped. $w(u, v) = 0$ if there is no edge between $u$ and $v$ in the interaction graph.\n",
    "\n",
    "Hints:\n",
    "- You may need some of the objects [`nx.Graph`](https://networkx.org/documentation/stable/reference/classes/graph.html), [`nx.DiGraph`](https://networkx.org/documentation/stable/reference/classes/digraph.html), and functions [`nx.all_pairs_shortest_path_length`](https://networkx.org/documentation/stable/reference/algorithms/generated/networkx.algorithms.shortest_paths.unweighted.all_pairs_shortest_path_length.html), [`all_pairs_shortest_path`](https://networkx.org/documentation/stable/reference/algorithms/generated/networkx.algorithms.shortest_paths.unweighted.all_pairs_shortest_path.html) for this problem set.\n",
    "- Iterate over graph nodes with `for node in graph.nodes:`\n",
    "- Iterate over graph edges with `for node1, node2 in graph.edges:`\n",
    "- Get the 'weight' of an interaction graph edge (the number of CNOTs between those two qubits) with `ig[q1][q2]['weight']`.\n",
    "\n",
    "Make sure your code runs quickly.  Each test shouldn't run longer than a second and 30 seconds will timeout the grader."
   ]
  },
  {
   "cell_type": "code",
   "execution_count": 9,
   "metadata": {},
   "outputs": [
    {
     "data": {
      "image/png": "[encoded data removed]",
      "text/plain": [
       "<Figure size 640x480 with 1 Axes>"
      ]
     },
     "metadata": {},
     "output_type": "display_data"
    }
   ],
   "source": [
    "# Here is some sample hardware. Feel free to change this for your testing.\n",
    "# This is hardware with a simple linear connectivity 0 - 1 - 2 - ... - n-1\n",
    "# Graphs with nodes numbered 0, 1, ..., n-1:\n",
    "simple_hardware = nx.path_graph(5)\n",
    "# This is hardware with a simple 2x3 grid connectivity\n",
    "grid_hardware = nx.grid_2d_graph(2, 3)\n",
    "grid_hardware = nx.relabel_nodes(grid_hardware, {n: i for i, n in enumerate(grid_hardware.nodes)})  # Relabel with integer indices\n",
    "\n",
    "draw_hardware_graph(grid_hardware)"
   ]
  },
  {
   "cell_type": "code",
   "execution_count": 10,
   "metadata": {},
   "outputs": [],
   "source": [
    "def weight_list(ig):\n",
    "    \"\"\"\n",
    "    Return a list of nodes in order max to min \n",
    "    \"\"\"\n",
    "    weights = []\n",
    "    for node1, node2 in ig.edges:\n",
    "        weight = ig[node1][node2]['weight']\n",
    "        weights.append(((node1, node2), weight))\n",
    "    weights.sort(key=lambda x: x[1], reverse=True)  \n",
    "    #print(\"ESTOS SON LOS PESOS {}\".format(weights))\n",
    "    return weights\n",
    "\n",
    "\n",
    "def short_path(target_hardware):\n",
    "    \"\"\"\n",
    "    Return a dict af all the pairs with the shortest path \n",
    "    \"\"\"\n",
    "    return dict(nx.all_pairs_shortest_path_length(target_hardware)) \n",
    "\n",
    "\n",
    "def nodes_with_more_edges(target_hardware):\n",
    "    \"\"\"\n",
    "    Return the degree of the node that has more edges (1,2)\n",
    "    \"\"\"\n",
    "    max_node = sorted(target_hardware.degree, key=lambda x: x[1], reverse=True) #max(target_hardware.degree, key=lambda x: x[1])    \n",
    "    return max_node\n",
    "\n",
    "\n",
    "def neighbors(target_hardware, node):\n",
    "    return list(target_hardware.neighbors(node))\n",
    "    \n",
    "\n",
    "def positioned_qubit(mapping, sw_node1: Qubit, sw_node2: Qubit, used_hardware: set, target_hardware):\n",
    "    \"\"\"\n",
    "    Mapea el qubit logico al qubit fisico\n",
    "    \"\"\"\n",
    "    nodes_more_edges = nodes_with_more_edges(target_hardware) # esto ya esta ordenado \n",
    "    hw_node = None\n",
    "    # aca verificamos si ya esta o no mapeado el nodo \n",
    "    if sw_node1 not in mapping:    \n",
    "        for (hw, number_edges) in nodes_more_edges:\n",
    "            if hw not in used_hardware:\n",
    "                #print(\"Este es el nodo logico a ubicar{} nodo a usar {} numero de edges {}\".format(sw_node1, hw, number_edges))\n",
    "                mapping.update({sw_node1: hw})\n",
    "                add_used_node(used_hardware, hw)   \n",
    "                #print(\"1 MAPEO {}\".format(mapping))\n",
    "                break  \n",
    "\n",
    "    hw_node = mapping[sw_node1]        \n",
    "\n",
    "    if sw_node2 not in mapping:   \n",
    "        neightbors = neighbors(target_hardware, hw_node)\n",
    "        nodes_more_edges = filter_neightbor(nodes_more_edges, neightbors)\n",
    "        #print(\"Estos son los nodos ordenados de manera max a menos{}\".format(nodes_more_edges))\n",
    "        for (hw, number_edges) in nodes_more_edges:\n",
    "            if hw not in used_hardware:\n",
    "                #print(\"HHHHHHHHHHHHHHHHHHHHHHHHHHHHh\")\n",
    "                #print(\"Este es el nodo logico a usar {} este el fisico {} numero de edges {}\".format(sw_node2, hw, number_edges))\n",
    "                mapping.update({sw_node2: hw})\n",
    "                add_used_node(used_hardware, hw)\n",
    "                #print(\"2 MAPEO {}\".format(mapping))\n",
    "                break   \n",
    "                # verificar cual es el qubit con mas aristas retornalor\n",
    "                # obtener el nodo verificar los vecinos del nodo que quiero ubicar \n",
    "\n",
    "\n",
    "def map_alone_qubits(graph, mapping,used_hardware, target_hardware): \n",
    "    # Verificar si hay nodos sueltos\n",
    "    for node in graph.nodes:\n",
    "        if node not in mapping:\n",
    "            for hw in target_hardware:\n",
    "                if hw not in used_hardware:\n",
    "                    #print(\"Este es el nodo logico a ubicar{} nodo a usar {} numero de edges {}\".format(sw_node1, hw, number_edges))\n",
    "                    mapping.update({node: hw})\n",
    "                    add_used_node(used_hardware, hw)   \n",
    "                    #print(\"3 MAPEO {}\".format(mapping))\n",
    "                    break  \n",
    "\n",
    "def add_used_node(used_node, node):\n",
    "    \"\"\"\n",
    "    Mapea el qubit logico al qubit fisico\n",
    "    \"\"\"\n",
    "    used_node.add(node)\n",
    "    return used_node\n",
    "\n",
    "\n",
    "def filter_neightbor(node_list, neighbor_list):\n",
    "    # Filtrar los primeros elementos de las tuplas que estén en number_list\n",
    "    result = [t for t in node_list if t[0] in neighbor_list]\n",
    "    return result\n",
    "    \n",
    "\n"
   ]
  },
  {
   "cell_type": "code",
   "execution_count": 11,
   "metadata": {
    "deletable": false,
    "nbgrader": {
     "cell_type": "code",
     "checksum": "722f02797df529af18abf551e1399f3b",
     "grade": false,
     "grade_id": "1",
     "locked": false,
     "schema_version": 3,
     "solution": true,
     "task": false
    }
   },
   "outputs": [],
   "source": [
    "def map_circuit(quantum_circuit:QuantumCircuit, target_hardware:nx.Graph\n",
    "               ) -> Dict[Qubit, int]:\n",
    "    '''\n",
    "    This function should take an input program given as a\n",
    "    qiskit.QuantumCircuit and a target hardware, given as a networkx\n",
    "    graph and return a dictionary {qubit : hardware_id}\n",
    "\n",
    "    The target_hardware graph is an undirected graph with nodes\n",
    "    labeled 0 to n-1 where n is the total number of qubits.\n",
    "\n",
    "    You should make sure there are enough hardware qubits to fit\n",
    "    your program and raise an appropriate error otherwise.\n",
    "    '''\n",
    "    ### YOUR SOLUTION IN THIS FUNCTION\n",
    "    ig = interaction_graph_from_circuit(quantum_circuit)\n",
    "    assert len(ig.nodes) <= len(target_hardware.nodes), 'Not enough qubits in the hardware'\n",
    "\n",
    "    # Dictionary where keys are the index of qiskit qubit objects (type: int)\n",
    "    # and values are target_hardware node ids (type: int)\n",
    "    mapping:Dict[Qubit, int] = {}\n",
    "\n",
    "    # 1. function para obtener los pesos de qubits logicos y que los ordene de mayor a menor done \n",
    "    weights = weight_list(ig)    \n",
    "    # 2. funciton para obtener los nodos con la menor distancia a nivel fisico obtenerlos y si tienen la misma distancia cual escoger? escogemos de acuerdo al punto 3 \n",
    "    # 3. funcion que determine donde ubicar al de mayor peso en el HW como determinamos esto? por la cantidad de edges que salen de un nodo \n",
    "    #print(short_path(target_hardware))\n",
    "    #print(nodes_with_more_edges(target_hardware))\n",
    "\n",
    "    # Other temp variables\n",
    "    used_hardware = set()\n",
    "    used_software = set()    \n",
    "\n",
    "    for (logic_node1, logic_node2), weight in weights: \n",
    "        #print(\"node1: {} node2:{} weight:{}\".format(logic_node1, logic_node2, weight))\n",
    "        # Primero mapeamos los qubits que tienen edges\n",
    "        positioned_qubit(mapping, logic_node1,logic_node2, used_hardware, target_hardware) \n",
    "        # Luego mapeamos todos los qubits que quedaron solitos\n",
    "    map_alone_qubits(ig, mapping, used_hardware, target_hardware)\n",
    "\n",
    "    # el primer nodo a ubicar debe ser puesto en el que tenga mas conexiones en el hw fisico\n",
    "    # el segundo nodo debe estar si o si a la par entonces para ubicar el siguinet tomo la lista de nodos fisicos adyasentes a este \n",
    "    #print(\"Este es el mapeo {}\".format(mapping))\n",
    "    return mapping"
   ]
  },
  {
   "cell_type": "code",
   "execution_count": 12,
   "metadata": {},
   "outputs": [
    {
     "name": "stdout",
     "output_type": "stream",
     "text": [
      "Mapping: {Qubit(QuantumRegister(4, 'q'), 1): 1, Qubit(QuantumRegister(4, 'q'), 2): 4, Qubit(QuantumRegister(4, 'q'), 0): 0, Qubit(QuantumRegister(4, 'q'), 3): 2}\n"
     ]
    },
    {
     "name": "stderr",
     "output_type": "stream",
     "text": [
      "C:\\Users\\panch\\AppData\\Local\\Temp\\ipykernel_21812\\832072005.py:23: DeprecationWarning: Back-references to from Bit instances to their containing Registers have been deprecated. Instead, inspect Registers to find their contained Bits.\n",
      "  {hw_q: f'''q{getattr(rev_mapping[hw_q], 'index', None)\n"
     ]
    },
    {
     "data": {
      "image/png": "[encoded data removed]",
      "text/plain": [
       "<Figure size 640x480 with 1 Axes>"
      ]
     },
     "metadata": {},
     "output_type": "display_data"
    }
   ],
   "source": [
    "mapping = map_circuit(cuccaro, grid_hardware)\n",
    "print('Mapping:', mapping)\n",
    "draw_mapping(grid_hardware, mapping)"
   ]
  },
  {
   "cell_type": "code",
   "execution_count": 13,
   "metadata": {
    "deletable": false,
    "editable": false,
    "nbgrader": {
     "cell_type": "code",
     "checksum": "96b664049db7924eefde4d04c564f36d",
     "grade": true,
     "grade_id": "1-helpers",
     "locked": true,
     "points": 0,
     "schema_version": 3,
     "solution": false,
     "task": false
    }
   },
   "outputs": [],
   "source": [
    "# Do not delete this cell\n",
    "def validate_mapping(circuit, target_hardware, mapping):\n",
    "    # Check other arguments\n",
    "    assert isinstance(circuit, QuantumCircuit)\n",
    "    assert isinstance(target_hardware, nx.Graph)\n",
    "    assert isinstance(mapping, dict)\n",
    "    qubits = frozenset(q for q in circuit.qubits)\n",
    "    assert len(circuit.qubits) == len(qubits), 'Unsupported: circuits with multiple registers'\n",
    "    assert all(isinstance(q, Qubit) for q in qubits)\n",
    "    assert len(qubits) <= len(target_hardware.nodes), 'Not enough qubits in the hardware'\n",
    "    assert all(isinstance(hw_q, int) for hw_q in target_hardware.nodes), 'Unsupported: non-int hardware qubit ids'\n",
    "    # Check mapping keys\n",
    "    assert all(isinstance(q, Qubit) for q in mapping.keys()), 'The keys of the mapping should be qiskit Qubits'\n",
    "    assert len(qubits) == len(frozenset(mapping.keys())), 'Not all qubits (or too many) were mapped to hardware'\n",
    "    assert qubits == frozenset(mapping.keys()), 'The mapping uses the wrong keys, they should be qubit.index for each qubit in the circuit'\n",
    "    # Check mapping values\n",
    "    assert all(isinstance(q, int) for q in mapping.values()), 'The values of the mapping should be integers (the nodes of target_hardware)'\n",
    "    assert len(frozenset(mapping.values())) == len(mapping.values()), 'Duplicate values in mapping (hardware qubits): you may only map one circuit qubit to each hardware qubit'\n",
    "    assert frozenset(mapping.values()).issubset(frozenset(target_hardware.nodes)), 'Some of the hardware qubits used do not exist on this hardware'\n",
    "    assert len(target_hardware.nodes) >= len(frozenset(mapping.values())), 'More hardware qubits were used than exist'\n",
    "\n",
    "def score_mapping(circuit, target_hardware, mapping):\n",
    "    '''\n",
    "    Computes a score that approximates the number of SWAPs needed for this mapping.\n",
    "    \n",
    "    Returns the tuple (your score, worst possible score).  Lower values are better.\n",
    "    '''\n",
    "    validate_mapping(circuit, target_hardware, mapping)\n",
    "\n",
    "    ig = interaction_graph_from_circuit(circuit)\n",
    "    shortest_paths = dict(nx.all_pairs_shortest_path_length(target_hardware))\n",
    "    score = 0\n",
    "    for q1, q2 in ig.edges:\n",
    "        cnot_count = ig[q1][q2]['weight']\n",
    "        hw_q1 = mapping[q1]\n",
    "        hw_q2 = mapping[q2]\n",
    "        swap_distance = shortest_paths[hw_q1][hw_q2] - 1\n",
    "        score += swap_distance * 2 * cnot_count\n",
    "\n",
    "    furthest = max(max(dist for dist in from_q.values())\n",
    "                       for from_q in shortest_paths.values())\n",
    "    cnot_count = sum(ig[edge[0]][edge[1]]['weight'] for edge in ig.edges)\n",
    "    worst_case_score = (furthest-1) * 2 * cnot_count\n",
    "    print(f'Your mapping score is {score}, better than the worst possible '\n",
    "          f'of {worst_case_score}.')\n",
    "    return score, worst_case_score"
   ]
  },
  {
   "cell_type": "code",
   "execution_count": 14,
   "metadata": {},
   "outputs": [
    {
     "name": "stdout",
     "output_type": "stream",
     "text": [
      "Your mapping score is 10, better than the worst possible of 72.\n"
     ]
    }
   ],
   "source": [
    "# You may modify this cell to test scores for your mapper on various circuits\n",
    "\n",
    "mapping = map_circuit(cuccaro, grid_hardware)\n",
    "score, worst = score_mapping(cuccaro, grid_hardware, mapping)"
   ]
  },
  {
   "cell_type": "code",
   "execution_count": 15,
   "metadata": {
    "deletable": false,
    "editable": false,
    "nbgrader": {
     "cell_type": "code",
     "checksum": "dedd7ff1380f2178ddf77562d89d19c7",
     "grade": true,
     "grade_id": "1a-test",
     "locked": true,
     "points": 20,
     "schema_version": 3,
     "solution": false,
     "task": false
    }
   },
   "outputs": [
    {
     "name": "stdout",
     "output_type": "stream",
     "text": [
      "Your mapping score is 12, better than the worst possible of 108.\n",
      "PASS: Valid circuit mapping\n"
     ]
    }
   ],
   "source": [
    "# Do not delete this cell\n",
    "# The autograder will test the function map_circuit.\n",
    "# This test is worth most of the points for part 1\n",
    "_hardware = nx.path_graph(5)\n",
    "#_cuccaro4 = decomposed_adder_circuit(4)\n",
    "_cuccaro4 = QuantumCircuit.from_qasm_str('OPENQASM 2.0;\\ninclude \"qelib1.inc\";\\nqreg q[4];\\ncx q[1],q[2];\\ncx q[1],q[0];\\nh q[1];\\ncx q[2],q[1];\\nrz(-pi/4) q[1];\\ncx q[0],q[1];\\nrz(pi/4) q[1];\\ncx q[2],q[1];\\nrz(-pi/4) q[1];\\ncx q[0],q[1];\\nrz(-5*pi/4) q[1];\\nrx(pi/2) q[1];\\nrz(pi/2) q[1];\\nrz(pi/4) q[2];\\ncx q[0],q[2];\\nrz(pi/4) q[0];\\nrz(-pi/4) q[2];\\ncx q[0],q[2];\\nrz(2.6375741) q[2];\\nrx(pi) q[2];\\nrz(2.6375741) q[2];\\ncx q[0],q[2];\\ncx q[1],q[3];\\nh q[1];\\ncx q[2],q[1];\\nrz(-pi/4) q[1];\\ncx q[0],q[1];\\nrz(pi/4) q[1];\\ncx q[2],q[1];\\nrz(-pi/4) q[1];\\ncx q[0],q[1];\\nrz(-5*pi/4) q[1];\\nrx(pi/2) q[1];\\nrz(pi/2) q[1];\\nrz(pi/4) q[2];\\ncx q[0],q[2];\\nrz(pi/4) q[0];\\nrz(-pi/4) q[2];\\ncx q[0],q[2];\\ncx q[1],q[0];\\nrz(2.6375741) q[2];\\nrx(pi) q[2];\\nrz(2.6375741) q[2];\\ncx q[1],q[2];\\n')\n",
    "_mapping = map_circuit(_cuccaro4, _hardware)\n",
    "validate_mapping(_cuccaro4, _hardware, _mapping)\n",
    "score_mapping(_cuccaro4, _hardware, _mapping)\n",
    "print('PASS: Valid circuit mapping')"
   ]
  },
  {
   "cell_type": "code",
   "execution_count": 16,
   "metadata": {
    "deletable": false,
    "editable": false,
    "nbgrader": {
     "cell_type": "code",
     "checksum": "e1f88b48ffba22c14f96ebfc6f6f379b",
     "grade": true,
     "grade_id": "1b-test",
     "locked": true,
     "points": 5,
     "schema_version": 3,
     "solution": false,
     "task": false
    }
   },
   "outputs": [
    {
     "name": "stdout",
     "output_type": "stream",
     "text": [
      "Your mapping score is 652, better than the worst possible of 5220.\n",
      "PASS: Score is under 1600 (see if you can beat our solution of 210)\n"
     ]
    }
   ],
   "source": [
    "# Do not delete this cell\n",
    "# The autograder will test the function map_circuit.\n",
    "_hardware = nx.grid_2d_graph(6, 6)\n",
    "_hardware = nx.relabel_nodes(_hardware,\n",
    "    {n: i for i, n in enumerate(_hardware.nodes)})\n",
    "#_cuccaro36 = decomposed_adder_circuit(36)\n",
    "_cuccaro36 = QuantumCircuit.from_qasm_str('OPENQASM 2.0;\\ninclude \"qelib1.inc\";\\nqreg q[36];\\ncx q[1],q[18];\\ncx q[1],q[0];\\nh q[1];\\ncx q[18],q[1];\\nrz(-pi/4) q[1];\\ncx q[0],q[1];\\nrz(pi/4) q[1];\\ncx q[18],q[1];\\nrz(-pi/4) q[1];\\ncx q[0],q[1];\\nrz(-5*pi/4) q[1];\\nrx(pi/2) q[1];\\nrz(pi/2) q[1];\\nrz(pi/4) q[18];\\ncx q[0],q[18];\\nrz(pi/4) q[0];\\nrz(-pi/4) q[18];\\ncx q[0],q[18];\\nrz(2.6375741) q[18];\\nrx(pi) q[18];\\nrz(2.6375741) q[18];\\ncx q[0],q[18];\\ncx q[2],q[19];\\ncx q[2],q[1];\\nh q[2];\\ncx q[19],q[2];\\nrz(-pi/4) q[2];\\ncx q[1],q[2];\\nrz(pi/4) q[2];\\ncx q[19],q[2];\\nrz(pi/4) q[19];\\nrz(-pi/4) q[2];\\ncx q[1],q[2];\\ncx q[1],q[19];\\nrz(pi/4) q[1];\\nrz(-pi/4) q[19];\\ncx q[1],q[19];\\nrz(2.6375741) q[19];\\nrx(pi) q[19];\\nrz(2.6375741) q[19];\\ncx q[1],q[19];\\nrz(-5*pi/4) q[2];\\nrx(pi/2) q[2];\\nrz(pi/2) q[2];\\ncx q[3],q[20];\\ncx q[3],q[2];\\nh q[3];\\ncx q[20],q[3];\\nrz(-pi/4) q[3];\\ncx q[2],q[3];\\nrz(pi/4) q[3];\\ncx q[20],q[3];\\nrz(pi/4) q[20];\\nrz(-pi/4) q[3];\\ncx q[2],q[3];\\ncx q[2],q[20];\\nrz(pi/4) q[2];\\nrz(-pi/4) q[20];\\ncx q[2],q[20];\\nrz(2.6375741) q[20];\\nrx(pi) q[20];\\nrz(2.6375741) q[20];\\ncx q[2],q[20];\\nrz(-5*pi/4) q[3];\\nrx(pi/2) q[3];\\nrz(pi/2) q[3];\\ncx q[4],q[21];\\ncx q[4],q[3];\\nh q[4];\\ncx q[21],q[4];\\nrz(-pi/4) q[4];\\ncx q[3],q[4];\\nrz(pi/4) q[4];\\ncx q[21],q[4];\\nrz(pi/4) q[21];\\nrz(-pi/4) q[4];\\ncx q[3],q[4];\\ncx q[3],q[21];\\nrz(-pi/4) q[21];\\nrz(pi/4) q[3];\\ncx q[3],q[21];\\nrz(2.6375741) q[21];\\nrx(pi) q[21];\\nrz(2.6375741) q[21];\\ncx q[3],q[21];\\nrz(-5*pi/4) q[4];\\nrx(pi/2) q[4];\\nrz(pi/2) q[4];\\ncx q[5],q[22];\\ncx q[5],q[4];\\nh q[5];\\ncx q[22],q[5];\\nrz(-pi/4) q[5];\\ncx q[4],q[5];\\nrz(pi/4) q[5];\\ncx q[22],q[5];\\nrz(pi/4) q[22];\\nrz(-pi/4) q[5];\\ncx q[4],q[5];\\ncx q[4],q[22];\\nrz(-pi/4) q[22];\\nrz(pi/4) q[4];\\ncx q[4],q[22];\\nrz(2.6375741) q[22];\\nrx(pi) q[22];\\nrz(2.6375741) q[22];\\ncx q[4],q[22];\\nrz(-5*pi/4) q[5];\\nrx(pi/2) q[5];\\nrz(pi/2) q[5];\\ncx q[6],q[23];\\ncx q[6],q[5];\\nh q[6];\\ncx q[23],q[6];\\nrz(-pi/4) q[6];\\ncx q[5],q[6];\\nrz(pi/4) q[6];\\ncx q[23],q[6];\\nrz(pi/4) q[23];\\nrz(-pi/4) q[6];\\ncx q[5],q[6];\\ncx q[5],q[23];\\nrz(-pi/4) q[23];\\nrz(pi/4) q[5];\\ncx q[5],q[23];\\nrz(2.6375741) q[23];\\nrx(pi) q[23];\\nrz(2.6375741) q[23];\\ncx q[5],q[23];\\nrz(-5*pi/4) q[6];\\nrx(pi/2) q[6];\\nrz(pi/2) q[6];\\ncx q[7],q[24];\\ncx q[7],q[6];\\nh q[7];\\ncx q[24],q[7];\\nrz(-pi/4) q[7];\\ncx q[6],q[7];\\nrz(pi/4) q[7];\\ncx q[24],q[7];\\nrz(pi/4) q[24];\\nrz(-pi/4) q[7];\\ncx q[6],q[7];\\ncx q[6],q[24];\\nrz(-pi/4) q[24];\\nrz(pi/4) q[6];\\ncx q[6],q[24];\\nrz(2.6375741) q[24];\\nrx(pi) q[24];\\nrz(2.6375741) q[24];\\ncx q[6],q[24];\\nrz(-5*pi/4) q[7];\\nrx(pi/2) q[7];\\nrz(pi/2) q[7];\\ncx q[8],q[25];\\ncx q[8],q[7];\\nh q[8];\\ncx q[25],q[8];\\nrz(-pi/4) q[8];\\ncx q[7],q[8];\\nrz(pi/4) q[8];\\ncx q[25],q[8];\\nrz(pi/4) q[25];\\nrz(-pi/4) q[8];\\ncx q[7],q[8];\\ncx q[7],q[25];\\nrz(-pi/4) q[25];\\nrz(pi/4) q[7];\\ncx q[7],q[25];\\nrz(2.6375741) q[25];\\nrx(pi) q[25];\\nrz(2.6375741) q[25];\\ncx q[7],q[25];\\nrz(-5*pi/4) q[8];\\nrx(pi/2) q[8];\\nrz(pi/2) q[8];\\ncx q[9],q[26];\\ncx q[9],q[8];\\nh q[9];\\ncx q[26],q[9];\\nrz(-pi/4) q[9];\\ncx q[8],q[9];\\nrz(pi/4) q[9];\\ncx q[26],q[9];\\nrz(pi/4) q[26];\\nrz(-pi/4) q[9];\\ncx q[8],q[9];\\ncx q[8],q[26];\\nrz(-pi/4) q[26];\\nrz(pi/4) q[8];\\ncx q[8],q[26];\\nrz(2.6375741) q[26];\\nrx(pi) q[26];\\nrz(2.6375741) q[26];\\ncx q[8],q[26];\\nrz(-5*pi/4) q[9];\\nrx(pi/2) q[9];\\nrz(pi/2) q[9];\\ncx q[10],q[27];\\ncx q[10],q[9];\\nh q[10];\\ncx q[27],q[10];\\nrz(-pi/4) q[10];\\ncx q[9],q[10];\\nrz(pi/4) q[10];\\ncx q[27],q[10];\\nrz(-pi/4) q[10];\\nrz(pi/4) q[27];\\ncx q[9],q[10];\\nrz(-5*pi/4) q[10];\\nrx(pi/2) q[10];\\nrz(pi/2) q[10];\\ncx q[9],q[27];\\nrz(-pi/4) q[27];\\nrz(pi/4) q[9];\\ncx q[9],q[27];\\nrz(2.6375741) q[27];\\nrx(pi) q[27];\\nrz(2.6375741) q[27];\\ncx q[9],q[27];\\ncx q[11],q[28];\\ncx q[11],q[10];\\nh q[11];\\ncx q[28],q[11];\\nrz(-pi/4) q[11];\\ncx q[10],q[11];\\nrz(pi/4) q[11];\\ncx q[28],q[11];\\nrz(-pi/4) q[11];\\ncx q[10],q[11];\\nrz(-5*pi/4) q[11];\\nrx(pi/2) q[11];\\nrz(pi/2) q[11];\\nrz(pi/4) q[28];\\ncx q[10],q[28];\\nrz(pi/4) q[10];\\nrz(-pi/4) q[28];\\ncx q[10],q[28];\\nrz(2.6375741) q[28];\\nrx(pi) q[28];\\nrz(2.6375741) q[28];\\ncx q[10],q[28];\\ncx q[12],q[29];\\ncx q[12],q[11];\\nh q[12];\\ncx q[29],q[12];\\nrz(-pi/4) q[12];\\ncx q[11],q[12];\\nrz(pi/4) q[12];\\ncx q[29],q[12];\\nrz(-pi/4) q[12];\\ncx q[11],q[12];\\nrz(-5*pi/4) q[12];\\nrx(pi/2) q[12];\\nrz(pi/2) q[12];\\nrz(pi/4) q[29];\\ncx q[11],q[29];\\nrz(pi/4) q[11];\\nrz(-pi/4) q[29];\\ncx q[11],q[29];\\nrz(2.6375741) q[29];\\nrx(pi) q[29];\\nrz(2.6375741) q[29];\\ncx q[11],q[29];\\ncx q[13],q[30];\\ncx q[13],q[12];\\nh q[13];\\ncx q[30],q[13];\\nrz(-pi/4) q[13];\\ncx q[12],q[13];\\nrz(pi/4) q[13];\\ncx q[30],q[13];\\nrz(-pi/4) q[13];\\ncx q[12],q[13];\\nrz(-5*pi/4) q[13];\\nrx(pi/2) q[13];\\nrz(pi/2) q[13];\\nrz(pi/4) q[30];\\ncx q[12],q[30];\\nrz(pi/4) q[12];\\nrz(-pi/4) q[30];\\ncx q[12],q[30];\\nrz(2.6375741) q[30];\\nrx(pi) q[30];\\nrz(2.6375741) q[30];\\ncx q[12],q[30];\\ncx q[14],q[31];\\ncx q[14],q[13];\\nh q[14];\\ncx q[31],q[14];\\nrz(-pi/4) q[14];\\ncx q[13],q[14];\\nrz(pi/4) q[14];\\ncx q[31],q[14];\\nrz(-pi/4) q[14];\\ncx q[13],q[14];\\nrz(-5*pi/4) q[14];\\nrx(pi/2) q[14];\\nrz(pi/2) q[14];\\nrz(pi/4) q[31];\\ncx q[13],q[31];\\nrz(pi/4) q[13];\\nrz(-pi/4) q[31];\\ncx q[13],q[31];\\nrz(2.6375741) q[31];\\nrx(pi) q[31];\\nrz(2.6375741) q[31];\\ncx q[13],q[31];\\ncx q[15],q[32];\\ncx q[15],q[14];\\nh q[15];\\ncx q[32],q[15];\\nrz(-pi/4) q[15];\\ncx q[14],q[15];\\nrz(pi/4) q[15];\\ncx q[32],q[15];\\nrz(-pi/4) q[15];\\ncx q[14],q[15];\\nrz(-5*pi/4) q[15];\\nrx(pi/2) q[15];\\nrz(pi/2) q[15];\\nrz(pi/4) q[32];\\ncx q[14],q[32];\\nrz(pi/4) q[14];\\nrz(-pi/4) q[32];\\ncx q[14],q[32];\\nrz(2.6375741) q[32];\\nrx(pi) q[32];\\nrz(2.6375741) q[32];\\ncx q[14],q[32];\\ncx q[16],q[33];\\ncx q[16],q[15];\\nh q[16];\\ncx q[33],q[16];\\nrz(-pi/4) q[16];\\ncx q[15],q[16];\\nrz(pi/4) q[16];\\ncx q[33],q[16];\\nrz(-pi/4) q[16];\\ncx q[15],q[16];\\nrz(-5*pi/4) q[16];\\nrx(pi/2) q[16];\\nrz(pi/2) q[16];\\nrz(pi/4) q[33];\\ncx q[15],q[33];\\nrz(pi/4) q[15];\\nrz(-pi/4) q[33];\\ncx q[15],q[33];\\nrz(2.6375741) q[33];\\nrx(pi) q[33];\\nrz(2.6375741) q[33];\\ncx q[15],q[33];\\ncx q[17],q[34];\\ncx q[17],q[16];\\nh q[17];\\ncx q[34],q[17];\\nrz(-pi/4) q[17];\\ncx q[16],q[17];\\nrz(pi/4) q[17];\\ncx q[34],q[17];\\nrz(-pi/4) q[17];\\ncx q[16],q[17];\\nrz(-5*pi/4) q[17];\\nrx(pi/2) q[17];\\nrz(pi/2) q[17];\\nrz(pi/4) q[34];\\ncx q[16],q[34];\\nrz(pi/4) q[16];\\nrz(-pi/4) q[34];\\ncx q[16],q[34];\\nrz(2.6375741) q[34];\\nrx(pi) q[34];\\nrz(2.6375741) q[34];\\ncx q[16],q[34];\\ncx q[17],q[35];\\nh q[17];\\ncx q[34],q[17];\\nrz(-pi/4) q[17];\\ncx q[16],q[17];\\nrz(pi/4) q[17];\\ncx q[34],q[17];\\nrz(-pi/4) q[17];\\ncx q[16],q[17];\\nrz(-5*pi/4) q[17];\\nrx(pi/2) q[17];\\nrz(pi/2) q[17];\\nrz(pi/4) q[34];\\ncx q[16],q[34];\\nrz(pi/4) q[16];\\nrz(-pi/4) q[34];\\ncx q[16],q[34];\\ncx q[17],q[16];\\nh q[16];\\ncx q[33],q[16];\\nrz(-pi/4) q[16];\\ncx q[15],q[16];\\nrz(pi/4) q[16];\\ncx q[33],q[16];\\nrz(-pi/4) q[16];\\ncx q[15],q[16];\\nrz(-5*pi/4) q[16];\\nrx(pi/2) q[16];\\nrz(pi/2) q[16];\\nrz(pi/4) q[33];\\ncx q[15],q[33];\\nrz(pi/4) q[15];\\nrz(-pi/4) q[33];\\ncx q[15],q[33];\\ncx q[16],q[15];\\nh q[15];\\ncx q[32],q[15];\\nrz(-pi/4) q[15];\\ncx q[14],q[15];\\nrz(pi/4) q[15];\\ncx q[32],q[15];\\nrz(-pi/4) q[15];\\ncx q[14],q[15];\\nrz(-5*pi/4) q[15];\\nrx(pi/2) q[15];\\nrz(pi/2) q[15];\\nrz(pi/4) q[32];\\ncx q[14],q[32];\\nrz(pi/4) q[14];\\nrz(-pi/4) q[32];\\ncx q[14],q[32];\\ncx q[15],q[14];\\nh q[14];\\ncx q[31],q[14];\\nrz(-pi/4) q[14];\\ncx q[13],q[14];\\nrz(pi/4) q[14];\\ncx q[31],q[14];\\nrz(-pi/4) q[14];\\ncx q[13],q[14];\\nrz(-5*pi/4) q[14];\\nrx(pi/2) q[14];\\nrz(pi/2) q[14];\\nrz(pi/4) q[31];\\ncx q[13],q[31];\\nrz(pi/4) q[13];\\nrz(-pi/4) q[31];\\ncx q[13],q[31];\\ncx q[14],q[13];\\nh q[13];\\ncx q[30],q[13];\\nrz(-pi/4) q[13];\\ncx q[12],q[13];\\nrz(pi/4) q[13];\\ncx q[30],q[13];\\nrz(-pi/4) q[13];\\ncx q[12],q[13];\\nrz(-5*pi/4) q[13];\\nrx(pi/2) q[13];\\nrz(pi/2) q[13];\\nrz(pi/4) q[30];\\ncx q[12],q[30];\\nrz(pi/4) q[12];\\nrz(-pi/4) q[30];\\ncx q[12],q[30];\\ncx q[13],q[12];\\nh q[12];\\ncx q[29],q[12];\\nrz(-pi/4) q[12];\\ncx q[11],q[12];\\nrz(pi/4) q[12];\\ncx q[29],q[12];\\nrz(-pi/4) q[12];\\ncx q[11],q[12];\\nrz(-5*pi/4) q[12];\\nrx(pi/2) q[12];\\nrz(pi/2) q[12];\\nrz(pi/4) q[29];\\ncx q[11],q[29];\\nrz(pi/4) q[11];\\nrz(-pi/4) q[29];\\ncx q[11],q[29];\\ncx q[12],q[11];\\nh q[11];\\ncx q[28],q[11];\\nrz(-pi/4) q[11];\\ncx q[10],q[11];\\nrz(pi/4) q[11];\\ncx q[28],q[11];\\nrz(-pi/4) q[11];\\ncx q[10],q[11];\\nrz(-5*pi/4) q[11];\\nrx(pi/2) q[11];\\nrz(pi/2) q[11];\\nrz(pi/4) q[28];\\ncx q[10],q[28];\\nrz(pi/4) q[10];\\nrz(-pi/4) q[28];\\ncx q[10],q[28];\\ncx q[11],q[10];\\nh q[10];\\ncx q[27],q[10];\\nrz(-pi/4) q[10];\\nrz(2.6375741) q[28];\\nrx(pi) q[28];\\nrz(2.6375741) q[28];\\ncx q[11],q[28];\\nrz(2.6375741) q[29];\\nrx(pi) q[29];\\nrz(2.6375741) q[29];\\ncx q[12],q[29];\\nrz(2.6375741) q[30];\\nrx(pi) q[30];\\nrz(2.6375741) q[30];\\ncx q[13],q[30];\\nrz(2.6375741) q[31];\\nrx(pi) q[31];\\nrz(2.6375741) q[31];\\ncx q[14],q[31];\\nrz(2.6375741) q[32];\\nrx(pi) q[32];\\nrz(2.6375741) q[32];\\ncx q[15],q[32];\\nrz(2.6375741) q[33];\\nrx(pi) q[33];\\nrz(2.6375741) q[33];\\ncx q[16],q[33];\\nrz(2.6375741) q[34];\\nrx(pi) q[34];\\nrz(2.6375741) q[34];\\ncx q[17],q[34];\\ncx q[9],q[10];\\nrz(pi/4) q[10];\\ncx q[27],q[10];\\nrz(-pi/4) q[10];\\nrz(pi/4) q[27];\\ncx q[9],q[10];\\nrz(-5*pi/4) q[10];\\nrx(pi/2) q[10];\\nrz(pi/2) q[10];\\ncx q[9],q[27];\\nrz(-pi/4) q[27];\\nrz(pi/4) q[9];\\ncx q[9],q[27];\\ncx q[10],q[9];\\nrz(2.6375741) q[27];\\nrx(pi) q[27];\\nrz(2.6375741) q[27];\\ncx q[10],q[27];\\nh q[9];\\ncx q[26],q[9];\\nrz(-pi/4) q[9];\\ncx q[8],q[9];\\nrz(pi/4) q[9];\\ncx q[26],q[9];\\nrz(pi/4) q[26];\\nrz(-pi/4) q[9];\\ncx q[8],q[9];\\ncx q[8],q[26];\\nrz(-pi/4) q[26];\\nrz(pi/4) q[8];\\ncx q[8],q[26];\\nrz(2.6375741) q[26];\\nrx(pi) q[26];\\nrz(2.6375741) q[26];\\nrz(-5*pi/4) q[9];\\nrx(pi/2) q[9];\\nrz(pi/2) q[9];\\ncx q[9],q[8];\\nh q[8];\\ncx q[25],q[8];\\nrz(-pi/4) q[8];\\ncx q[7],q[8];\\nrz(pi/4) q[8];\\ncx q[25],q[8];\\nrz(pi/4) q[25];\\nrz(-pi/4) q[8];\\ncx q[7],q[8];\\ncx q[7],q[25];\\nrz(-pi/4) q[25];\\nrz(pi/4) q[7];\\ncx q[7],q[25];\\nrz(2.6375741) q[25];\\nrx(pi) q[25];\\nrz(2.6375741) q[25];\\nrz(-5*pi/4) q[8];\\nrx(pi/2) q[8];\\nrz(pi/2) q[8];\\ncx q[8],q[7];\\nh q[7];\\ncx q[24],q[7];\\nrz(-pi/4) q[7];\\ncx q[6],q[7];\\nrz(pi/4) q[7];\\ncx q[24],q[7];\\nrz(pi/4) q[24];\\nrz(-pi/4) q[7];\\ncx q[6],q[7];\\ncx q[6],q[24];\\nrz(-pi/4) q[24];\\nrz(pi/4) q[6];\\ncx q[6],q[24];\\nrz(2.6375741) q[24];\\nrx(pi) q[24];\\nrz(2.6375741) q[24];\\nrz(-5*pi/4) q[7];\\nrx(pi/2) q[7];\\nrz(pi/2) q[7];\\ncx q[7],q[6];\\nh q[6];\\ncx q[23],q[6];\\nrz(-pi/4) q[6];\\ncx q[5],q[6];\\nrz(pi/4) q[6];\\ncx q[23],q[6];\\nrz(pi/4) q[23];\\nrz(-pi/4) q[6];\\ncx q[5],q[6];\\ncx q[5],q[23];\\nrz(-pi/4) q[23];\\nrz(pi/4) q[5];\\ncx q[5],q[23];\\nrz(2.6375741) q[23];\\nrx(pi) q[23];\\nrz(2.6375741) q[23];\\nrz(-5*pi/4) q[6];\\nrx(pi/2) q[6];\\nrz(pi/2) q[6];\\ncx q[6],q[5];\\nh q[5];\\ncx q[22],q[5];\\nrz(-pi/4) q[5];\\ncx q[4],q[5];\\nrz(pi/4) q[5];\\ncx q[22],q[5];\\nrz(pi/4) q[22];\\nrz(-pi/4) q[5];\\ncx q[4],q[5];\\ncx q[4],q[22];\\nrz(-pi/4) q[22];\\nrz(pi/4) q[4];\\ncx q[4],q[22];\\nrz(2.6375741) q[22];\\nrx(pi) q[22];\\nrz(2.6375741) q[22];\\nrz(-5*pi/4) q[5];\\nrx(pi/2) q[5];\\nrz(pi/2) q[5];\\ncx q[5],q[4];\\nh q[4];\\ncx q[21],q[4];\\nrz(-pi/4) q[4];\\ncx q[3],q[4];\\nrz(pi/4) q[4];\\ncx q[21],q[4];\\nrz(pi/4) q[21];\\nrz(-pi/4) q[4];\\ncx q[3],q[4];\\ncx q[3],q[21];\\nrz(-pi/4) q[21];\\nrz(pi/4) q[3];\\ncx q[3],q[21];\\nrz(2.6375741) q[21];\\nrx(pi) q[21];\\nrz(2.6375741) q[21];\\nrz(-5*pi/4) q[4];\\nrx(pi/2) q[4];\\nrz(pi/2) q[4];\\ncx q[4],q[3];\\nh q[3];\\ncx q[20],q[3];\\nrz(-pi/4) q[3];\\ncx q[2],q[3];\\nrz(pi/4) q[3];\\ncx q[20],q[3];\\nrz(pi/4) q[20];\\nrz(-pi/4) q[3];\\ncx q[2],q[3];\\ncx q[2],q[20];\\nrz(pi/4) q[2];\\nrz(-pi/4) q[20];\\ncx q[2],q[20];\\nrz(2.6375741) q[20];\\nrx(pi) q[20];\\nrz(2.6375741) q[20];\\nrz(-5*pi/4) q[3];\\nrx(pi/2) q[3];\\nrz(pi/2) q[3];\\ncx q[3],q[2];\\nh q[2];\\ncx q[19],q[2];\\nrz(-pi/4) q[2];\\ncx q[1],q[2];\\nrz(pi/4) q[2];\\ncx q[19],q[2];\\nrz(pi/4) q[19];\\nrz(-pi/4) q[2];\\ncx q[1],q[2];\\ncx q[1],q[19];\\nrz(pi/4) q[1];\\nrz(-pi/4) q[19];\\ncx q[1],q[19];\\nrz(2.6375741) q[19];\\nrx(pi) q[19];\\nrz(2.6375741) q[19];\\nrz(-5*pi/4) q[2];\\nrx(pi/2) q[2];\\nrz(pi/2) q[2];\\ncx q[2],q[1];\\nh q[1];\\ncx q[18],q[1];\\nrz(-pi/4) q[1];\\ncx q[0],q[1];\\nrz(pi/4) q[1];\\ncx q[18],q[1];\\nrz(-pi/4) q[1];\\ncx q[0],q[1];\\nrz(-5*pi/4) q[1];\\nrx(pi/2) q[1];\\nrz(pi/2) q[1];\\nrz(pi/4) q[18];\\ncx q[0],q[18];\\nrz(pi/4) q[0];\\nrz(-pi/4) q[18];\\ncx q[0],q[18];\\ncx q[1],q[0];\\nrz(2.6375741) q[18];\\nrx(pi) q[18];\\nrz(2.6375741) q[18];\\ncx q[1],q[18];\\ncx q[2],q[19];\\ncx q[3],q[20];\\ncx q[4],q[21];\\ncx q[5],q[22];\\ncx q[6],q[23];\\ncx q[7],q[24];\\ncx q[8],q[25];\\ncx q[9],q[26];\\n')\n",
    "_mapping = map_circuit(_cuccaro36, _hardware)\n",
    "validate_mapping(_cuccaro36, _hardware, _mapping)\n",
    "_score, _worst = score_mapping(_cuccaro36, _hardware, _mapping)\n",
    "assert _worst == 5220, 'internal error'\n",
    "assert _score <= 1600, 'score is above 1600, try improving the mapping by placing pairs of qubits with many CNOTs close together'\n",
    "print('PASS: Score is under 1600 (see if you can beat our solution of 210)')"
   ]
  },
  {
   "cell_type": "code",
   "execution_count": 17,
   "metadata": {
    "deletable": false,
    "editable": false,
    "nbgrader": {
     "cell_type": "code",
     "checksum": "336161653a3da43ee47d1b85e5e107fe",
     "grade": true,
     "grade_id": "1c-test",
     "locked": true,
     "points": 5,
     "schema_version": 3,
     "solution": false,
     "task": false
    }
   },
   "outputs": [],
   "source": [
    "# Do not delete this cell\n",
    "# The autograder will test the function map_circuit.\n",
    "# Hidden tests"
   ]
  },
  {
   "cell_type": "markdown",
   "metadata": {},
   "source": [
    "# 2. Routing 2 Qubit Interactions\n",
    "\n",
    "Your second task is to route two qubit interactions. If two qubits are not adjacent in hardware, add in SWAPs (generate a new circuit with the SWAP gates!) to make them adjacent, execute the desired gate, and the add SWAPs to return them to their originial position. You should choose paths which use as few SWAPs as possible. The output circuit should only contain gates (SWAPs and CNOTs) executed on pairs of qubits that are adjacent in the hardware graph (and also any single-qubit gates from the original circuit).\n",
    "\n",
    "Make sure your code runs quickly.  Each test shouldn't run longer than a few seconds and 30 seconds will timeout the grader."
   ]
  },
  {
   "cell_type": "code",
   "execution_count": 18,
   "metadata": {},
   "outputs": [],
   "source": [
    "def verify_has_neighbors(logic_q1, logic_q2, mapping, grid_hardware):\n",
    "    # Creamos esta funcion que verifica si dos qubits son vecinos o no \n",
    "    physical_q1 = mapping.get(logic_q1)\n",
    "    physical_q2 = mapping.get(logic_q2)\n",
    "\n",
    "\n",
    "    #print(\"vecino fisico q1: {}  {}\".format(physical_q1, logic_q1))\n",
    "    #print(\"vecino fisico q2: {}  {}\".format(physical_q2, logic_q2))\n",
    "    #print(\"edges de q1:  {}\".format(grid_hardware.edges(physical_q1)))   \n",
    "    #print(\"edges de q2:  {}\".format(grid_hardware.edges(physical_q2)))  \n",
    "    \n",
    "    if physical_q1 is None or physical_q2 is None:\n",
    "        # Uno de los qubits lógicos no está en el mapeo\n",
    "        return False, physical_q1, physical_q2\n",
    "    \n",
    "    return grid_hardware.has_edge(physical_q1, physical_q2), physical_q1, physical_q2\n",
    "    \n",
    "def get_map_node_by_hw(hw_node,  mapping):\n",
    "    for logic_node, mapped_hw_node in mapping.items():\n",
    "        if mapped_hw_node == hw_node:\n",
    "            return logic_node\n",
    "    return None\n",
    "\n",
    "def get_map_node_by_sw(_logic_node, mapping):\n",
    "    for logic_node, mapped_hw_node in mapping.items():\n",
    "        if logic_node.index == _logic_node.index:            \n",
    "            return mapped_hw_node\n",
    "    return None\n",
    "\n",
    "\n",
    "\n",
    "#def get_map_node_by_sw(logic_q1, mapping):\n",
    "#    return mapping.get(logic_q1)\n",
    "\n",
    "def apply_swaps2(circuit, path, qubit_mapping):\n",
    "    # Asumiendo que `path` es una lista de nodos físicos en el orden del camino más corto\n",
    "    for i in range(len(path) - 1):\n",
    "        q1 = path[i]\n",
    "        q2 = path[i + 1]\n",
    "        # Aplicar un SWAP entre q1 y q2\n",
    "        circuit.swap(q1, q2)\n",
    "\n",
    "def apply_swaps(circuit, path, mapping):  \n",
    "    #print(\"PATH OJOOOOO {}\".format(path))\n",
    "    save_order = []\n",
    "    qubit2 =None\n",
    "    for i in range(len(path) - 2): # numero de swaps a aplicar\n",
    "        qubit1_hw = path[i]\n",
    "        qubit2_hw = path[i + 1]\n",
    "        qubit1_logic = get_map_node_by_hw(qubit1_hw, mapping)\n",
    "        qubit2_logic = get_map_node_by_hw(qubit2_hw, mapping)\n",
    "        qubit1 =qubit1_logic.index\n",
    "        qubit2= qubit2_logic.index\n",
    "        #print(\"PATH  Q1 logico {} Q2 logico {}\".format(qubit1, qubit2))\n",
    "        \n",
    "        #print(qubit2)\n",
    "        circuit.swap(qubit1, qubit2)\n",
    "        save_order.insert(0,(qubit1, qubit2))\n",
    "    return qubit2, save_order\n",
    "    \n",
    "def reverse_swaps(circuit, save_order):\n",
    "    for gate in save_order:\n",
    "        circuit.swap(gate[0], gate[1])\n",
    "    "
   ]
  },
  {
   "cell_type": "code",
   "execution_count": 19,
   "metadata": {
    "deletable": false,
    "nbgrader": {
     "cell_type": "code",
     "checksum": "29d09b56fe9efdf80d153882f7a3d7cd",
     "grade": false,
     "grade_id": "2",
     "locked": false,
     "schema_version": 3,
     "solution": true,
     "task": false
    }
   },
   "outputs": [],
   "source": [
    "def route_circuit(quantum_circuit:QuantumCircuit, target_hardware:nx.Graph,\n",
    "                  mapping:Dict[Qubit, int]) -> QuantumCircuit:\n",
    "    '''\n",
    "    QuantumCircuit's operate on registers of qubits. If the number of qubits in old_circuit is different from the number of qubits in the new circuit \n",
    "    you need to convert the qubits from old to new. \n",
    "\n",
    "    This function explains how to copy gates from one set of qubits to another in a different circuit.\n",
    "\n",
    "    Args: \n",
    "        old_circuit: the circuit to copy\n",
    "        n: number of qubits in the new circuit\n",
    "            \n",
    "    '''\n",
    "    #new_circuit = quantum_circuit.copy()\n",
    "    #new_circuit.data.clear()\n",
    "    new_circuit = qiskit.QuantumCircuit(len(target_hardware.nodes))\n",
    "    \n",
    "    for gate in quantum_circuit:\n",
    "        gate_instruction, qubits , cbits = gate \n",
    "        #new_qubit_indices = [gate[1][i].index for i in range(len(gate[1]))]\n",
    "        #new_circuit.append(gate[0], new_qubit_indices, gate[2])\n",
    "        if gate_instruction.name == 'cx':           \n",
    "            has_neighbor, physical_q1, physical_q2 = verify_has_neighbors(qubits[0], qubits[1], mapping, target_hardware)\n",
    "            sw_node_1 = [qubits[0].index]\n",
    "            sw_node_2 = [qubits[1].index]\n",
    "            if not has_neighbor: \n",
    "                path = nx.shortest_path(target_hardware, source=physical_q1, target=physical_q2)   \n",
    "                qubit2, save_order = apply_swaps(new_circuit, path, mapping)    \n",
    "                new_circuit.append(gate_instruction, [qubit2, sw_node_2], cbits)      \n",
    "                reverse_swaps(new_circuit, save_order )    \n",
    "            else: \n",
    "                new_qubit_indices = [gate[1][i].index for i in range(len(gate[1]))]\n",
    "                new_circuit.append(gate[0], new_qubit_indices, gate[2])\n",
    "        \n",
    "        else: \n",
    "            new_qubit_indices = [gate[1][i].index for i in range(len(gate[1]))]\n",
    "            new_circuit.append(gate[0], new_qubit_indices, gate[2])\n",
    "   \n",
    "    new_circuit2 = qiskit.QuantumCircuit(len(target_hardware.nodes))\n",
    "    for gate in new_circuit:\n",
    "        #print(\"@@@@@@@@@@@@@@@@@@@@\")\n",
    "        _qubits = gate[1]\n",
    "        new_qubit_indices =[]\n",
    "        for i in range(len(_qubits)): \n",
    "            #print(\"@@@@@@@@@@@@@@@@@@@@\")\n",
    "            #print(_qubits[i])\n",
    "            element = get_map_node_by_sw(_qubits[i], mapping)\n",
    "            #print(element)\n",
    "            new_qubit_indices.append(element)     \n",
    "        #print(new_qubit_indices)\n",
    "        new_circuit2.append(gate[0], new_qubit_indices, gate[2])\n",
    "        \n",
    "    return new_circuit2"
   ]
  },
  {
   "cell_type": "code",
   "execution_count": 20,
   "metadata": {},
   "outputs": [
    {
     "name": "stderr",
     "output_type": "stream",
     "text": [
      "C:\\Users\\panch\\AppData\\Local\\Temp\\ipykernel_21812\\521401969.py:24: DeprecationWarning: Back-references to from Bit instances to their containing Registers have been deprecated. Instead, inspect Registers to find their contained Bits.\n",
      "  sw_node_1 = [qubits[0].index]\n",
      "C:\\Users\\panch\\AppData\\Local\\Temp\\ipykernel_21812\\521401969.py:25: DeprecationWarning: Back-references to from Bit instances to their containing Registers have been deprecated. Instead, inspect Registers to find their contained Bits.\n",
      "  sw_node_2 = [qubits[1].index]\n",
      "C:\\Users\\panch\\AppData\\Local\\Temp\\ipykernel_21812\\521401969.py:32: DeprecationWarning: Back-references to from Bit instances to their containing Registers have been deprecated. Instead, inspect Registers to find their contained Bits.\n",
      "  new_qubit_indices = [gate[1][i].index for i in range(len(gate[1]))]\n",
      "C:\\Users\\panch\\AppData\\Local\\Temp\\ipykernel_21812\\521401969.py:36: DeprecationWarning: Back-references to from Bit instances to their containing Registers have been deprecated. Instead, inspect Registers to find their contained Bits.\n",
      "  new_qubit_indices = [gate[1][i].index for i in range(len(gate[1]))]\n",
      "C:\\Users\\panch\\AppData\\Local\\Temp\\ipykernel_21812\\3701808296.py:52: DeprecationWarning: Back-references to from Bit instances to their containing Registers have been deprecated. Instead, inspect Registers to find their contained Bits.\n",
      "  qubit1 =qubit1_logic.index\n",
      "C:\\Users\\panch\\AppData\\Local\\Temp\\ipykernel_21812\\3701808296.py:53: DeprecationWarning: Back-references to from Bit instances to their containing Registers have been deprecated. Instead, inspect Registers to find their contained Bits.\n",
      "  qubit2= qubit2_logic.index\n",
      "C:\\Users\\panch\\AppData\\Local\\Temp\\ipykernel_21812\\3701808296.py:26: DeprecationWarning: Back-references to from Bit instances to their containing Registers have been deprecated. Instead, inspect Registers to find their contained Bits.\n",
      "  if logic_node.index == _logic_node.index:\n"
     ]
    },
    {
     "data": {
      "text/html": [
       "<pre style=\"word-wrap: normal;white-space: pre;background: #fff0;line-height: 1.1;font-family: &quot;Courier New&quot;,Courier,monospace\">          ┌───┐                                                                                                ┌─────────┐                                                                                                                                 ┌─────────┐                 ┌───┐     \n",
       "q_0: ─────┤ X ├────────────────────────■────────────────────────────────■───────────────────X───────────X──────┤ Rz(π/4) ├─X──────────X─────X───────X──────────────────────────────■────────────────────────────────■───────────────────X───────────X──────┤ Rz(π/4) ├─X──────────X────┤ X ├─────\n",
       "          └─┬─┘┌───┐┌───┐┌──────────┐┌─┴─┐┌─────────┐┌───┐┌──────────┐┌─┴─┐┌─────────┐┌───┐ │           │      └─────────┘ │          │     │       │      ┌───┐┌───┐┌──────────┐┌─┴─┐┌─────────┐┌───┐┌──────────┐┌─┴─┐┌─────────┐┌───┐ │           │      └─────────┘ │          │    └─┬─┘     \n",
       "q_1: ──■────■──┤ H ├┤ X ├┤ Rz(-π/4) ├┤ X ├┤ Rz(π/4) ├┤ X ├┤ Rz(-π/4) ├┤ X ├┤ Rz(π/4) ├┤ H ├─X───■───────X──────────────────X───■──────X─────X───■───X───■──┤ H ├┤ X ├┤ Rz(-π/4) ├┤ X ├┤ Rz(π/4) ├┤ X ├┤ Rz(-π/4) ├┤ X ├┤ Rz(π/4) ├┤ H ├─X───■───────X──────────────────X───■──────X──────■────■──\n",
       "       │       └───┘└─┬─┘└──────────┘└───┘└─────────┘└─┬─┘└──────────┘└───┘└─────────┘└───┘     │                              │                │     ┌─┴─┐└───┘└─┬─┘└──────────┘└───┘└─────────┘└─┬─┘└──────────┘└───┘└─────────┘└───┘     │                              │                  │  \n",
       "q_2: ──┼──────────────┼────────────────────────────────┼────────────────────────────────────────┼──────────────────────────────┼────────────────┼─────┤ X ├───────┼────────────────────────────────┼────────────────────────────────────────┼──────────────────────────────┼──────────────────┼──\n",
       "       │              │                                │                                        │                              │                │     └───┘       │                                │                                        │                              │                  │  \n",
       "q_3: ──┼──────────────┼────────────────────────────────┼────────────────────────────────────────┼──────────────────────────────┼────────────────┼─────────────────┼────────────────────────────────┼────────────────────────────────────────┼──────────────────────────────┼──────────────────┼──\n",
       "     ┌─┴─┐            │                                │  ┌─────────┐                         ┌─┴─┐┌──────────┐              ┌─┴─┐┌───────┐   ┌─┴─┐               │                                │  ┌─────────┐                         ┌─┴─┐┌──────────┐              ┌─┴─┐┌───────┐     ┌─┴─┐\n",
       "q_4: ┤ X ├────────────■────────────────────────────────■──┤ Rz(π/4) ├─────────────────────────┤ X ├┤ Rz(-π/4) ├──────────────┤ X ├┤ Rx(π) ├───┤ X ├───────────────■────────────────────────────────■──┤ Rz(π/4) ├─────────────────────────┤ X ├┤ Rz(-π/4) ├──────────────┤ X ├┤ Rx(π) ├─────┤ X ├\n",
       "     └───┘                                                └─────────┘                         └───┘└──────────┘              └───┘└───────┘   └───┘                                                   └─────────┘                         └───┘└──────────┘              └───┘└───────┘     └───┘\n",
       "q_5: ────────────────────────────────────────────────────────────────────────────────────────────────────────────────────────────────────────────────────────────────────────────────────────────────────────────────────────────────────────────────────────────────────────────────────────────\n",
       "                                                                                                                                                                                                                                                                                                 </pre>"
      ],
      "text/plain": [
       "          ┌───┐                                                                                                ┌─────────┐                                                                                                                                 ┌─────────┐                 ┌───┐     \n",
       "q_0: ─────┤ X ├────────────────────────■────────────────────────────────■───────────────────X───────────X──────┤ Rz(π/4) ├─X──────────X─────X───────X──────────────────────────────■────────────────────────────────■───────────────────X───────────X──────┤ Rz(π/4) ├─X──────────X────┤ X ├─────\n",
       "          └─┬─┘┌───┐┌───┐┌──────────┐┌─┴─┐┌─────────┐┌───┐┌──────────┐┌─┴─┐┌─────────┐┌───┐ │           │      └─────────┘ │          │     │       │      ┌───┐┌───┐┌──────────┐┌─┴─┐┌─────────┐┌───┐┌──────────┐┌─┴─┐┌─────────┐┌───┐ │           │      └─────────┘ │          │    └─┬─┘     \n",
       "q_1: ──■────■──┤ H ├┤ X ├┤ Rz(-π/4) ├┤ X ├┤ Rz(π/4) ├┤ X ├┤ Rz(-π/4) ├┤ X ├┤ Rz(π/4) ├┤ H ├─X───■───────X──────────────────X───■──────X─────X───■───X───■──┤ H ├┤ X ├┤ Rz(-π/4) ├┤ X ├┤ Rz(π/4) ├┤ X ├┤ Rz(-π/4) ├┤ X ├┤ Rz(π/4) ├┤ H ├─X───■───────X──────────────────X───■──────X──────■────■──\n",
       "       │       └───┘└─┬─┘└──────────┘└───┘└─────────┘└─┬─┘└──────────┘└───┘└─────────┘└───┘     │                              │                │     ┌─┴─┐└───┘└─┬─┘└──────────┘└───┘└─────────┘└─┬─┘└──────────┘└───┘└─────────┘└───┘     │                              │                  │  \n",
       "q_2: ──┼──────────────┼────────────────────────────────┼────────────────────────────────────────┼──────────────────────────────┼────────────────┼─────┤ X ├───────┼────────────────────────────────┼────────────────────────────────────────┼──────────────────────────────┼──────────────────┼──\n",
       "       │              │                                │                                        │                              │                │     └───┘       │                                │                                        │                              │                  │  \n",
       "q_3: ──┼──────────────┼────────────────────────────────┼────────────────────────────────────────┼──────────────────────────────┼────────────────┼─────────────────┼────────────────────────────────┼────────────────────────────────────────┼──────────────────────────────┼──────────────────┼──\n",
       "     ┌─┴─┐            │                                │  ┌─────────┐                         ┌─┴─┐┌──────────┐              ┌─┴─┐┌───────┐   ┌─┴─┐               │                                │  ┌─────────┐                         ┌─┴─┐┌──────────┐              ┌─┴─┐┌───────┐     ┌─┴─┐\n",
       "q_4: ┤ X ├────────────■────────────────────────────────■──┤ Rz(π/4) ├─────────────────────────┤ X ├┤ Rz(-π/4) ├──────────────┤ X ├┤ Rx(π) ├───┤ X ├───────────────■────────────────────────────────■──┤ Rz(π/4) ├─────────────────────────┤ X ├┤ Rz(-π/4) ├──────────────┤ X ├┤ Rx(π) ├─────┤ X ├\n",
       "     └───┘                                                └─────────┘                         └───┘└──────────┘              └───┘└───────┘   └───┘                                                   └─────────┘                         └───┘└──────────┘              └───┘└───────┘     └───┘\n",
       "q_5: ────────────────────────────────────────────────────────────────────────────────────────────────────────────────────────────────────────────────────────────────────────────────────────────────────────────────────────────────────────────────────────────────────────────────────────────\n",
       "                                                                                                                                                                                                                                                                                                 "
      ]
     },
     "execution_count": 20,
     "metadata": {},
     "output_type": "execute_result"
    }
   ],
   "source": [
    "mapping = map_circuit(cuccaro, grid_hardware)\n",
    "routed = route_circuit(cuccaro, grid_hardware, mapping)\n",
    "routed.draw(fold=-1)"
   ]
  },
  {
   "cell_type": "code",
   "execution_count": 21,
   "metadata": {
    "deletable": false,
    "editable": false,
    "nbgrader": {
     "cell_type": "code",
     "checksum": "ae11d42113403ad9dc0af513f570093e",
     "grade": true,
     "grade_id": "2-helpers",
     "locked": true,
     "points": 0,
     "schema_version": 3,
     "solution": false,
     "task": false
    }
   },
   "outputs": [],
   "source": [
    "# Do not delete this cell\n",
    "def validate_routing(circuit, target_hardware, mapping, routed_circuit, check_unitary=True):\n",
    "    '''Set check_unitary=False for circuits with over 10 qubits.'''\n",
    "    # Check other arguments\n",
    "    assert isinstance(circuit, QuantumCircuit)\n",
    "    assert isinstance(target_hardware, nx.Graph)\n",
    "    assert isinstance(mapping, dict)\n",
    "    qubits = frozenset(q for q in circuit.qubits)\n",
    "    assert len(circuit.qubits) == len(qubits), 'Unsupported: circuits with multiple registers'\n",
    "    assert all(isinstance(q, Qubit) for q in qubits)\n",
    "    assert len(qubits) <= len(target_hardware.nodes), 'Not enough qubits in the hardware'\n",
    "    assert all(isinstance(hw_q, int) for hw_q in target_hardware.nodes), 'Unsupported: non-int hardware qubit ids'\n",
    "    # Check unitary\n",
    "    if check_unitary:  # Slow for circuits with more than 10 qubits\n",
    "        extended_circuit = QuantumCircuit(len(target_hardware.nodes))\n",
    "        for gate in circuit:\n",
    "            extended_qubits = [extended_circuit.qubits[q.index]\n",
    "                               for q in gate[1]]\n",
    "            extended_circuit.append(gate[0], extended_qubits, gate[2])\n",
    "        unmapped_circuit = QuantumCircuit(len(target_hardware.nodes))\n",
    "        rev_mapping = {v: k.index for k, v in mapping.items()}\n",
    "        for gate in routed_circuit:\n",
    "            unmapped_qubits = [unmapped_circuit.qubits[rev_mapping.get(q.index, q.index)]\n",
    "                               for q in gate[1]]\n",
    "            unmapped_circuit.append(gate[0], unmapped_qubits, gate[2])\n",
    "        \n",
    "        from qiskit.quantum_info.operators.predicates import matrix_equal\n",
    "        unitary = lambda c: qiskit.quantum_info.Operator(c).data\n",
    "        assert matrix_equal(unitary(unmapped_circuit), unitary(extended_circuit)), (\n",
    "            'Circuits are not eqivalent (for this test, make sure to include '\n",
    "            'any unnessesary SWAP gates at the end of the circuit to ensure the '\n",
    "            'qubits are moved back to their starting locations.)')\n",
    "    # Check valid gates\n",
    "    for gate in routed_circuit:\n",
    "        if len(gate[1]) < 2: continue  # Ignore single-qubit gates\n",
    "        assert len(gate[1]) <= 2, (\n",
    "            f'Invalid gate {gate}: the routed circuit should not contain '\n",
    "            f'3-qubit or larger gates')\n",
    "        # Check connectivity of the two-qubit gate\n",
    "        q1, q2 = gate[1]\n",
    "        assert (q1.index, q2.index) in target_hardware.edges, (\n",
    "            f'Invalid gate {gate}: the routed circuit should not contain '\n",
    "            f'two-qubits gates on pairs of non-adjacent qubits (in the '\n",
    "            f'target_hardware graph)')\n",
    "\n",
    "def score_routing(circuit, target_hardware, mapping, routed_circuit):\n",
    "    '''\n",
    "    Computes a score that counts the number of SWAPs needed for this routing.\n",
    "    (Actually counts the number of extra CNOTs divided by 3.)\n",
    "    \n",
    "    Returns the tuple (your score, swap-there-and-back score).  Lower values are better.\n",
    "\n",
    "    *This should be equal (or maybe a bit lower) than your score for part 1.*\n",
    "    '''\n",
    "    validate_routing(circuit, target_hardware, mapping, routed_circuit, check_unitary=False)\n",
    "    \n",
    "    def count_cnots_in_circuit(c):\n",
    "        pm = qiskit.transpiler.PassManager([qiskit.transpiler.passes.Unroller(['u3', 'cx'])])\n",
    "        c2 = pm.run(c)\n",
    "        count = sum(isinstance(gate[0], qiskit.circuit.library.standard_gates.x.CXGate)\n",
    "                    for gate in c2)\n",
    "        return count\n",
    "            \n",
    "    old_cnot_count = count_cnots_in_circuit(circuit)\n",
    "    new_cnot_count = count_cnots_in_circuit(routed_circuit)\n",
    "    score = round((new_cnot_count - old_cnot_count) / 3, 3)\n",
    "    if score == int(score): score = int(score)\n",
    "    assert score >= 0, 'The schedule does not contain enough gates.'\n",
    "\n",
    "    # Calculate target score assuming swap-there-and-back routing\n",
    "    ig = interaction_graph_from_circuit(circuit)\n",
    "    shortest_paths = dict(nx.all_pairs_shortest_path_length(target_hardware))\n",
    "    target_score = 0\n",
    "    for q1, q2 in ig.edges:\n",
    "        hw_q1 = mapping[q1]\n",
    "        hw_q2 = mapping[q2]\n",
    "        dist = shortest_paths[hw_q1][hw_q2]\n",
    "        cnot_count = ig[q1][q2]['weight']\n",
    "        target_score += (dist-1) * 2 * cnot_count\n",
    "    print(f'Your routing score is {score} SWAPs.')\n",
    "    print(f'(You should have gotten {target_score} SWAPs if you used the '\n",
    "          f'swap-there-and-back routing strategy.)')\n",
    "    return score, target_score"
   ]
  },
  {
   "cell_type": "code",
   "execution_count": 22,
   "metadata": {},
   "outputs": [
    {
     "name": "stdout",
     "output_type": "stream",
     "text": [
      "Your routing score is 10 SWAPs.\n",
      "(You should have gotten 10 SWAPs if you used the swap-there-and-back routing strategy.)\n"
     ]
    },
    {
     "name": "stderr",
     "output_type": "stream",
     "text": [
      "C:\\Users\\panch\\AppData\\Local\\Temp\\ipykernel_21812\\521401969.py:24: DeprecationWarning: Back-references to from Bit instances to their containing Registers have been deprecated. Instead, inspect Registers to find their contained Bits.\n",
      "  sw_node_1 = [qubits[0].index]\n",
      "C:\\Users\\panch\\AppData\\Local\\Temp\\ipykernel_21812\\521401969.py:25: DeprecationWarning: Back-references to from Bit instances to their containing Registers have been deprecated. Instead, inspect Registers to find their contained Bits.\n",
      "  sw_node_2 = [qubits[1].index]\n",
      "C:\\Users\\panch\\AppData\\Local\\Temp\\ipykernel_21812\\521401969.py:32: DeprecationWarning: Back-references to from Bit instances to their containing Registers have been deprecated. Instead, inspect Registers to find their contained Bits.\n",
      "  new_qubit_indices = [gate[1][i].index for i in range(len(gate[1]))]\n",
      "C:\\Users\\panch\\AppData\\Local\\Temp\\ipykernel_21812\\521401969.py:36: DeprecationWarning: Back-references to from Bit instances to their containing Registers have been deprecated. Instead, inspect Registers to find their contained Bits.\n",
      "  new_qubit_indices = [gate[1][i].index for i in range(len(gate[1]))]\n",
      "C:\\Users\\panch\\AppData\\Local\\Temp\\ipykernel_21812\\3701808296.py:52: DeprecationWarning: Back-references to from Bit instances to their containing Registers have been deprecated. Instead, inspect Registers to find their contained Bits.\n",
      "  qubit1 =qubit1_logic.index\n",
      "C:\\Users\\panch\\AppData\\Local\\Temp\\ipykernel_21812\\3701808296.py:53: DeprecationWarning: Back-references to from Bit instances to their containing Registers have been deprecated. Instead, inspect Registers to find their contained Bits.\n",
      "  qubit2= qubit2_logic.index\n",
      "C:\\Users\\panch\\AppData\\Local\\Temp\\ipykernel_21812\\3701808296.py:26: DeprecationWarning: Back-references to from Bit instances to their containing Registers have been deprecated. Instead, inspect Registers to find their contained Bits.\n",
      "  if logic_node.index == _logic_node.index:\n",
      "C:\\Users\\panch\\AppData\\Local\\Temp\\ipykernel_21812\\3383947762.py:41: DeprecationWarning: Back-references to from Bit instances to their containing Registers have been deprecated. Instead, inspect Registers to find their contained Bits.\n",
      "  assert (q1.index, q2.index) in target_hardware.edges, (\n"
     ]
    },
    {
     "data": {
      "text/plain": [
       "(10, 10)"
      ]
     },
     "execution_count": 22,
     "metadata": {},
     "output_type": "execute_result"
    }
   ],
   "source": [
    "# You may modify this cell to test scores for your mapper on various circuits\n",
    "\n",
    "mapping = map_circuit(cuccaro, grid_hardware)\n",
    "routed = route_circuit(cuccaro, grid_hardware, mapping)\n",
    "score_routing(cuccaro, grid_hardware, mapping, routed)"
   ]
  },
  {
   "cell_type": "code",
   "execution_count": 23,
   "metadata": {
    "deletable": false,
    "editable": false,
    "nbgrader": {
     "cell_type": "code",
     "checksum": "bec00c30f870dd04603bde21305880c4",
     "grade": true,
     "grade_id": "2a-test",
     "locked": true,
     "points": 20,
     "schema_version": 3,
     "solution": false,
     "task": false
    }
   },
   "outputs": [
    {
     "name": "stdout",
     "output_type": "stream",
     "text": [
      "Your routing score is 68 SWAPs.\n",
      "(You should have gotten 68 SWAPs if you used the swap-there-and-back routing strategy.)\n",
      "PASS: Valid circuit routing\n"
     ]
    },
    {
     "name": "stderr",
     "output_type": "stream",
     "text": [
      "C:\\Users\\panch\\AppData\\Local\\Temp\\ipykernel_21812\\521401969.py:24: DeprecationWarning: Back-references to from Bit instances to their containing Registers have been deprecated. Instead, inspect Registers to find their contained Bits.\n",
      "  sw_node_1 = [qubits[0].index]\n",
      "C:\\Users\\panch\\AppData\\Local\\Temp\\ipykernel_21812\\521401969.py:25: DeprecationWarning: Back-references to from Bit instances to their containing Registers have been deprecated. Instead, inspect Registers to find their contained Bits.\n",
      "  sw_node_2 = [qubits[1].index]\n",
      "C:\\Users\\panch\\AppData\\Local\\Temp\\ipykernel_21812\\521401969.py:32: DeprecationWarning: Back-references to from Bit instances to their containing Registers have been deprecated. Instead, inspect Registers to find their contained Bits.\n",
      "  new_qubit_indices = [gate[1][i].index for i in range(len(gate[1]))]\n",
      "C:\\Users\\panch\\AppData\\Local\\Temp\\ipykernel_21812\\3701808296.py:52: DeprecationWarning: Back-references to from Bit instances to their containing Registers have been deprecated. Instead, inspect Registers to find their contained Bits.\n",
      "  qubit1 =qubit1_logic.index\n",
      "C:\\Users\\panch\\AppData\\Local\\Temp\\ipykernel_21812\\3701808296.py:53: DeprecationWarning: Back-references to from Bit instances to their containing Registers have been deprecated. Instead, inspect Registers to find their contained Bits.\n",
      "  qubit2= qubit2_logic.index\n",
      "C:\\Users\\panch\\AppData\\Local\\Temp\\ipykernel_21812\\521401969.py:36: DeprecationWarning: Back-references to from Bit instances to their containing Registers have been deprecated. Instead, inspect Registers to find their contained Bits.\n",
      "  new_qubit_indices = [gate[1][i].index for i in range(len(gate[1]))]\n",
      "C:\\Users\\panch\\AppData\\Local\\Temp\\ipykernel_21812\\3701808296.py:26: DeprecationWarning: Back-references to from Bit instances to their containing Registers have been deprecated. Instead, inspect Registers to find their contained Bits.\n",
      "  if logic_node.index == _logic_node.index:\n",
      "C:\\Users\\panch\\AppData\\Local\\Temp\\ipykernel_21812\\3383947762.py:17: DeprecationWarning: Back-references to from Bit instances to their containing Registers have been deprecated. Instead, inspect Registers to find their contained Bits.\n",
      "  extended_qubits = [extended_circuit.qubits[q.index]\n",
      "C:\\Users\\panch\\AppData\\Local\\Temp\\ipykernel_21812\\3383947762.py:21: DeprecationWarning: Back-references to from Bit instances to their containing Registers have been deprecated. Instead, inspect Registers to find their contained Bits.\n",
      "  rev_mapping = {v: k.index for k, v in mapping.items()}\n",
      "C:\\Users\\panch\\AppData\\Local\\Temp\\ipykernel_21812\\3383947762.py:23: DeprecationWarning: Back-references to from Bit instances to their containing Registers have been deprecated. Instead, inspect Registers to find their contained Bits.\n",
      "  unmapped_qubits = [unmapped_circuit.qubits[rev_mapping.get(q.index, q.index)]\n",
      "C:\\Users\\panch\\AppData\\Local\\Temp\\ipykernel_21812\\3383947762.py:41: DeprecationWarning: Back-references to from Bit instances to their containing Registers have been deprecated. Instead, inspect Registers to find their contained Bits.\n",
      "  assert (q1.index, q2.index) in target_hardware.edges, (\n"
     ]
    }
   ],
   "source": [
    "# Do not delete this cell\n",
    "# The autograder will test the function route_circuit.\n",
    "# This test is worth most of the points for part 2\n",
    "_hardware = nx.path_graph(7)\n",
    "#_cuccaro6 = decomposed_adder_circuit(6)\n",
    "_cuccaro6 = QuantumCircuit.from_qasm_str('OPENQASM 2.0;\\ninclude \"qelib1.inc\";\\nqreg q[6];\\ncx q[1],q[3];\\ncx q[1],q[0];\\nh q[1];\\ncx q[3],q[1];\\nrz(-pi/4) q[1];\\ncx q[0],q[1];\\nrz(pi/4) q[1];\\ncx q[3],q[1];\\nrz(-pi/4) q[1];\\ncx q[0],q[1];\\nrz(-5*pi/4) q[1];\\nrx(pi/2) q[1];\\nrz(pi/2) q[1];\\nrz(pi/4) q[3];\\ncx q[0],q[3];\\nrz(pi/4) q[0];\\nrz(-pi/4) q[3];\\ncx q[0],q[3];\\nrz(2.6375741) q[3];\\nrx(pi) q[3];\\nrz(2.6375741) q[3];\\ncx q[0],q[3];\\ncx q[2],q[4];\\ncx q[2],q[1];\\nh q[2];\\ncx q[4],q[2];\\nrz(-pi/4) q[2];\\ncx q[1],q[2];\\nrz(pi/4) q[2];\\ncx q[4],q[2];\\nrz(-pi/4) q[2];\\ncx q[1],q[2];\\nrz(-5*pi/4) q[2];\\nrx(pi/2) q[2];\\nrz(pi/2) q[2];\\nrz(pi/4) q[4];\\ncx q[1],q[4];\\nrz(pi/4) q[1];\\nrz(-pi/4) q[4];\\ncx q[1],q[4];\\nrz(2.6375741) q[4];\\nrx(pi) q[4];\\nrz(2.6375741) q[4];\\ncx q[1],q[4];\\ncx q[2],q[5];\\nh q[2];\\ncx q[4],q[2];\\nrz(-pi/4) q[2];\\ncx q[1],q[2];\\nrz(pi/4) q[2];\\ncx q[4],q[2];\\nrz(-pi/4) q[2];\\ncx q[1],q[2];\\nrz(-5*pi/4) q[2];\\nrx(pi/2) q[2];\\nrz(pi/2) q[2];\\nrz(pi/4) q[4];\\ncx q[1],q[4];\\nrz(pi/4) q[1];\\nrz(-pi/4) q[4];\\ncx q[1],q[4];\\ncx q[2],q[1];\\nh q[1];\\ncx q[3],q[1];\\nrz(-pi/4) q[1];\\ncx q[0],q[1];\\nrz(pi/4) q[1];\\ncx q[3],q[1];\\nrz(-pi/4) q[1];\\ncx q[0],q[1];\\nrz(-5*pi/4) q[1];\\nrx(pi/2) q[1];\\nrz(pi/2) q[1];\\nrz(pi/4) q[3];\\ncx q[0],q[3];\\nrz(pi/4) q[0];\\nrz(-pi/4) q[3];\\ncx q[0],q[3];\\ncx q[1],q[0];\\nrz(2.6375741) q[3];\\nrx(pi) q[3];\\nrz(2.6375741) q[3];\\ncx q[1],q[3];\\nrz(2.6375741) q[4];\\nrx(pi) q[4];\\nrz(2.6375741) q[4];\\ncx q[2],q[4];\\n')\n",
    "# Give a fixed mapping so we only test your router\n",
    "_mapping = {Qubit(QuantumRegister(6, 'q'), 1): 0,\n",
    "            Qubit(QuantumRegister(6, 'q'), 3): 1,\n",
    "            Qubit(QuantumRegister(6, 'q'), 0): 2,\n",
    "            Qubit(QuantumRegister(6, 'q'), 2): 3,\n",
    "            Qubit(QuantumRegister(6, 'q'), 4): 4,\n",
    "            Qubit(QuantumRegister(6, 'q'), 5): 5}\n",
    "validate_mapping(_cuccaro6, _hardware, _mapping)\n",
    "_routing = route_circuit(_cuccaro6, _hardware, _mapping)  # Run your code\n",
    "validate_routing(_cuccaro6, _hardware, _mapping, _routing)\n",
    "score_routing(_cuccaro6, _hardware, _mapping, _routing)\n",
    "print('PASS: Valid circuit routing')"
   ]
  },
  {
   "cell_type": "code",
   "execution_count": 24,
   "metadata": {
    "deletable": false,
    "editable": false,
    "nbgrader": {
     "cell_type": "code",
     "checksum": "85ca09602d1df0f3662be4ef6ef623ec",
     "grade": true,
     "grade_id": "2b-test",
     "locked": true,
     "points": 5,
     "schema_version": 3,
     "solution": false,
     "task": false
    }
   },
   "outputs": [
    {
     "name": "stderr",
     "output_type": "stream",
     "text": [
      "C:\\Users\\panch\\AppData\\Local\\Temp\\ipykernel_21812\\521401969.py:24: DeprecationWarning: Back-references to from Bit instances to their containing Registers have been deprecated. Instead, inspect Registers to find their contained Bits.\n",
      "  sw_node_1 = [qubits[0].index]\n",
      "C:\\Users\\panch\\AppData\\Local\\Temp\\ipykernel_21812\\521401969.py:25: DeprecationWarning: Back-references to from Bit instances to their containing Registers have been deprecated. Instead, inspect Registers to find their contained Bits.\n",
      "  sw_node_2 = [qubits[1].index]\n",
      "C:\\Users\\panch\\AppData\\Local\\Temp\\ipykernel_21812\\521401969.py:32: DeprecationWarning: Back-references to from Bit instances to their containing Registers have been deprecated. Instead, inspect Registers to find their contained Bits.\n",
      "  new_qubit_indices = [gate[1][i].index for i in range(len(gate[1]))]\n",
      "C:\\Users\\panch\\AppData\\Local\\Temp\\ipykernel_21812\\521401969.py:36: DeprecationWarning: Back-references to from Bit instances to their containing Registers have been deprecated. Instead, inspect Registers to find their contained Bits.\n",
      "  new_qubit_indices = [gate[1][i].index for i in range(len(gate[1]))]\n",
      "C:\\Users\\panch\\AppData\\Local\\Temp\\ipykernel_21812\\3701808296.py:52: DeprecationWarning: Back-references to from Bit instances to their containing Registers have been deprecated. Instead, inspect Registers to find their contained Bits.\n",
      "  qubit1 =qubit1_logic.index\n",
      "C:\\Users\\panch\\AppData\\Local\\Temp\\ipykernel_21812\\3701808296.py:53: DeprecationWarning: Back-references to from Bit instances to their containing Registers have been deprecated. Instead, inspect Registers to find their contained Bits.\n",
      "  qubit2= qubit2_logic.index\n",
      "C:\\Users\\panch\\AppData\\Local\\Temp\\ipykernel_21812\\3701808296.py:26: DeprecationWarning: Back-references to from Bit instances to their containing Registers have been deprecated. Instead, inspect Registers to find their contained Bits.\n",
      "  if logic_node.index == _logic_node.index:\n",
      "C:\\Users\\panch\\AppData\\Local\\Temp\\ipykernel_21812\\3383947762.py:41: DeprecationWarning: Back-references to from Bit instances to their containing Registers have been deprecated. Instead, inspect Registers to find their contained Bits.\n",
      "  assert (q1.index, q2.index) in target_hardware.edges, (\n"
     ]
    },
    {
     "name": "stdout",
     "output_type": "stream",
     "text": [
      "Your routing score is 380 SWAPs.\n",
      "(You should have gotten 380 SWAPs if you used the swap-there-and-back routing strategy.)\n",
      "PASS: Score is under 380 (see if you can beat our solution of 380)\n"
     ]
    }
   ],
   "source": [
    "# Do not delete this cell\n",
    "# The autograder will test the function route_circuit.\n",
    "_hardware = nx.grid_2d_graph(6, 7)\n",
    "_hardware = nx.relabel_nodes(_hardware,\n",
    "    {n: i for i, n in enumerate(_hardware.nodes)})\n",
    "#_cuccaro38 = decomposed_adder_circuit(38)\n",
    "_cuccaro38 = QuantumCircuit.from_qasm_str('OPENQASM 2.0;\\ninclude \"qelib1.inc\";\\nqreg q[38];\\ncx q[1],q[19];\\ncx q[1],q[0];\\nh q[1];\\ncx q[19],q[1];\\nrz(-pi/4) q[1];\\ncx q[0],q[1];\\nrz(pi/4) q[1];\\ncx q[19],q[1];\\nrz(-pi/4) q[1];\\ncx q[0],q[1];\\nrz(-5*pi/4) q[1];\\nrx(pi/2) q[1];\\nrz(pi/2) q[1];\\nrz(pi/4) q[19];\\ncx q[0],q[19];\\nrz(pi/4) q[0];\\nrz(-pi/4) q[19];\\ncx q[0],q[19];\\nrz(2.6375741) q[19];\\nrx(pi) q[19];\\nrz(2.6375741) q[19];\\ncx q[0],q[19];\\ncx q[2],q[20];\\ncx q[2],q[1];\\nh q[2];\\ncx q[20],q[2];\\nrz(-pi/4) q[2];\\ncx q[1],q[2];\\nrz(pi/4) q[2];\\ncx q[20],q[2];\\nrz(-pi/4) q[2];\\ncx q[1],q[2];\\nrz(-5*pi/4) q[2];\\nrx(pi/2) q[2];\\nrz(pi/2) q[2];\\nrz(pi/4) q[20];\\ncx q[1],q[20];\\nrz(pi/4) q[1];\\nrz(-pi/4) q[20];\\ncx q[1],q[20];\\nrz(2.6375741) q[20];\\nrx(pi) q[20];\\nrz(2.6375741) q[20];\\ncx q[1],q[20];\\ncx q[3],q[21];\\ncx q[3],q[2];\\nh q[3];\\ncx q[21],q[3];\\nrz(-pi/4) q[3];\\ncx q[2],q[3];\\nrz(pi/4) q[3];\\ncx q[21],q[3];\\nrz(pi/4) q[21];\\nrz(-pi/4) q[3];\\ncx q[2],q[3];\\ncx q[2],q[21];\\nrz(pi/4) q[2];\\nrz(-pi/4) q[21];\\ncx q[2],q[21];\\nrz(2.6375741) q[21];\\nrx(pi) q[21];\\nrz(2.6375741) q[21];\\ncx q[2],q[21];\\nrz(-5*pi/4) q[3];\\nrx(pi/2) q[3];\\nrz(pi/2) q[3];\\ncx q[4],q[22];\\ncx q[4],q[3];\\nh q[4];\\ncx q[22],q[4];\\nrz(-pi/4) q[4];\\ncx q[3],q[4];\\nrz(pi/4) q[4];\\ncx q[22],q[4];\\nrz(pi/4) q[22];\\nrz(-pi/4) q[4];\\ncx q[3],q[4];\\ncx q[3],q[22];\\nrz(-pi/4) q[22];\\nrz(pi/4) q[3];\\ncx q[3],q[22];\\nrz(2.6375741) q[22];\\nrx(pi) q[22];\\nrz(2.6375741) q[22];\\ncx q[3],q[22];\\nrz(-5*pi/4) q[4];\\nrx(pi/2) q[4];\\nrz(pi/2) q[4];\\ncx q[5],q[23];\\ncx q[5],q[4];\\nh q[5];\\ncx q[23],q[5];\\nrz(-pi/4) q[5];\\ncx q[4],q[5];\\nrz(pi/4) q[5];\\ncx q[23],q[5];\\nrz(pi/4) q[23];\\nrz(-pi/4) q[5];\\ncx q[4],q[5];\\ncx q[4],q[23];\\nrz(-pi/4) q[23];\\nrz(pi/4) q[4];\\ncx q[4],q[23];\\nrz(2.6375741) q[23];\\nrx(pi) q[23];\\nrz(2.6375741) q[23];\\ncx q[4],q[23];\\nrz(-5*pi/4) q[5];\\nrx(pi/2) q[5];\\nrz(pi/2) q[5];\\ncx q[6],q[24];\\ncx q[6],q[5];\\nh q[6];\\ncx q[24],q[6];\\nrz(-pi/4) q[6];\\ncx q[5],q[6];\\nrz(pi/4) q[6];\\ncx q[24],q[6];\\nrz(pi/4) q[24];\\nrz(-pi/4) q[6];\\ncx q[5],q[6];\\ncx q[5],q[24];\\nrz(-pi/4) q[24];\\nrz(pi/4) q[5];\\ncx q[5],q[24];\\nrz(2.6375741) q[24];\\nrx(pi) q[24];\\nrz(2.6375741) q[24];\\ncx q[5],q[24];\\nrz(-5*pi/4) q[6];\\nrx(pi/2) q[6];\\nrz(pi/2) q[6];\\ncx q[7],q[25];\\ncx q[7],q[6];\\nh q[7];\\ncx q[25],q[7];\\nrz(-pi/4) q[7];\\ncx q[6],q[7];\\nrz(pi/4) q[7];\\ncx q[25],q[7];\\nrz(pi/4) q[25];\\nrz(-pi/4) q[7];\\ncx q[6],q[7];\\ncx q[6],q[25];\\nrz(-pi/4) q[25];\\nrz(pi/4) q[6];\\ncx q[6],q[25];\\nrz(2.6375741) q[25];\\nrx(pi) q[25];\\nrz(2.6375741) q[25];\\ncx q[6],q[25];\\nrz(-5*pi/4) q[7];\\nrx(pi/2) q[7];\\nrz(pi/2) q[7];\\ncx q[8],q[26];\\ncx q[8],q[7];\\nh q[8];\\ncx q[26],q[8];\\nrz(-pi/4) q[8];\\ncx q[7],q[8];\\nrz(pi/4) q[8];\\ncx q[26],q[8];\\nrz(pi/4) q[26];\\nrz(-pi/4) q[8];\\ncx q[7],q[8];\\ncx q[7],q[26];\\nrz(-pi/4) q[26];\\nrz(pi/4) q[7];\\ncx q[7],q[26];\\nrz(2.6375741) q[26];\\nrx(pi) q[26];\\nrz(2.6375741) q[26];\\ncx q[7],q[26];\\nrz(-5*pi/4) q[8];\\nrx(pi/2) q[8];\\nrz(pi/2) q[8];\\ncx q[9],q[27];\\ncx q[9],q[8];\\nh q[9];\\ncx q[27],q[9];\\nrz(-pi/4) q[9];\\ncx q[8],q[9];\\nrz(pi/4) q[9];\\ncx q[27],q[9];\\nrz(pi/4) q[27];\\nrz(-pi/4) q[9];\\ncx q[8],q[9];\\ncx q[8],q[27];\\nrz(-pi/4) q[27];\\nrz(pi/4) q[8];\\ncx q[8],q[27];\\nrz(2.6375741) q[27];\\nrx(pi) q[27];\\nrz(2.6375741) q[27];\\ncx q[8],q[27];\\nrz(-5*pi/4) q[9];\\nrx(pi/2) q[9];\\nrz(pi/2) q[9];\\ncx q[10],q[28];\\ncx q[10],q[9];\\nh q[10];\\ncx q[28],q[10];\\nrz(-pi/4) q[10];\\ncx q[9],q[10];\\nrz(pi/4) q[10];\\ncx q[28],q[10];\\nrz(-pi/4) q[10];\\nrz(pi/4) q[28];\\ncx q[9],q[10];\\nrz(-5*pi/4) q[10];\\nrx(pi/2) q[10];\\nrz(pi/2) q[10];\\ncx q[9],q[28];\\nrz(-pi/4) q[28];\\nrz(pi/4) q[9];\\ncx q[9],q[28];\\nrz(2.6375741) q[28];\\nrx(pi) q[28];\\nrz(2.6375741) q[28];\\ncx q[9],q[28];\\ncx q[11],q[29];\\ncx q[11],q[10];\\nh q[11];\\ncx q[29],q[11];\\nrz(-pi/4) q[11];\\ncx q[10],q[11];\\nrz(pi/4) q[11];\\ncx q[29],q[11];\\nrz(-pi/4) q[11];\\ncx q[10],q[11];\\nrz(-5*pi/4) q[11];\\nrx(pi/2) q[11];\\nrz(pi/2) q[11];\\nrz(pi/4) q[29];\\ncx q[10],q[29];\\nrz(pi/4) q[10];\\nrz(-pi/4) q[29];\\ncx q[10],q[29];\\nrz(2.6375741) q[29];\\nrx(pi) q[29];\\nrz(2.6375741) q[29];\\ncx q[10],q[29];\\ncx q[12],q[30];\\ncx q[12],q[11];\\nh q[12];\\ncx q[30],q[12];\\nrz(-pi/4) q[12];\\ncx q[11],q[12];\\nrz(pi/4) q[12];\\ncx q[30],q[12];\\nrz(-pi/4) q[12];\\ncx q[11],q[12];\\nrz(-5*pi/4) q[12];\\nrx(pi/2) q[12];\\nrz(pi/2) q[12];\\nrz(pi/4) q[30];\\ncx q[11],q[30];\\nrz(pi/4) q[11];\\nrz(-pi/4) q[30];\\ncx q[11],q[30];\\nrz(2.6375741) q[30];\\nrx(pi) q[30];\\nrz(2.6375741) q[30];\\ncx q[11],q[30];\\ncx q[13],q[31];\\ncx q[13],q[12];\\nh q[13];\\ncx q[31],q[13];\\nrz(-pi/4) q[13];\\ncx q[12],q[13];\\nrz(pi/4) q[13];\\ncx q[31],q[13];\\nrz(-pi/4) q[13];\\ncx q[12],q[13];\\nrz(-5*pi/4) q[13];\\nrx(pi/2) q[13];\\nrz(pi/2) q[13];\\nrz(pi/4) q[31];\\ncx q[12],q[31];\\nrz(pi/4) q[12];\\nrz(-pi/4) q[31];\\ncx q[12],q[31];\\nrz(2.6375741) q[31];\\nrx(pi) q[31];\\nrz(2.6375741) q[31];\\ncx q[12],q[31];\\ncx q[14],q[32];\\ncx q[14],q[13];\\nh q[14];\\ncx q[32],q[14];\\nrz(-pi/4) q[14];\\ncx q[13],q[14];\\nrz(pi/4) q[14];\\ncx q[32],q[14];\\nrz(-pi/4) q[14];\\ncx q[13],q[14];\\nrz(-5*pi/4) q[14];\\nrx(pi/2) q[14];\\nrz(pi/2) q[14];\\nrz(pi/4) q[32];\\ncx q[13],q[32];\\nrz(pi/4) q[13];\\nrz(-pi/4) q[32];\\ncx q[13],q[32];\\nrz(2.6375741) q[32];\\nrx(pi) q[32];\\nrz(2.6375741) q[32];\\ncx q[13],q[32];\\ncx q[15],q[33];\\ncx q[15],q[14];\\nh q[15];\\ncx q[33],q[15];\\nrz(-pi/4) q[15];\\ncx q[14],q[15];\\nrz(pi/4) q[15];\\ncx q[33],q[15];\\nrz(-pi/4) q[15];\\ncx q[14],q[15];\\nrz(-5*pi/4) q[15];\\nrx(pi/2) q[15];\\nrz(pi/2) q[15];\\nrz(pi/4) q[33];\\ncx q[14],q[33];\\nrz(pi/4) q[14];\\nrz(-pi/4) q[33];\\ncx q[14],q[33];\\nrz(2.6375741) q[33];\\nrx(pi) q[33];\\nrz(2.6375741) q[33];\\ncx q[14],q[33];\\ncx q[16],q[34];\\ncx q[16],q[15];\\nh q[16];\\ncx q[34],q[16];\\nrz(-pi/4) q[16];\\ncx q[15],q[16];\\nrz(pi/4) q[16];\\ncx q[34],q[16];\\nrz(-pi/4) q[16];\\ncx q[15],q[16];\\nrz(-5*pi/4) q[16];\\nrx(pi/2) q[16];\\nrz(pi/2) q[16];\\nrz(pi/4) q[34];\\ncx q[15],q[34];\\nrz(pi/4) q[15];\\nrz(-pi/4) q[34];\\ncx q[15],q[34];\\nrz(2.6375741) q[34];\\nrx(pi) q[34];\\nrz(2.6375741) q[34];\\ncx q[15],q[34];\\ncx q[17],q[35];\\ncx q[17],q[16];\\nh q[17];\\ncx q[35],q[17];\\nrz(-pi/4) q[17];\\ncx q[16],q[17];\\nrz(pi/4) q[17];\\ncx q[35],q[17];\\nrz(-pi/4) q[17];\\ncx q[16],q[17];\\nrz(-5*pi/4) q[17];\\nrx(pi/2) q[17];\\nrz(pi/2) q[17];\\nrz(pi/4) q[35];\\ncx q[16],q[35];\\nrz(pi/4) q[16];\\nrz(-pi/4) q[35];\\ncx q[16],q[35];\\nrz(2.6375741) q[35];\\nrx(pi) q[35];\\nrz(2.6375741) q[35];\\ncx q[16],q[35];\\ncx q[18],q[36];\\ncx q[18],q[17];\\nh q[18];\\ncx q[36],q[18];\\nrz(-pi/4) q[18];\\ncx q[17],q[18];\\nrz(pi/4) q[18];\\ncx q[36],q[18];\\nrz(-pi/4) q[18];\\ncx q[17],q[18];\\nrz(-5*pi/4) q[18];\\nrx(pi/2) q[18];\\nrz(pi/2) q[18];\\nrz(pi/4) q[36];\\ncx q[17],q[36];\\nrz(pi/4) q[17];\\nrz(-pi/4) q[36];\\ncx q[17],q[36];\\nrz(2.6375741) q[36];\\nrx(pi) q[36];\\nrz(2.6375741) q[36];\\ncx q[17],q[36];\\ncx q[18],q[37];\\nh q[18];\\ncx q[36],q[18];\\nrz(-pi/4) q[18];\\ncx q[17],q[18];\\nrz(pi/4) q[18];\\ncx q[36],q[18];\\nrz(-pi/4) q[18];\\ncx q[17],q[18];\\nrz(-5*pi/4) q[18];\\nrx(pi/2) q[18];\\nrz(pi/2) q[18];\\nrz(pi/4) q[36];\\ncx q[17],q[36];\\nrz(pi/4) q[17];\\nrz(-pi/4) q[36];\\ncx q[17],q[36];\\ncx q[18],q[17];\\nh q[17];\\ncx q[35],q[17];\\nrz(-pi/4) q[17];\\ncx q[16],q[17];\\nrz(pi/4) q[17];\\ncx q[35],q[17];\\nrz(-pi/4) q[17];\\ncx q[16],q[17];\\nrz(-5*pi/4) q[17];\\nrx(pi/2) q[17];\\nrz(pi/2) q[17];\\nrz(pi/4) q[35];\\ncx q[16],q[35];\\nrz(pi/4) q[16];\\nrz(-pi/4) q[35];\\ncx q[16],q[35];\\ncx q[17],q[16];\\nh q[16];\\ncx q[34],q[16];\\nrz(-pi/4) q[16];\\ncx q[15],q[16];\\nrz(pi/4) q[16];\\ncx q[34],q[16];\\nrz(-pi/4) q[16];\\ncx q[15],q[16];\\nrz(-5*pi/4) q[16];\\nrx(pi/2) q[16];\\nrz(pi/2) q[16];\\nrz(pi/4) q[34];\\ncx q[15],q[34];\\nrz(pi/4) q[15];\\nrz(-pi/4) q[34];\\ncx q[15],q[34];\\ncx q[16],q[15];\\nh q[15];\\ncx q[33],q[15];\\nrz(-pi/4) q[15];\\ncx q[14],q[15];\\nrz(pi/4) q[15];\\ncx q[33],q[15];\\nrz(-pi/4) q[15];\\ncx q[14],q[15];\\nrz(-5*pi/4) q[15];\\nrx(pi/2) q[15];\\nrz(pi/2) q[15];\\nrz(pi/4) q[33];\\ncx q[14],q[33];\\nrz(pi/4) q[14];\\nrz(-pi/4) q[33];\\ncx q[14],q[33];\\ncx q[15],q[14];\\nh q[14];\\ncx q[32],q[14];\\nrz(-pi/4) q[14];\\ncx q[13],q[14];\\nrz(pi/4) q[14];\\ncx q[32],q[14];\\nrz(-pi/4) q[14];\\ncx q[13],q[14];\\nrz(-5*pi/4) q[14];\\nrx(pi/2) q[14];\\nrz(pi/2) q[14];\\nrz(pi/4) q[32];\\ncx q[13],q[32];\\nrz(pi/4) q[13];\\nrz(-pi/4) q[32];\\ncx q[13],q[32];\\ncx q[14],q[13];\\nh q[13];\\ncx q[31],q[13];\\nrz(-pi/4) q[13];\\ncx q[12],q[13];\\nrz(pi/4) q[13];\\ncx q[31],q[13];\\nrz(-pi/4) q[13];\\ncx q[12],q[13];\\nrz(-5*pi/4) q[13];\\nrx(pi/2) q[13];\\nrz(pi/2) q[13];\\nrz(pi/4) q[31];\\ncx q[12],q[31];\\nrz(pi/4) q[12];\\nrz(-pi/4) q[31];\\ncx q[12],q[31];\\ncx q[13],q[12];\\nh q[12];\\ncx q[30],q[12];\\nrz(-pi/4) q[12];\\ncx q[11],q[12];\\nrz(pi/4) q[12];\\ncx q[30],q[12];\\nrz(-pi/4) q[12];\\ncx q[11],q[12];\\nrz(-5*pi/4) q[12];\\nrx(pi/2) q[12];\\nrz(pi/2) q[12];\\nrz(pi/4) q[30];\\ncx q[11],q[30];\\nrz(pi/4) q[11];\\nrz(-pi/4) q[30];\\ncx q[11],q[30];\\ncx q[12],q[11];\\nh q[11];\\ncx q[29],q[11];\\nrz(-pi/4) q[11];\\ncx q[10],q[11];\\nrz(pi/4) q[11];\\ncx q[29],q[11];\\nrz(-pi/4) q[11];\\ncx q[10],q[11];\\nrz(-5*pi/4) q[11];\\nrx(pi/2) q[11];\\nrz(pi/2) q[11];\\nrz(pi/4) q[29];\\ncx q[10],q[29];\\nrz(pi/4) q[10];\\nrz(-pi/4) q[29];\\ncx q[10],q[29];\\ncx q[11],q[10];\\nh q[10];\\ncx q[28],q[10];\\nrz(-pi/4) q[10];\\nrz(2.6375741) q[29];\\nrx(pi) q[29];\\nrz(2.6375741) q[29];\\ncx q[11],q[29];\\nrz(2.6375741) q[30];\\nrx(pi) q[30];\\nrz(2.6375741) q[30];\\ncx q[12],q[30];\\nrz(2.6375741) q[31];\\nrx(pi) q[31];\\nrz(2.6375741) q[31];\\ncx q[13],q[31];\\nrz(2.6375741) q[32];\\nrx(pi) q[32];\\nrz(2.6375741) q[32];\\ncx q[14],q[32];\\nrz(2.6375741) q[33];\\nrx(pi) q[33];\\nrz(2.6375741) q[33];\\ncx q[15],q[33];\\nrz(2.6375741) q[34];\\nrx(pi) q[34];\\nrz(2.6375741) q[34];\\ncx q[16],q[34];\\nrz(2.6375741) q[35];\\nrx(pi) q[35];\\nrz(2.6375741) q[35];\\ncx q[17],q[35];\\nrz(2.6375741) q[36];\\nrx(pi) q[36];\\nrz(2.6375741) q[36];\\ncx q[18],q[36];\\ncx q[9],q[10];\\nrz(pi/4) q[10];\\ncx q[28],q[10];\\nrz(-pi/4) q[10];\\nrz(pi/4) q[28];\\ncx q[9],q[10];\\nrz(-5*pi/4) q[10];\\nrx(pi/2) q[10];\\nrz(pi/2) q[10];\\ncx q[9],q[28];\\nrz(-pi/4) q[28];\\nrz(pi/4) q[9];\\ncx q[9],q[28];\\ncx q[10],q[9];\\nrz(2.6375741) q[28];\\nrx(pi) q[28];\\nrz(2.6375741) q[28];\\ncx q[10],q[28];\\nh q[9];\\ncx q[27],q[9];\\nrz(-pi/4) q[9];\\ncx q[8],q[9];\\nrz(pi/4) q[9];\\ncx q[27],q[9];\\nrz(pi/4) q[27];\\nrz(-pi/4) q[9];\\ncx q[8],q[9];\\ncx q[8],q[27];\\nrz(-pi/4) q[27];\\nrz(pi/4) q[8];\\ncx q[8],q[27];\\nrz(2.6375741) q[27];\\nrx(pi) q[27];\\nrz(2.6375741) q[27];\\nrz(-5*pi/4) q[9];\\nrx(pi/2) q[9];\\nrz(pi/2) q[9];\\ncx q[9],q[8];\\nh q[8];\\ncx q[26],q[8];\\nrz(-pi/4) q[8];\\ncx q[7],q[8];\\nrz(pi/4) q[8];\\ncx q[26],q[8];\\nrz(pi/4) q[26];\\nrz(-pi/4) q[8];\\ncx q[7],q[8];\\ncx q[7],q[26];\\nrz(-pi/4) q[26];\\nrz(pi/4) q[7];\\ncx q[7],q[26];\\nrz(2.6375741) q[26];\\nrx(pi) q[26];\\nrz(2.6375741) q[26];\\nrz(-5*pi/4) q[8];\\nrx(pi/2) q[8];\\nrz(pi/2) q[8];\\ncx q[8],q[7];\\nh q[7];\\ncx q[25],q[7];\\nrz(-pi/4) q[7];\\ncx q[6],q[7];\\nrz(pi/4) q[7];\\ncx q[25],q[7];\\nrz(pi/4) q[25];\\nrz(-pi/4) q[7];\\ncx q[6],q[7];\\ncx q[6],q[25];\\nrz(-pi/4) q[25];\\nrz(pi/4) q[6];\\ncx q[6],q[25];\\nrz(2.6375741) q[25];\\nrx(pi) q[25];\\nrz(2.6375741) q[25];\\nrz(-5*pi/4) q[7];\\nrx(pi/2) q[7];\\nrz(pi/2) q[7];\\ncx q[7],q[6];\\nh q[6];\\ncx q[24],q[6];\\nrz(-pi/4) q[6];\\ncx q[5],q[6];\\nrz(pi/4) q[6];\\ncx q[24],q[6];\\nrz(pi/4) q[24];\\nrz(-pi/4) q[6];\\ncx q[5],q[6];\\ncx q[5],q[24];\\nrz(-pi/4) q[24];\\nrz(pi/4) q[5];\\ncx q[5],q[24];\\nrz(2.6375741) q[24];\\nrx(pi) q[24];\\nrz(2.6375741) q[24];\\nrz(-5*pi/4) q[6];\\nrx(pi/2) q[6];\\nrz(pi/2) q[6];\\ncx q[6],q[5];\\nh q[5];\\ncx q[23],q[5];\\nrz(-pi/4) q[5];\\ncx q[4],q[5];\\nrz(pi/4) q[5];\\ncx q[23],q[5];\\nrz(pi/4) q[23];\\nrz(-pi/4) q[5];\\ncx q[4],q[5];\\ncx q[4],q[23];\\nrz(-pi/4) q[23];\\nrz(pi/4) q[4];\\ncx q[4],q[23];\\nrz(2.6375741) q[23];\\nrx(pi) q[23];\\nrz(2.6375741) q[23];\\nrz(-5*pi/4) q[5];\\nrx(pi/2) q[5];\\nrz(pi/2) q[5];\\ncx q[5],q[4];\\nh q[4];\\ncx q[22],q[4];\\nrz(-pi/4) q[4];\\ncx q[3],q[4];\\nrz(pi/4) q[4];\\ncx q[22],q[4];\\nrz(pi/4) q[22];\\nrz(-pi/4) q[4];\\ncx q[3],q[4];\\ncx q[3],q[22];\\nrz(-pi/4) q[22];\\nrz(pi/4) q[3];\\ncx q[3],q[22];\\nrz(2.6375741) q[22];\\nrx(pi) q[22];\\nrz(2.6375741) q[22];\\nrz(-5*pi/4) q[4];\\nrx(pi/2) q[4];\\nrz(pi/2) q[4];\\ncx q[4],q[3];\\nh q[3];\\ncx q[21],q[3];\\nrz(-pi/4) q[3];\\ncx q[2],q[3];\\nrz(pi/4) q[3];\\ncx q[21],q[3];\\nrz(pi/4) q[21];\\nrz(-pi/4) q[3];\\ncx q[2],q[3];\\ncx q[2],q[21];\\nrz(pi/4) q[2];\\nrz(-pi/4) q[21];\\ncx q[2],q[21];\\nrz(2.6375741) q[21];\\nrx(pi) q[21];\\nrz(2.6375741) q[21];\\nrz(-5*pi/4) q[3];\\nrx(pi/2) q[3];\\nrz(pi/2) q[3];\\ncx q[3],q[2];\\nh q[2];\\ncx q[20],q[2];\\nrz(-pi/4) q[2];\\ncx q[1],q[2];\\nrz(pi/4) q[2];\\ncx q[20],q[2];\\nrz(-pi/4) q[2];\\ncx q[1],q[2];\\nrz(-5*pi/4) q[2];\\nrx(pi/2) q[2];\\nrz(pi/2) q[2];\\nrz(pi/4) q[20];\\ncx q[1],q[20];\\nrz(pi/4) q[1];\\nrz(-pi/4) q[20];\\ncx q[1],q[20];\\ncx q[2],q[1];\\nh q[1];\\ncx q[19],q[1];\\nrz(-pi/4) q[1];\\ncx q[0],q[1];\\nrz(pi/4) q[1];\\ncx q[19],q[1];\\nrz(-pi/4) q[1];\\ncx q[0],q[1];\\nrz(-5*pi/4) q[1];\\nrx(pi/2) q[1];\\nrz(pi/2) q[1];\\nrz(pi/4) q[19];\\ncx q[0],q[19];\\nrz(pi/4) q[0];\\nrz(-pi/4) q[19];\\ncx q[0],q[19];\\ncx q[1],q[0];\\nrz(2.6375741) q[19];\\nrx(pi) q[19];\\nrz(2.6375741) q[19];\\ncx q[1],q[19];\\nrz(2.6375741) q[20];\\nrx(pi) q[20];\\nrz(2.6375741) q[20];\\ncx q[2],q[20];\\ncx q[3],q[21];\\ncx q[4],q[22];\\ncx q[5],q[23];\\ncx q[6],q[24];\\ncx q[7],q[25];\\ncx q[8],q[26];\\ncx q[9],q[27];\\n')\n",
    "# Give a fixed mapping so we only test your router\n",
    "_mapping = {Qubit(QuantumRegister(38, 'q'), 1): 0, Qubit(QuantumRegister(38, 'q'), 19): 1, Qubit(QuantumRegister(38, 'q'), 0): 7, Qubit(QuantumRegister(38, 'q'), 2): 2, Qubit(QuantumRegister(38, 'q'), 20): 3, Qubit(QuantumRegister(38, 'q'), 3): 9, Qubit(QuantumRegister(38, 'q'), 21): 8, Qubit(QuantumRegister(38, 'q'), 4): 10, Qubit(QuantumRegister(38, 'q'), 22): 11, Qubit(QuantumRegister(38, 'q'), 5): 17, Qubit(QuantumRegister(38, 'q'), 23): 16, Qubit(QuantumRegister(38, 'q'), 6): 18, Qubit(QuantumRegister(38, 'q'), 24): 19, Qubit(QuantumRegister(38, 'q'), 7): 25, Qubit(QuantumRegister(38, 'q'), 25): 24, Qubit(QuantumRegister(38, 'q'), 8): 26, Qubit(QuantumRegister(38, 'q'), 26): 27, Qubit(QuantumRegister(38, 'q'), 9): 33, Qubit(QuantumRegister(38, 'q'), 27): 32, Qubit(QuantumRegister(38, 'q'), 10): 34, Qubit(QuantumRegister(38, 'q'), 28): 41, Qubit(QuantumRegister(38, 'q'), 11): 20, Qubit(QuantumRegister(38, 'q'), 29): 13, Qubit(QuantumRegister(38, 'q'), 12): 6, Qubit(QuantumRegister(38, 'q'), 30): 5, Qubit(QuantumRegister(38, 'q'), 13): 4, Qubit(QuantumRegister(38, 'q'), 31): 12, Qubit(QuantumRegister(38, 'q'), 14): 15, Qubit(QuantumRegister(38, 'q'), 32): 14, Qubit(QuantumRegister(38, 'q'), 15): 22, Qubit(QuantumRegister(38, 'q'), 33): 21, Qubit(QuantumRegister(38, 'q'), 16): 23, Qubit(QuantumRegister(38, 'q'), 34): 30, Qubit(QuantumRegister(38, 'q'), 17): 29, Qubit(QuantumRegister(38, 'q'), 35): 28, Qubit(QuantumRegister(38, 'q'), 18): 36, Qubit(QuantumRegister(38, 'q'), 36): 35, Qubit(QuantumRegister(38, 'q'), 37): 37}\n",
    "validate_mapping(_cuccaro38, _hardware, _mapping)\n",
    "_routing = route_circuit(_cuccaro38, _hardware, _mapping)  # Run your code\n",
    "validate_routing(_cuccaro38, _hardware, _mapping, _routing, check_unitary=False)\n",
    "_score, _target = score_routing(_cuccaro38, _hardware, _mapping, _routing)\n",
    "assert _target == 380, 'internal error'\n",
    "assert _score <= 380, 'score is above 380, try improving the mapping by placing pairs of qubits with many CNOTs close together'\n",
    "print('PASS: Score is under 380 (see if you can beat our solution of 380)')"
   ]
  },
  {
   "cell_type": "code",
   "execution_count": 25,
   "metadata": {
    "deletable": false,
    "editable": false,
    "nbgrader": {
     "cell_type": "code",
     "checksum": "b2ba22dba8cde854e069a7f11e1d66e2",
     "grade": true,
     "grade_id": "2c-test",
     "locked": true,
     "points": 5,
     "schema_version": 3,
     "solution": false,
     "task": false
    }
   },
   "outputs": [],
   "source": [
    "# Do not delete this cell\n",
    "# The autograder will test the function route_circuit.\n",
    "# Hidden tests"
   ]
  },
  {
   "cell_type": "markdown",
   "metadata": {},
   "source": [
    "# 3. Scheduling Gates\n",
    "\n",
    "Your final task is to schedule gates. Gates are quantum hardware typically have different execution times. We want to schedule our gates to minimize total execution time (a heursitic is fine). Write some code to determine appropriate start times for each gate given execution times for gates.\n",
    "\n",
    "Make sure your code runs quickly.  Each test shouldn't run longer than a few seconds and 30 seconds will timeout the grader."
   ]
  },
  {
   "cell_type": "code",
   "execution_count": 26,
   "metadata": {},
   "outputs": [],
   "source": [
    "########## ESTE ES EL ULTIMO OJOOOOOOOOOOOOOOOO\n",
    "\n",
    "import networkx as nx\n",
    "from qiskit import QuantumCircuit\n",
    "from typing import List, Any, Dict\n",
    "\n",
    "# Función para construir el grafo dirigido con los tiempos de inicio\n",
    "def build_dependency_graph(circuit: QuantumCircuit, gate_times: Dict[str, float]) -> nx.DiGraph:\n",
    "    \"\"\"\n",
    "    Construye un grafo dirigido a partir de un circuito cuántico con dependencias de qubits y tiempos de ejecución.\n",
    "\n",
    "    :param circuit: QuantumCircuit de Qiskit\n",
    "    :param gate_times: Diccionario que contiene los tiempos de duración de cada compuerta\n",
    "    :return: Grafo dirigido con las dependencias y tiempos de inicio de cada puerta\n",
    "    \"\"\"\n",
    "    # Inicializamos un grafo dirigido\n",
    "    dag = nx.DiGraph()\n",
    "    num_qubits = circuit.num_qubits\n",
    "    qubits_structure = []\n",
    "    for i in range(num_qubits):\n",
    "        qubit_dict = {i: {}}  # Crear un diccionario con la clave 'i' y un valor vacío {}\n",
    "        qubits_structure.append(qubit_dict) \n",
    "\n",
    "    \n",
    "    qubit_end_times = {q: 0.0 for q in circuit.qubits}\n",
    "    i = 0    \n",
    "    for node in circuit.data:\n",
    "        qiskit_gate = node[0]  # La compuerta (ejemplo: X, CX, Z)\n",
    "        qubits = node[1]       # Qubits en los que actúa la compuerta\n",
    "        clbits = node[2]       # Bits clásicos (si los hay)\n",
    "        label = \"gate_{}\".format(i)\n",
    "        gate_wrapped = GateWrapper(qiskit_gate, qubits, clbits, label=label)\n",
    "        #if i == 0:\n",
    "        #    gate_name = qiskit_gate.name # obtengo el nombre de la compuerta \n",
    "        #    end_time = gate_times.get(gate_name) # obtengo el valor en tiempo asociado a esa compeurta             \n",
    "        #    dag.add_node(gate_wrapped, end_time=end_time) # agrego el nodo al grafo\n",
    "        #    current_qubit = gate_wrapped.qubits[0].index\n",
    "        #    qubits_structure[current_qubit][current_qubit] = {gate_wrapped: end_time}\n",
    "        #    print(qubits_structure[current_qubit][current_qubit])\n",
    "        #    #print(qubits_structure)\n",
    "        if qiskit_gate.num_qubits == 1:\n",
    "            \n",
    "            gate_name = qiskit_gate.name\n",
    "            end_time = gate_times.get(gate_name, gate_times['1'])\n",
    "            current_qubit = gate_wrapped.qubits[0].index\n",
    "            \n",
    "            # verificamos si qubits_structure esta vacio y lo agregamos si no creamos un edge\n",
    "            prev_node = qubits_structure[current_qubit][current_qubit]\n",
    "            #print(\"$$$$$$$$$$current node $$$$$$$$$$$$$$\")\n",
    "            #print(node)\n",
    "            #print(\"$$$$$$$$$$Prev node $$$$$$$$$$$$$$\")\n",
    "            #print(prev_node)\n",
    "            \n",
    "            if len(prev_node) > 0:\n",
    "                #print(\"############Prev node $$$$$$$$$$$$$$\")\n",
    "                #print(prev_node)\n",
    "                #print(\"############Current node $$$$$$$$$$$$$$\")\n",
    "                prev_node1 = next(iter(prev_node))  # Esto retorna solo el gate_wrapper\n",
    "                \n",
    "\n",
    "                end_time_prev = prev_node[prev_node1]\n",
    "                #print('PRevio time ' + str(end_time_prev))\n",
    "                real_end_time = end_time+end_time_prev\n",
    "                current_node = {gate_wrapped: real_end_time}\n",
    "                #print(current_node)\n",
    "                dag.add_node(gate_wrapped, end_time=real_end_time)\n",
    "                dag.add_edge(prev_node1, gate_wrapped)\n",
    "                qubits_structure[current_qubit][current_qubit]  = {gate_wrapped: real_end_time}\n",
    "                \n",
    "\n",
    "            else:    \n",
    "                end_time = gate_times.get(gate_name, gate_times['1'])\n",
    "                dag.add_node(gate_wrapped, end_time=end_time)\n",
    "                qubits_structure[current_qubit][current_qubit]  = {gate_wrapped: end_time}\n",
    "                pass\n",
    "            \n",
    "\n",
    "        else:    \n",
    "            prev_node1 = None\n",
    "            prev_node2 = None\n",
    "            gate_name = qiskit_gate.name # obtengo el nombre de la compuerta \n",
    "            end_time = gate_times.get(gate_name, gate_times['1'])\n",
    "            # Caso en el que hay compuertas cx\n",
    "            q1 = qubits[0].index  # qubit uno del cx\n",
    "            q2 = qubits[1].index # qubit dos del cx\n",
    "            prev_node_q1 = qubits_structure[q1][q1]\n",
    "            prev_node_q2 = qubits_structure[q2][q2]\n",
    "            \n",
    "            if len(prev_node_q1) > 0:    \n",
    "                prev_node1 = next(iter(prev_node_q1))  # Esto retorna solo el gate_wrapper                \n",
    "                end_time_prev1 = prev_node_q1[prev_node1]\n",
    "                real_end_time1 = end_time+end_time_prev1\n",
    "                \n",
    "            else:\n",
    "                real_end_time1 = end_time\n",
    "\n",
    "            if len(prev_node_q2) > 0: \n",
    "                prev_node2 = next(iter(prev_node_q2))  # Esto retorna solo el gate_wrapper                \n",
    "                end_time_prev2 = prev_node_q2[prev_node2]   \n",
    "                real_end_time2 = end_time+end_time_prev2\n",
    "                \n",
    "                \n",
    "            else:\n",
    "                real_end_time2 = end_time\n",
    "    \n",
    "            final_time = (real_end_time1 if real_end_time1> real_end_time2 else real_end_time2) \n",
    "            #print(\"CX TIME\")\n",
    "            #print(final_time)\n",
    "            #print(end_time)\n",
    "            dag.add_node(gate_wrapped, end_time=final_time)\n",
    "            if prev_node1 != None:\n",
    "                dag.add_edge(prev_node1, gate_wrapped)\n",
    "            if prev_node2 != None:\n",
    "                dag.add_edge(prev_node2, gate_wrapped)  \n",
    "            \n",
    "            \n",
    "             \n",
    "            qubits_structure[q1][q1]  = {gate_wrapped: final_time}\n",
    "            qubits_structure[q2][q2]  = {gate_wrapped: final_time}\n",
    "            \n",
    "            #pass\n",
    "\n",
    "        \n",
    "\n",
    "            # compara el qubit actual con el qubit_structure si hay un qubit ahi en el qubit tomo el ultimo y agrego un edge\n",
    "\n",
    "        i+=1 \n",
    "        \n",
    "    return dag"
   ]
  },
  {
   "cell_type": "code",
   "execution_count": 27,
   "metadata": {
    "deletable": false,
    "nbgrader": {
     "cell_type": "code",
     "checksum": "9352007cd9907d37cd8ba5870032c0ea",
     "grade": false,
     "grade_id": "3",
     "locked": false,
     "schema_version": 3,
     "solution": true,
     "task": false
    }
   },
   "outputs": [],
   "source": [
    "# For simplicity, assume all 1 qubit gates have the same execution duration\n",
    "# Except, assume Z gates are free, i.e. take no time to execute\n",
    "# but you should still schedule Z gates at the appropriate time between other gates\n",
    "\n",
    "# here are some sample gate times.\n",
    "sample_gate_times = {\n",
    "    '1' : 10.0,\n",
    "    'rz' : 0.0,  # Free\n",
    "    'cx' : 100.0,\n",
    "}\n",
    "\n",
    "def schedule_circuit(routed_circuit:QuantumCircuit, gate_times:Dict[str, float]\n",
    "                    ) -> Dict[GateWrapper, float]:\n",
    "    '''\n",
    "    This function should take an input program given as a qiskit.QuantumCircuit, \n",
    "    This circuit should be routed already!\n",
    "\n",
    "    You should return the start time for every gate in the circuit as a\n",
    "    dictionary: {GateWrapper(...) : start_time}, where GateWrapper is our above\n",
    "    implementation which wraps qiskit Gates.\n",
    "\n",
    "    Hints:\n",
    "        - It may be helpful to build a dependency graph weighted using these gate\n",
    "        times and use nx.all_pairs_dijkstra_path_length.\n",
    "        - Create the schedule keys out of qiskit gates with:\n",
    "            GateWrapper(gate[0], gate[1], gate[2], label=i)  # Unique values of i\n",
    "    '''\n",
    "    ### YOUR SOLUTION IN THIS FUNCTION\n",
    "    \n",
    "    # Convert SWAP gates to 3 CNOT gates\n",
    "    pm = qiskit.transpiler.PassManager([qiskit.transpiler.passes.Unroller(['rz', 'rx', 'h', 'u3', 'cx'])])\n",
    "    routed_circuit = pm.run(routed_circuit)\n",
    "\n",
    "    dag = build_dependency_graph(routed_circuit, gate_times)\n",
    "\n",
    "    gate_start_times:Dict[GateWrapper, float] = {}\n",
    "    for node in dag.nodes(data=True):\n",
    "        gate_wrapper = node[0]  # Nodo de tipo GateWrapper\n",
    "        end_time = node[1].get('end_time', 0)  # Asegúrate de que 'end_time' esté definido\n",
    "        execution_time = gate_times.get(gate_wrapper.gate.name, gate_times[\"1\"])  # Obtener el tiempo de ejecución\n",
    "        if execution_time > 0:\n",
    "            start_time = end_time - execution_time\n",
    "        else:\n",
    "            start_time = end_time  # O alguna lógica si no hay tiempo de ejecución\n",
    "\n",
    "        gate_start_times[gate_wrapper] = start_time\n",
    "        #print(f\"{gate_wrapper}, Endtime: {end_time}, Execution time: {execution_time}, Start time: {start_time}\")\n",
    "\n",
    "    return gate_start_times\n"
   ]
  },
  {
   "cell_type": "code",
   "execution_count": 28,
   "metadata": {},
   "outputs": [
    {
     "name": "stderr",
     "output_type": "stream",
     "text": [
      "C:\\Users\\panch\\AppData\\Local\\Temp\\ipykernel_21812\\521401969.py:24: DeprecationWarning: Back-references to from Bit instances to their containing Registers have been deprecated. Instead, inspect Registers to find their contained Bits.\n",
      "  sw_node_1 = [qubits[0].index]\n",
      "C:\\Users\\panch\\AppData\\Local\\Temp\\ipykernel_21812\\521401969.py:25: DeprecationWarning: Back-references to from Bit instances to their containing Registers have been deprecated. Instead, inspect Registers to find their contained Bits.\n",
      "  sw_node_2 = [qubits[1].index]\n",
      "C:\\Users\\panch\\AppData\\Local\\Temp\\ipykernel_21812\\521401969.py:32: DeprecationWarning: Back-references to from Bit instances to their containing Registers have been deprecated. Instead, inspect Registers to find their contained Bits.\n",
      "  new_qubit_indices = [gate[1][i].index for i in range(len(gate[1]))]\n",
      "C:\\Users\\panch\\AppData\\Local\\Temp\\ipykernel_21812\\521401969.py:36: DeprecationWarning: Back-references to from Bit instances to their containing Registers have been deprecated. Instead, inspect Registers to find their contained Bits.\n",
      "  new_qubit_indices = [gate[1][i].index for i in range(len(gate[1]))]\n",
      "C:\\Users\\panch\\AppData\\Local\\Temp\\ipykernel_21812\\3701808296.py:52: DeprecationWarning: Back-references to from Bit instances to their containing Registers have been deprecated. Instead, inspect Registers to find their contained Bits.\n",
      "  qubit1 =qubit1_logic.index\n",
      "C:\\Users\\panch\\AppData\\Local\\Temp\\ipykernel_21812\\3701808296.py:53: DeprecationWarning: Back-references to from Bit instances to their containing Registers have been deprecated. Instead, inspect Registers to find their contained Bits.\n",
      "  qubit2= qubit2_logic.index\n",
      "C:\\Users\\panch\\AppData\\Local\\Temp\\ipykernel_21812\\3701808296.py:26: DeprecationWarning: Back-references to from Bit instances to their containing Registers have been deprecated. Instead, inspect Registers to find their contained Bits.\n",
      "  if logic_node.index == _logic_node.index:\n",
      "C:\\Users\\panch\\AppData\\Local\\Temp\\ipykernel_21812\\2653531177.py:84: DeprecationWarning: Back-references to from Bit instances to their containing Registers have been deprecated. Instead, inspect Registers to find their contained Bits.\n",
      "  q1 = qubits[0].index  # qubit uno del cx\n",
      "C:\\Users\\panch\\AppData\\Local\\Temp\\ipykernel_21812\\2653531177.py:85: DeprecationWarning: Back-references to from Bit instances to their containing Registers have been deprecated. Instead, inspect Registers to find their contained Bits.\n",
      "  q2 = qubits[1].index # qubit dos del cx\n",
      "C:\\Users\\panch\\AppData\\Local\\Temp\\ipykernel_21812\\2653531177.py:45: DeprecationWarning: Back-references to from Bit instances to their containing Registers have been deprecated. Instead, inspect Registers to find their contained Bits.\n",
      "  current_qubit = gate_wrapped.qubits[0].index\n",
      "C:\\Users\\panch\\AppData\\Local\\Temp\\ipykernel_21812\\3593926637.py:14: DeprecationWarning: Back-references to from Bit instances to their containing Registers have been deprecated. Instead, inspect Registers to find their contained Bits.\n",
      "  args = ','.join(str(q.index) for q in self.qubits)\n"
     ]
    },
    {
     "data": {
      "text/plain": [
       "{gate_0{cx(1,4)}: 0.0,\n",
       " gate_1{cx(1,0)}: 100.0,\n",
       " gate_2{h(1)}: 200.0,\n",
       " gate_3{cx(4,1)}: 210.0,\n",
       " gate_4{rz(1)}: 310.0,\n",
       " gate_5{cx(0,1)}: 310.0,\n",
       " gate_6{rz(1)}: 410.0,\n",
       " gate_7{cx(4,1)}: 410.0,\n",
       " gate_8{rz(1)}: 510.0,\n",
       " gate_9{cx(0,1)}: 510.0,\n",
       " gate_10{rz(1)}: 610.0,\n",
       " gate_11{h(1)}: 610.0,\n",
       " gate_12{cx(0,1)}: 620.0,\n",
       " gate_13{cx(1,0)}: 720.0,\n",
       " gate_14{cx(0,1)}: 820.0,\n",
       " gate_15{rz(4)}: 510.0,\n",
       " gate_16{cx(1,4)}: 920.0,\n",
       " gate_17{cx(0,1)}: 1020.0,\n",
       " gate_18{cx(1,0)}: 1120.0,\n",
       " gate_19{cx(0,1)}: 1220.0,\n",
       " gate_20{rz(0)}: 1320.0,\n",
       " gate_21{cx(0,1)}: 1320.0,\n",
       " gate_22{cx(1,0)}: 1420.0,\n",
       " gate_23{cx(0,1)}: 1520.0,\n",
       " gate_24{rz(4)}: 1020.0,\n",
       " gate_25{cx(1,4)}: 1620.0,\n",
       " gate_26{cx(0,1)}: 1720.0,\n",
       " gate_27{cx(1,0)}: 1820.0,\n",
       " gate_28{cx(0,1)}: 1920.0,\n",
       " gate_29{cx(0,1)}: 2020.0,\n",
       " gate_30{cx(1,0)}: 2120.0,\n",
       " gate_31{cx(0,1)}: 2220.0,\n",
       " gate_32{rx(4)}: 1720.0,\n",
       " gate_33{cx(1,4)}: 2320.0,\n",
       " gate_34{cx(0,1)}: 2420.0,\n",
       " gate_35{cx(1,0)}: 2520.0,\n",
       " gate_36{cx(0,1)}: 2620.0,\n",
       " gate_37{cx(1,2)}: 2720.0,\n",
       " gate_38{h(1)}: 2820.0,\n",
       " gate_39{cx(4,1)}: 2830.0,\n",
       " gate_40{rz(1)}: 2930.0,\n",
       " gate_41{cx(0,1)}: 2930.0,\n",
       " gate_42{rz(1)}: 3030.0,\n",
       " gate_43{cx(4,1)}: 3030.0,\n",
       " gate_44{rz(1)}: 3130.0,\n",
       " gate_45{cx(0,1)}: 3130.0,\n",
       " gate_46{rz(1)}: 3230.0,\n",
       " gate_47{h(1)}: 3230.0,\n",
       " gate_48{cx(0,1)}: 3240.0,\n",
       " gate_49{cx(1,0)}: 3340.0,\n",
       " gate_50{cx(0,1)}: 3440.0,\n",
       " gate_51{rz(4)}: 3130.0,\n",
       " gate_52{cx(1,4)}: 3540.0,\n",
       " gate_53{cx(0,1)}: 3640.0,\n",
       " gate_54{cx(1,0)}: 3740.0,\n",
       " gate_55{cx(0,1)}: 3840.0,\n",
       " gate_56{rz(0)}: 3940.0,\n",
       " gate_57{cx(0,1)}: 3940.0,\n",
       " gate_58{cx(1,0)}: 4040.0,\n",
       " gate_59{cx(0,1)}: 4140.0,\n",
       " gate_60{rz(4)}: 3640.0,\n",
       " gate_61{cx(1,4)}: 4240.0,\n",
       " gate_62{cx(0,1)}: 4340.0,\n",
       " gate_63{cx(1,0)}: 4440.0,\n",
       " gate_64{cx(0,1)}: 4540.0,\n",
       " gate_65{cx(1,0)}: 4640.0,\n",
       " gate_66{rx(4)}: 4340.0,\n",
       " gate_67{cx(1,4)}: 4740.0}"
      ]
     },
     "execution_count": 28,
     "metadata": {},
     "output_type": "execute_result"
    }
   ],
   "source": [
    "# You may modify this cell to test scores for your mapper on various circuits\n",
    "\n",
    "mapping = map_circuit(cuccaro, grid_hardware)\n",
    "routed = route_circuit(cuccaro, grid_hardware, mapping)\n",
    "schedule = schedule_circuit(routed, sample_gate_times)\n",
    "schedule"
   ]
  },
  {
   "cell_type": "code",
   "execution_count": 29,
   "metadata": {},
   "outputs": [
    {
     "name": "stderr",
     "output_type": "stream",
     "text": [
      "C:\\Users\\panch\\AppData\\Local\\Temp\\ipykernel_21812\\741747216.py:7: DeprecationWarning: Back-references to from Bit instances to their containing Registers have been deprecated. Instead, inspect Registers to find their contained Bits.\n",
      "  circuit = QuantumCircuit(next(iter(qubits)).register)\n",
      "C:\\Users\\panch\\AppData\\Local\\Temp\\ipykernel_21812\\741747216.py:12: DeprecationWarning: Back-references to from Bit instances to their containing Registers have been deprecated. Instead, inspect Registers to find their contained Bits.\n",
      "  new_qubits = [circuit.qubits[q.index] for q in gate.qubits]\n"
     ]
    },
    {
     "data": {
      "text/html": [
       "<pre style=\"word-wrap: normal;white-space: pre;background: #fff0;line-height: 1.1;font-family: &quot;Courier New&quot;,Courier,monospace\">          ┌───┐                                                                                 ┌───┐                      ┌───┐     ┌─────────┐     ┌───┐                   ┌───┐          ┌───┐               ┌───┐                                                                                           ┌───┐                      ┌───┐     ┌─────────┐     ┌───┐                   ┌───┐     ┌───┐     \n",
       "q_0: ─────┤ X ├────────────────────────■────────────────────────────────■────────────────────■──┤ X ├──■────────────■──────┤ X ├──■──┤ Rz(π/4) ├──■──┤ X ├──■───────────■────┤ X ├──■────■──┤ X ├──■─────────■──┤ X ├──■───────────────────────────────■────────────────────────────────■────────────────────■──┤ X ├──■────────────■──────┤ X ├──■──┤ Rz(π/4) ├──■──┤ X ├──■───────────■────┤ X ├──■──┤ X ├─────\n",
       "          └─┬─┘┌───┐┌───┐┌──────────┐┌─┴─┐┌─────────┐┌───┐┌──────────┐┌─┴─┐┌─────────┐┌───┐┌─┴─┐└─┬─┘┌─┴─┐        ┌─┴─┐    └─┬─┘┌─┴─┐└─────────┘┌─┴─┐└─┬─┘┌─┴─┐       ┌─┴─┐  └─┬─┘┌─┴─┐┌─┴─┐└─┬─┘┌─┴─┐     ┌─┴─┐└─┬─┘┌─┴─┐     ┌───┐┌───┐┌──────────┐┌─┴─┐┌─────────┐┌───┐┌──────────┐┌─┴─┐┌─────────┐┌───┐┌─┴─┐└─┬─┘┌─┴─┐        ┌─┴─┐    └─┬─┘┌─┴─┐└─────────┘┌─┴─┐└─┬─┘┌─┴─┐       ┌─┴─┐  └─┬─┘┌─┴─┐└─┬─┘     \n",
       "q_1: ──■────■──┤ H ├┤ X ├┤ Rz(-π/4) ├┤ X ├┤ Rz(π/4) ├┤ X ├┤ Rz(-π/4) ├┤ X ├┤ Rz(π/4) ├┤ H ├┤ X ├──■──┤ X ├──■─────┤ X ├──────■──┤ X ├───────────┤ X ├──■──┤ X ├──■────┤ X ├────■──┤ X ├┤ X ├──■──┤ X ├──■──┤ X ├──■──┤ X ├──■──┤ H ├┤ X ├┤ Rz(-π/4) ├┤ X ├┤ Rz(π/4) ├┤ X ├┤ Rz(-π/4) ├┤ X ├┤ Rz(π/4) ├┤ H ├┤ X ├──■──┤ X ├──■─────┤ X ├──────■──┤ X ├───────────┤ X ├──■──┤ X ├──■────┤ X ├────■──┤ X ├──■────■──\n",
       "       │       └───┘└─┬─┘└──────────┘└───┘└─────────┘└─┬─┘└──────────┘└───┘└─────────┘└───┘└───┘     └───┘  │     └───┘         └───┘           └───┘     └───┘  │    └───┘       └───┘└───┘     └───┘  │  └───┘     └───┘┌─┴─┐└───┘└─┬─┘└──────────┘└───┘└─────────┘└─┬─┘└──────────┘└───┘└─────────┘└───┘└───┘     └───┘  │     └───┘         └───┘           └───┘     └───┘  │    └───┘       └───┘       │  \n",
       "q_2: ──┼──────────────┼────────────────────────────────┼────────────────────────────────────────────────────┼────────────────────────────────────────────────────┼──────────────────────────────────────┼─────────────────┤ X ├───────┼────────────────────────────────┼────────────────────────────────────────────────────┼────────────────────────────────────────────────────┼────────────────────────────┼──\n",
       "       │              │                                │                                                    │                                                    │                                      │                 └───┘       │                                │                                                    │                                                    │                            │  \n",
       "q_3: ──┼──────────────┼────────────────────────────────┼────────────────────────────────────────────────────┼────────────────────────────────────────────────────┼──────────────────────────────────────┼─────────────────────────────┼────────────────────────────────┼────────────────────────────────────────────────────┼────────────────────────────────────────────────────┼────────────────────────────┼──\n",
       "     ┌─┴─┐            │                                │  ┌─────────┐                                     ┌─┴─┐┌──────────┐                                    ┌─┴─┐┌───────┐                         ┌─┴─┐                           │                                │  ┌─────────┐                                     ┌─┴─┐┌──────────┐                                    ┌─┴─┐┌───────┐               ┌─┴─┐\n",
       "q_4: ┤ X ├────────────■────────────────────────────────■──┤ Rz(π/4) ├─────────────────────────────────────┤ X ├┤ Rz(-π/4) ├────────────────────────────────────┤ X ├┤ Rx(π) ├─────────────────────────┤ X ├───────────────────────────■────────────────────────────────■──┤ Rz(π/4) ├─────────────────────────────────────┤ X ├┤ Rz(-π/4) ├────────────────────────────────────┤ X ├┤ Rx(π) ├───────────────┤ X ├\n",
       "     └───┘                                                └─────────┘                                     └───┘└──────────┘                                    └───┘└───────┘                         └───┘                                                               └─────────┘                                     └───┘└──────────┘                                    └───┘└───────┘               └───┘\n",
       "q_5: ────────────────────────────────────────────────────────────────────────────────────────────────────────────────────────────────────────────────────────────────────────────────────────────────────────────────────────────────────────────────────────────────────────────────────────────────────────────────────────────────────────────────────────────────────────────────────────────────────────────\n",
       "                                                                                                                                                                                                                                                                                                                                                                                                                 </pre>"
      ],
      "text/plain": [
       "          ┌───┐                                                                                 ┌───┐                      ┌───┐     ┌─────────┐     ┌───┐                   ┌───┐          ┌───┐               ┌───┐                                                                                           ┌───┐                      ┌───┐     ┌─────────┐     ┌───┐                   ┌───┐     ┌───┐     \n",
       "q_0: ─────┤ X ├────────────────────────■────────────────────────────────■────────────────────■──┤ X ├──■────────────■──────┤ X ├──■──┤ Rz(π/4) ├──■──┤ X ├──■───────────■────┤ X ├──■────■──┤ X ├──■─────────■──┤ X ├──■───────────────────────────────■────────────────────────────────■────────────────────■──┤ X ├──■────────────■──────┤ X ├──■──┤ Rz(π/4) ├──■──┤ X ├──■───────────■────┤ X ├──■──┤ X ├─────\n",
       "          └─┬─┘┌───┐┌───┐┌──────────┐┌─┴─┐┌─────────┐┌───┐┌──────────┐┌─┴─┐┌─────────┐┌───┐┌─┴─┐└─┬─┘┌─┴─┐        ┌─┴─┐    └─┬─┘┌─┴─┐└─────────┘┌─┴─┐└─┬─┘┌─┴─┐       ┌─┴─┐  └─┬─┘┌─┴─┐┌─┴─┐└─┬─┘┌─┴─┐     ┌─┴─┐└─┬─┘┌─┴─┐     ┌───┐┌───┐┌──────────┐┌─┴─┐┌─────────┐┌───┐┌──────────┐┌─┴─┐┌─────────┐┌───┐┌─┴─┐└─┬─┘┌─┴─┐        ┌─┴─┐    └─┬─┘┌─┴─┐└─────────┘┌─┴─┐└─┬─┘┌─┴─┐       ┌─┴─┐  └─┬─┘┌─┴─┐└─┬─┘     \n",
       "q_1: ──■────■──┤ H ├┤ X ├┤ Rz(-π/4) ├┤ X ├┤ Rz(π/4) ├┤ X ├┤ Rz(-π/4) ├┤ X ├┤ Rz(π/4) ├┤ H ├┤ X ├──■──┤ X ├──■─────┤ X ├──────■──┤ X ├───────────┤ X ├──■──┤ X ├──■────┤ X ├────■──┤ X ├┤ X ├──■──┤ X ├──■──┤ X ├──■──┤ X ├──■──┤ H ├┤ X ├┤ Rz(-π/4) ├┤ X ├┤ Rz(π/4) ├┤ X ├┤ Rz(-π/4) ├┤ X ├┤ Rz(π/4) ├┤ H ├┤ X ├──■──┤ X ├──■─────┤ X ├──────■──┤ X ├───────────┤ X ├──■──┤ X ├──■────┤ X ├────■──┤ X ├──■────■──\n",
       "       │       └───┘└─┬─┘└──────────┘└───┘└─────────┘└─┬─┘└──────────┘└───┘└─────────┘└───┘└───┘     └───┘  │     └───┘         └───┘           └───┘     └───┘  │    └───┘       └───┘└───┘     └───┘  │  └───┘     └───┘┌─┴─┐└───┘└─┬─┘└──────────┘└───┘└─────────┘└─┬─┘└──────────┘└───┘└─────────┘└───┘└───┘     └───┘  │     └───┘         └───┘           └───┘     └───┘  │    └───┘       └───┘       │  \n",
       "q_2: ──┼──────────────┼────────────────────────────────┼────────────────────────────────────────────────────┼────────────────────────────────────────────────────┼──────────────────────────────────────┼─────────────────┤ X ├───────┼────────────────────────────────┼────────────────────────────────────────────────────┼────────────────────────────────────────────────────┼────────────────────────────┼──\n",
       "       │              │                                │                                                    │                                                    │                                      │                 └───┘       │                                │                                                    │                                                    │                            │  \n",
       "q_3: ──┼──────────────┼────────────────────────────────┼────────────────────────────────────────────────────┼────────────────────────────────────────────────────┼──────────────────────────────────────┼─────────────────────────────┼────────────────────────────────┼────────────────────────────────────────────────────┼────────────────────────────────────────────────────┼────────────────────────────┼──\n",
       "     ┌─┴─┐            │                                │  ┌─────────┐                                     ┌─┴─┐┌──────────┐                                    ┌─┴─┐┌───────┐                         ┌─┴─┐                           │                                │  ┌─────────┐                                     ┌─┴─┐┌──────────┐                                    ┌─┴─┐┌───────┐               ┌─┴─┐\n",
       "q_4: ┤ X ├────────────■────────────────────────────────■──┤ Rz(π/4) ├─────────────────────────────────────┤ X ├┤ Rz(-π/4) ├────────────────────────────────────┤ X ├┤ Rx(π) ├─────────────────────────┤ X ├───────────────────────────■────────────────────────────────■──┤ Rz(π/4) ├─────────────────────────────────────┤ X ├┤ Rz(-π/4) ├────────────────────────────────────┤ X ├┤ Rx(π) ├───────────────┤ X ├\n",
       "     └───┘                                                └─────────┘                                     └───┘└──────────┘                                    └───┘└───────┘                         └───┘                                                               └─────────┘                                     └───┘└──────────┘                                    └───┘└───────┘               └───┘\n",
       "q_5: ────────────────────────────────────────────────────────────────────────────────────────────────────────────────────────────────────────────────────────────────────────────────────────────────────────────────────────────────────────────────────────────────────────────────────────────────────────────────────────────────────────────────────────────────────────────────────────────────────────────\n",
       "                                                                                                                                                                                                                                                                                                                                                                                                                 "
      ]
     },
     "execution_count": 29,
     "metadata": {},
     "output_type": "execute_result"
    }
   ],
   "source": [
    "# Do not modify this function\n",
    "def schedule_to_circuit(schedule):\n",
    "    qubits = set()\n",
    "    for gate in schedule.keys():\n",
    "        qubits.update(gate.qubits)\n",
    "    n = len(qubits)\n",
    "    circuit = QuantumCircuit(next(iter(qubits)).register)\n",
    "    ordered = sorted(((time, gate)\n",
    "                      for gate, time in schedule.items()),\n",
    "                     key=lambda x:(x[0], x[1].gate.name!='rz'))\n",
    "    for time, gate in ordered:\n",
    "        new_qubits = [circuit.qubits[q.index] for q in gate.qubits]\n",
    "        circuit.append(gate.gate, new_qubits, [])\n",
    "    return circuit\n",
    "\n",
    "# Make sure the schedule still represents the original circuit\n",
    "schedule_to_circuit(schedule).draw(fold=-1)"
   ]
  },
  {
   "cell_type": "code",
   "execution_count": 30,
   "metadata": {
    "deletable": false,
    "editable": false,
    "nbgrader": {
     "cell_type": "code",
     "checksum": "6534c6837c0b580cf041af30257e9561",
     "grade": true,
     "grade_id": "3-helpers",
     "locked": true,
     "points": 0,
     "schema_version": 3,
     "solution": false,
     "task": false
    }
   },
   "outputs": [],
   "source": [
    "# Do not delete this cell\n",
    "def validate_schedule(routed_circuit, gate_times, schedule, check_unitary=True):\n",
    "    '''Set check_unitary=False for circuits with over 10 qubits.'''\n",
    "    # Check other arguments\n",
    "    assert isinstance(routed_circuit, QuantumCircuit)\n",
    "    assert isinstance(gate_times, dict)\n",
    "    assert isinstance(schedule, dict)\n",
    "    assert (len(routed_circuit.qubits)\n",
    "            == len(frozenset(q.index for q in routed_circuit.qubits))), (\n",
    "        'Unsupported: circuits with multiple registers')\n",
    "    # Convert schedule back to a circuit\n",
    "    s_circuit = schedule_to_circuit(schedule)\n",
    "    r_qubits = frozenset(q for q in routed_circuit.qubits)\n",
    "    s_qubits = frozenset(q for q in routed_circuit.qubits)\n",
    "    assert r_qubits == s_qubits, 'schedule has different qubits than the circuit'\n",
    "    # Check allowed gates\n",
    "    for gate in schedule.keys():\n",
    "        if len(gate.qubits) < 2: continue\n",
    "        assert len(gate.qubits) <= 2, (\n",
    "            'Only one- and two-qubit gates are allowed in the schedule')\n",
    "        assert isinstance(gate.gate, qiskit.circuit.library.standard_gates.x.CXGate), (\n",
    "            'Two-qubit gates other than CNOT are not allwed in the schedule')\n",
    "    # Check for overlapping gates\n",
    "    sorted_schedule = sorted(schedule.items(), key=lambda x:x[1])\n",
    "    for i, (gate, time) in enumerate(sorted_schedule):\n",
    "        end_time = time + gate_times.get(gate.gate.name, gate_times['1'])\n",
    "        j = 0\n",
    "        for j in range(i+1, len(sorted_schedule)):\n",
    "            if sorted_schedule[j][1] >= end_time: break\n",
    "        nearby_gates = sorted_schedule[i+1:j]\n",
    "        left = max((\n",
    "            t2 + gate_times.get(g2.gate.name, gate_times['1'])\n",
    "            for g2, t2 in nearby_gates\n",
    "            if (t2 + gate_times.get(g2.gate.name, gate_times['1']) < end_time\n",
    "                and len(set(gate.qubits).intersection(g2.qubits)) > 0)\n",
    "                and g2 != gate),\n",
    "            default=0\n",
    "        )\n",
    "        right = min((\n",
    "            t2\n",
    "            for g2, t2 in nearby_gates\n",
    "            if ((t2 > time or (\n",
    "                    gate_times.get(g2.gate.name, gate_times['1']) != 0\n",
    "                    and t2 >= time))\n",
    "                and len(set(gate.qubits).intersection(g2.qubits)) > 0)\n",
    "                and g2 != gate),\n",
    "            default=float('inf')\n",
    "        )\n",
    "        #print(left, right)\n",
    "        assert left <= time+1e-8 and right >= end_time-1e-8, (\n",
    "            'At least one gate is scheduled during the same time on the same qubits '\n",
    "            f'(at time {time} - {end_time}, gate={gate})')\n",
    "        \n",
    "    # Check unitary\n",
    "    if check_unitary:  # Slow for circuits with more than 10 qubits\n",
    "        from qiskit.quantum_info.operators.predicates import matrix_equal\n",
    "        unitary = lambda c: qiskit.quantum_info.Operator(c).data\n",
    "        assert matrix_equal(unitary(s_circuit), unitary(routed_circuit)), (\n",
    "            'schedule is not equivalent to the input circuit')\n",
    "\n",
    "def score_schedule(routed_circuit, gate_times, schedule):\n",
    "    '''\n",
    "    Computes the active qubit time of the schedule.\n",
    "    \n",
    "    Returns the tuple (your score, worst-case serial score).  Lower values are better.\n",
    "    '''\n",
    "    validate_schedule(routed_circuit, gate_times, schedule, check_unitary=False)\n",
    "\n",
    "    total_duration = max((\n",
    "        time + gate_times.get(gate.gate.name, gate_times['1'])\n",
    "        for gate, time in schedule.items()),\n",
    "        default=0\n",
    "    )\n",
    "    first_use_each_qubit = {\n",
    "        q: min((time for gate, time in schedule.items()\n",
    "                     if q in gate.qubits),\n",
    "               default=total_duration)\n",
    "        for q in routed_circuit.qubits\n",
    "    }\n",
    "    qubit_usage_times = {\n",
    "        q: total_duration - first_use\n",
    "        for q, first_use in first_use_each_qubit.items()\n",
    "    }\n",
    "    total_active = sum(qubit_usage_times.values())\n",
    "    \n",
    "    num_used_qubits = sum(t > 0 for t in qubit_usage_times.values())\n",
    "    worst_serial_score = num_used_qubits * sum(\n",
    "        gate_times.get(gate.gate.name, gate_times['1'])\n",
    "        for gate in schedule.keys()\n",
    "    )\n",
    "    print(f'(Total circuit duration is {total_duration})')\n",
    "    #print(f'Qubit active durations:\\n{qubit_usage_times}')\n",
    "    print(f'Your scheduling score is {total_active} ns, better than the worst '\n",
    "          f'case score of {worst_serial_score}.')\n",
    "    return total_active, worst_serial_score"
   ]
  },
  {
   "cell_type": "code",
   "execution_count": 31,
   "metadata": {},
   "outputs": [
    {
     "name": "stderr",
     "output_type": "stream",
     "text": [
      "C:\\Users\\panch\\AppData\\Local\\Temp\\ipykernel_21812\\521401969.py:24: DeprecationWarning: Back-references to from Bit instances to their containing Registers have been deprecated. Instead, inspect Registers to find their contained Bits.\n",
      "  sw_node_1 = [qubits[0].index]\n",
      "C:\\Users\\panch\\AppData\\Local\\Temp\\ipykernel_21812\\521401969.py:25: DeprecationWarning: Back-references to from Bit instances to their containing Registers have been deprecated. Instead, inspect Registers to find their contained Bits.\n",
      "  sw_node_2 = [qubits[1].index]\n",
      "C:\\Users\\panch\\AppData\\Local\\Temp\\ipykernel_21812\\521401969.py:32: DeprecationWarning: Back-references to from Bit instances to their containing Registers have been deprecated. Instead, inspect Registers to find their contained Bits.\n",
      "  new_qubit_indices = [gate[1][i].index for i in range(len(gate[1]))]\n",
      "C:\\Users\\panch\\AppData\\Local\\Temp\\ipykernel_21812\\521401969.py:36: DeprecationWarning: Back-references to from Bit instances to their containing Registers have been deprecated. Instead, inspect Registers to find their contained Bits.\n",
      "  new_qubit_indices = [gate[1][i].index for i in range(len(gate[1]))]\n",
      "C:\\Users\\panch\\AppData\\Local\\Temp\\ipykernel_21812\\3701808296.py:52: DeprecationWarning: Back-references to from Bit instances to their containing Registers have been deprecated. Instead, inspect Registers to find their contained Bits.\n",
      "  qubit1 =qubit1_logic.index\n",
      "C:\\Users\\panch\\AppData\\Local\\Temp\\ipykernel_21812\\3701808296.py:53: DeprecationWarning: Back-references to from Bit instances to their containing Registers have been deprecated. Instead, inspect Registers to find their contained Bits.\n",
      "  qubit2= qubit2_logic.index\n",
      "C:\\Users\\panch\\AppData\\Local\\Temp\\ipykernel_21812\\3701808296.py:26: DeprecationWarning: Back-references to from Bit instances to their containing Registers have been deprecated. Instead, inspect Registers to find their contained Bits.\n",
      "  if logic_node.index == _logic_node.index:\n",
      "C:\\Users\\panch\\AppData\\Local\\Temp\\ipykernel_21812\\2653531177.py:84: DeprecationWarning: Back-references to from Bit instances to their containing Registers have been deprecated. Instead, inspect Registers to find their contained Bits.\n",
      "  q1 = qubits[0].index  # qubit uno del cx\n",
      "C:\\Users\\panch\\AppData\\Local\\Temp\\ipykernel_21812\\2653531177.py:85: DeprecationWarning: Back-references to from Bit instances to their containing Registers have been deprecated. Instead, inspect Registers to find their contained Bits.\n",
      "  q2 = qubits[1].index # qubit dos del cx\n",
      "C:\\Users\\panch\\AppData\\Local\\Temp\\ipykernel_21812\\2653531177.py:45: DeprecationWarning: Back-references to from Bit instances to their containing Registers have been deprecated. Instead, inspect Registers to find their contained Bits.\n",
      "  current_qubit = gate_wrapped.qubits[0].index\n",
      "C:\\Users\\panch\\AppData\\Local\\Temp\\ipykernel_21812\\3593926637.py:14: DeprecationWarning: Back-references to from Bit instances to their containing Registers have been deprecated. Instead, inspect Registers to find their contained Bits.\n",
      "  args = ','.join(str(q.index) for q in self.qubits)\n"
     ]
    },
    {
     "data": {
      "text/plain": [
       "{gate_0{cx(1,4)}: 0.0,\n",
       " gate_1{cx(1,0)}: 100.0,\n",
       " gate_2{h(1)}: 200.0,\n",
       " gate_3{cx(4,1)}: 210.0,\n",
       " gate_4{rz(1)}: 310.0,\n",
       " gate_5{cx(0,1)}: 310.0,\n",
       " gate_6{rz(1)}: 410.0,\n",
       " gate_7{cx(4,1)}: 410.0,\n",
       " gate_8{rz(1)}: 510.0,\n",
       " gate_9{cx(0,1)}: 510.0,\n",
       " gate_10{rz(1)}: 610.0,\n",
       " gate_11{h(1)}: 610.0,\n",
       " gate_12{cx(0,1)}: 620.0,\n",
       " gate_13{cx(1,0)}: 720.0,\n",
       " gate_14{cx(0,1)}: 820.0,\n",
       " gate_15{rz(4)}: 510.0,\n",
       " gate_16{cx(1,4)}: 920.0,\n",
       " gate_17{cx(0,1)}: 1020.0,\n",
       " gate_18{cx(1,0)}: 1120.0,\n",
       " gate_19{cx(0,1)}: 1220.0,\n",
       " gate_20{rz(0)}: 1320.0,\n",
       " gate_21{cx(0,1)}: 1320.0,\n",
       " gate_22{cx(1,0)}: 1420.0,\n",
       " gate_23{cx(0,1)}: 1520.0,\n",
       " gate_24{rz(4)}: 1020.0,\n",
       " gate_25{cx(1,4)}: 1620.0,\n",
       " gate_26{cx(0,1)}: 1720.0,\n",
       " gate_27{cx(1,0)}: 1820.0,\n",
       " gate_28{cx(0,1)}: 1920.0,\n",
       " gate_29{cx(0,1)}: 2020.0,\n",
       " gate_30{cx(1,0)}: 2120.0,\n",
       " gate_31{cx(0,1)}: 2220.0,\n",
       " gate_32{rx(4)}: 1720.0,\n",
       " gate_33{cx(1,4)}: 2320.0,\n",
       " gate_34{cx(0,1)}: 2420.0,\n",
       " gate_35{cx(1,0)}: 2520.0,\n",
       " gate_36{cx(0,1)}: 2620.0,\n",
       " gate_37{cx(1,2)}: 2720.0,\n",
       " gate_38{h(1)}: 2820.0,\n",
       " gate_39{cx(4,1)}: 2830.0,\n",
       " gate_40{rz(1)}: 2930.0,\n",
       " gate_41{cx(0,1)}: 2930.0,\n",
       " gate_42{rz(1)}: 3030.0,\n",
       " gate_43{cx(4,1)}: 3030.0,\n",
       " gate_44{rz(1)}: 3130.0,\n",
       " gate_45{cx(0,1)}: 3130.0,\n",
       " gate_46{rz(1)}: 3230.0,\n",
       " gate_47{h(1)}: 3230.0,\n",
       " gate_48{cx(0,1)}: 3240.0,\n",
       " gate_49{cx(1,0)}: 3340.0,\n",
       " gate_50{cx(0,1)}: 3440.0,\n",
       " gate_51{rz(4)}: 3130.0,\n",
       " gate_52{cx(1,4)}: 3540.0,\n",
       " gate_53{cx(0,1)}: 3640.0,\n",
       " gate_54{cx(1,0)}: 3740.0,\n",
       " gate_55{cx(0,1)}: 3840.0,\n",
       " gate_56{rz(0)}: 3940.0,\n",
       " gate_57{cx(0,1)}: 3940.0,\n",
       " gate_58{cx(1,0)}: 4040.0,\n",
       " gate_59{cx(0,1)}: 4140.0,\n",
       " gate_60{rz(4)}: 3640.0,\n",
       " gate_61{cx(1,4)}: 4240.0,\n",
       " gate_62{cx(0,1)}: 4340.0,\n",
       " gate_63{cx(1,0)}: 4440.0,\n",
       " gate_64{cx(0,1)}: 4540.0,\n",
       " gate_65{cx(1,0)}: 4640.0,\n",
       " gate_66{rx(4)}: 4340.0,\n",
       " gate_67{cx(1,4)}: 4740.0}"
      ]
     },
     "metadata": {},
     "output_type": "display_data"
    },
    {
     "name": "stdout",
     "output_type": "stream",
     "text": [
      "(Total circuit duration is 4840.0)\n",
      "Your scheduling score is 16540.0 ns, better than the worst case score of 19440.0.\n"
     ]
    },
    {
     "name": "stderr",
     "output_type": "stream",
     "text": [
      "C:\\Users\\panch\\AppData\\Local\\Temp\\ipykernel_21812\\126268001.py:9: DeprecationWarning: Back-references to from Bit instances to their containing Registers have been deprecated. Instead, inspect Registers to find their contained Bits.\n",
      "  == len(frozenset(q.index for q in routed_circuit.qubits))), (\n",
      "C:\\Users\\panch\\AppData\\Local\\Temp\\ipykernel_21812\\741747216.py:7: DeprecationWarning: Back-references to from Bit instances to their containing Registers have been deprecated. Instead, inspect Registers to find their contained Bits.\n",
      "  circuit = QuantumCircuit(next(iter(qubits)).register)\n",
      "C:\\Users\\panch\\AppData\\Local\\Temp\\ipykernel_21812\\741747216.py:12: DeprecationWarning: Back-references to from Bit instances to their containing Registers have been deprecated. Instead, inspect Registers to find their contained Bits.\n",
      "  new_qubits = [circuit.qubits[q.index] for q in gate.qubits]\n"
     ]
    },
    {
     "data": {
      "text/plain": [
       "(16540.0, 19440.0)"
      ]
     },
     "execution_count": 31,
     "metadata": {},
     "output_type": "execute_result"
    }
   ],
   "source": [
    "# You may modify this cell to test scores for your mapper on various circuits\n",
    "\n",
    "mapping = map_circuit(cuccaro, grid_hardware)\n",
    "routed = route_circuit(cuccaro, grid_hardware, mapping)\n",
    "schedule = schedule_circuit(routed, sample_gate_times)\n",
    "display(schedule)\n",
    "score_schedule(routed, sample_gate_times, schedule)"
   ]
  },
  {
   "cell_type": "code",
   "execution_count": 32,
   "metadata": {
    "deletable": false,
    "editable": false,
    "nbgrader": {
     "cell_type": "code",
     "checksum": "2109f70004debf6a2f494ec048169af7",
     "grade": true,
     "grade_id": "3a-test",
     "locked": true,
     "points": 20,
     "schema_version": 3,
     "solution": false,
     "task": false
    }
   },
   "outputs": [
    {
     "name": "stdout",
     "output_type": "stream",
     "text": [
      "(Total circuit duration is 5328.0)\n",
      "Your scheduling score is 18328.0 ns, better than the worst case score of 21408.0.\n",
      "PASS: Valid circuit schedule\n"
     ]
    },
    {
     "name": "stderr",
     "output_type": "stream",
     "text": [
      "C:\\Users\\panch\\AppData\\Local\\Temp\\ipykernel_21812\\2653531177.py:84: DeprecationWarning: Back-references to from Bit instances to their containing Registers have been deprecated. Instead, inspect Registers to find their contained Bits.\n",
      "  q1 = qubits[0].index  # qubit uno del cx\n",
      "C:\\Users\\panch\\AppData\\Local\\Temp\\ipykernel_21812\\2653531177.py:85: DeprecationWarning: Back-references to from Bit instances to their containing Registers have been deprecated. Instead, inspect Registers to find their contained Bits.\n",
      "  q2 = qubits[1].index # qubit dos del cx\n",
      "C:\\Users\\panch\\AppData\\Local\\Temp\\ipykernel_21812\\2653531177.py:45: DeprecationWarning: Back-references to from Bit instances to their containing Registers have been deprecated. Instead, inspect Registers to find their contained Bits.\n",
      "  current_qubit = gate_wrapped.qubits[0].index\n",
      "C:\\Users\\panch\\AppData\\Local\\Temp\\ipykernel_21812\\126268001.py:9: DeprecationWarning: Back-references to from Bit instances to their containing Registers have been deprecated. Instead, inspect Registers to find their contained Bits.\n",
      "  == len(frozenset(q.index for q in routed_circuit.qubits))), (\n",
      "C:\\Users\\panch\\AppData\\Local\\Temp\\ipykernel_21812\\741747216.py:7: DeprecationWarning: Back-references to from Bit instances to their containing Registers have been deprecated. Instead, inspect Registers to find their contained Bits.\n",
      "  circuit = QuantumCircuit(next(iter(qubits)).register)\n",
      "C:\\Users\\panch\\AppData\\Local\\Temp\\ipykernel_21812\\741747216.py:12: DeprecationWarning: Back-references to from Bit instances to their containing Registers have been deprecated. Instead, inspect Registers to find their contained Bits.\n",
      "  new_qubits = [circuit.qubits[q.index] for q in gate.qubits]\n"
     ]
    }
   ],
   "source": [
    "# Do not delete this cell\n",
    "# The autograder will test the function schedule_circuit.\n",
    "# This test is worth most of the points for part 1\n",
    "# Give a fixed routing so we only test your scheduler\n",
    "_routed = QuantumCircuit.from_qasm_str('OPENQASM 2.0;\\ninclude \"qelib1.inc\";\\nqreg q[5];\\ncx q[0],q[1];\\nswap q[1],q[0];\\ncx q[1],q[2];\\nswap q[1],q[0];\\nh q[0];\\ncx q[1],q[0];\\nrz(-pi/4) q[0];\\nswap q[1],q[2];\\ncx q[1],q[0];\\nswap q[1],q[2];\\nrz(pi/4) q[0];\\ncx q[1],q[0];\\nrz(-pi/4) q[0];\\nswap q[1],q[2];\\ncx q[1],q[0];\\nswap q[1],q[2];\\nrz(-5*pi/4) q[0];\\nrx(pi/2) q[0];\\nrz(pi/2) q[0];\\nrz(pi/4) q[1];\\ncx q[2],q[1];\\nrz(pi/4) q[2];\\nrz(-pi/4) q[1];\\ncx q[2],q[1];\\nrz(2.6375741) q[1];\\nrx(pi) q[1];\\nrz(2.6375741) q[1];\\ncx q[2],q[1];\\nswap q[1],q[0];\\nswap q[2],q[1];\\ncx q[2],q[3];\\nswap q[2],q[1];\\nswap q[1],q[0];\\nh q[0];\\ncx q[1],q[0];\\nrz(-pi/4) q[0];\\nswap q[1],q[2];\\ncx q[1],q[0];\\nswap q[1],q[2];\\nrz(pi/4) q[0];\\ncx q[1],q[0];\\nrz(-pi/4) q[0];\\nswap q[1],q[2];\\ncx q[1],q[0];\\nswap q[1],q[2];\\nrz(-5*pi/4) q[0];\\nrx(pi/2) q[0];\\nrz(pi/2) q[0];\\nrz(pi/4) q[1];\\ncx q[2],q[1];\\nrz(pi/4) q[2];\\nrz(-pi/4) q[1];\\ncx q[2],q[1];\\nswap q[1],q[0];\\ncx q[1],q[2];\\nswap q[1],q[0];\\nrz(2.6375741) q[1];\\nrx(pi) q[1];\\nrz(2.6375741) q[1];\\ncx q[0],q[1];\\n')\n",
    "_gate_times = {\n",
    "    '1' : 12.0,\n",
    "    'rz' : 0.0,  # Free\n",
    "    'cx' : 80.0,\n",
    "}\n",
    "_schedule = schedule_circuit(_routed, _gate_times)\n",
    "validate_schedule(_routed, _gate_times, _schedule)\n",
    "score_schedule(_routed, _gate_times, _schedule)\n",
    "print('PASS: Valid circuit schedule')"
   ]
  },
  {
   "cell_type": "code",
   "execution_count": 33,
   "metadata": {
    "deletable": false,
    "editable": false,
    "nbgrader": {
     "cell_type": "code",
     "checksum": "b48585ae2dfe00debec005ba794e4b76",
     "grade": true,
     "grade_id": "3b-test",
     "locked": true,
     "points": 5,
     "schema_version": 3,
     "solution": false,
     "task": false
    }
   },
   "outputs": [
    {
     "name": "stderr",
     "output_type": "stream",
     "text": [
      "C:\\Users\\panch\\AppData\\Local\\Temp\\ipykernel_21812\\2653531177.py:84: DeprecationWarning: Back-references to from Bit instances to their containing Registers have been deprecated. Instead, inspect Registers to find their contained Bits.\n",
      "  q1 = qubits[0].index  # qubit uno del cx\n",
      "C:\\Users\\panch\\AppData\\Local\\Temp\\ipykernel_21812\\2653531177.py:85: DeprecationWarning: Back-references to from Bit instances to their containing Registers have been deprecated. Instead, inspect Registers to find their contained Bits.\n",
      "  q2 = qubits[1].index # qubit dos del cx\n",
      "C:\\Users\\panch\\AppData\\Local\\Temp\\ipykernel_21812\\2653531177.py:45: DeprecationWarning: Back-references to from Bit instances to their containing Registers have been deprecated. Instead, inspect Registers to find their contained Bits.\n",
      "  current_qubit = gate_wrapped.qubits[0].index\n",
      "C:\\Users\\panch\\AppData\\Local\\Temp\\ipykernel_21812\\126268001.py:9: DeprecationWarning: Back-references to from Bit instances to their containing Registers have been deprecated. Instead, inspect Registers to find their contained Bits.\n",
      "  == len(frozenset(q.index for q in routed_circuit.qubits))), (\n",
      "C:\\Users\\panch\\AppData\\Local\\Temp\\ipykernel_21812\\741747216.py:7: DeprecationWarning: Back-references to from Bit instances to their containing Registers have been deprecated. Instead, inspect Registers to find their contained Bits.\n",
      "  circuit = QuantumCircuit(next(iter(qubits)).register)\n",
      "C:\\Users\\panch\\AppData\\Local\\Temp\\ipykernel_21812\\741747216.py:12: DeprecationWarning: Back-references to from Bit instances to their containing Registers have been deprecated. Instead, inspect Registers to find their contained Bits.\n",
      "  new_qubits = [circuit.qubits[q.index] for q in gate.qubits]\n"
     ]
    },
    {
     "name": "stdout",
     "output_type": "stream",
     "text": [
      "(Total circuit duration is 77088.0)\n",
      "Your scheduling score is 2615008.0 ns, better than the worst case score of 4508064.0.\n",
      "PASS: Score is under 3000000 (see if you can beat our solution of 2615008)\n"
     ]
    }
   ],
   "source": [
    "# Do not delete this cell\n",
    "# The autograder will test the function schedule_circuit.\n",
    "# Give a fixed routing so we only test your scheduler\n",
    "_routed = QuantumCircuit.from_qasm_str('OPENQASM 2.0;\\ninclude \"qelib1.inc\";\\nqreg q[36];\\ncx q[0],q[1];\\ncx q[0],q[6];\\nh q[0];\\ncx q[1],q[0];\\nrz(-pi/4) q[0];\\ncx q[6],q[0];\\nrz(pi/4) q[0];\\ncx q[1],q[0];\\nrz(-pi/4) q[0];\\ncx q[6],q[0];\\nrz(-5*pi/4) q[0];\\nrx(pi/2) q[0];\\nrz(pi/2) q[0];\\nrz(pi/4) q[1];\\nswap q[0],q[6];\\ncx q[0],q[1];\\nswap q[0],q[6];\\nrz(pi/4) q[6];\\nrz(-pi/4) q[1];\\nswap q[0],q[6];\\ncx q[0],q[1];\\nswap q[0],q[6];\\nrz(2.6375741) q[1];\\nrx(pi) q[1];\\nrz(2.6375741) q[1];\\nswap q[0],q[6];\\ncx q[0],q[1];\\nswap q[0],q[6];\\ncx q[2],q[3];\\nswap q[1],q[2];\\ncx q[1],q[0];\\nswap q[1],q[2];\\nh q[2];\\ncx q[3],q[2];\\nrz(-pi/4) q[2];\\nswap q[1],q[0];\\ncx q[1],q[2];\\nswap q[1],q[0];\\nrz(pi/4) q[2];\\ncx q[3],q[2];\\nrz(pi/4) q[3];\\nrz(-pi/4) q[2];\\nswap q[1],q[0];\\ncx q[1],q[2];\\nswap q[1],q[0];\\nswap q[1],q[0];\\nswap q[2],q[1];\\ncx q[2],q[3];\\nswap q[2],q[1];\\nswap q[1],q[0];\\nrz(pi/4) q[0];\\nrz(-pi/4) q[3];\\nswap q[1],q[0];\\nswap q[2],q[1];\\ncx q[2],q[3];\\nswap q[2],q[1];\\nswap q[1],q[0];\\nrz(2.6375741) q[3];\\nrx(pi) q[3];\\nrz(2.6375741) q[3];\\nswap q[1],q[0];\\nswap q[2],q[1];\\ncx q[2],q[3];\\nswap q[2],q[1];\\nswap q[1],q[0];\\nrz(-5*pi/4) q[2];\\nrx(pi/2) q[2];\\nrz(pi/2) q[2];\\ncx q[8],q[7];\\ncx q[8],q[2];\\nh q[8];\\ncx q[7],q[8];\\nrz(-pi/4) q[8];\\ncx q[2],q[8];\\nrz(pi/4) q[8];\\ncx q[7],q[8];\\nrz(pi/4) q[7];\\nrz(-pi/4) q[8];\\ncx q[2],q[8];\\nswap q[1],q[2];\\ncx q[1],q[7];\\nswap q[1],q[2];\\nrz(pi/4) q[2];\\nrz(-pi/4) q[7];\\nswap q[1],q[2];\\ncx q[1],q[7];\\nswap q[1],q[2];\\nrz(2.6375741) q[7];\\nrx(pi) q[7];\\nrz(2.6375741) q[7];\\nswap q[1],q[2];\\ncx q[1],q[7];\\nswap q[1],q[2];\\nrz(-5*pi/4) q[8];\\nrx(pi/2) q[8];\\nrz(pi/2) q[8];\\ncx q[9],q[10];\\ncx q[9],q[8];\\nh q[9];\\ncx q[10],q[9];\\nrz(-pi/4) q[9];\\ncx q[8],q[9];\\nrz(pi/4) q[9];\\ncx q[10],q[9];\\nrz(pi/4) q[10];\\nrz(-pi/4) q[9];\\ncx q[8],q[9];\\nswap q[9],q[8];\\ncx q[9],q[10];\\nswap q[9],q[8];\\nrz(-pi/4) q[10];\\nrz(pi/4) q[8];\\nswap q[9],q[8];\\ncx q[9],q[10];\\nswap q[9],q[8];\\nrz(2.6375741) q[10];\\nrx(pi) q[10];\\nrz(2.6375741) q[10];\\nswap q[9],q[8];\\ncx q[9],q[10];\\nswap q[9],q[8];\\nrz(-5*pi/4) q[9];\\nrx(pi/2) q[9];\\nrz(pi/2) q[9];\\ncx q[15],q[14];\\ncx q[15],q[9];\\nh q[15];\\ncx q[14],q[15];\\nrz(-pi/4) q[15];\\ncx q[9],q[15];\\nrz(pi/4) q[15];\\ncx q[14],q[15];\\nrz(pi/4) q[14];\\nrz(-pi/4) q[15];\\ncx q[9],q[15];\\nswap q[8],q[9];\\ncx q[8],q[14];\\nswap q[8],q[9];\\nrz(-pi/4) q[14];\\nrz(pi/4) q[9];\\nswap q[8],q[9];\\ncx q[8],q[14];\\nswap q[8],q[9];\\nrz(2.6375741) q[14];\\nrx(pi) q[14];\\nrz(2.6375741) q[14];\\nswap q[8],q[9];\\ncx q[8],q[14];\\nswap q[8],q[9];\\nrz(-5*pi/4) q[15];\\nrx(pi/2) q[15];\\nrz(pi/2) q[15];\\ncx q[16],q[17];\\ncx q[16],q[15];\\nh q[16];\\ncx q[17],q[16];\\nrz(-pi/4) q[16];\\ncx q[15],q[16];\\nrz(pi/4) q[16];\\ncx q[17],q[16];\\nrz(pi/4) q[17];\\nrz(-pi/4) q[16];\\ncx q[15],q[16];\\nswap q[16],q[15];\\ncx q[16],q[17];\\nswap q[16],q[15];\\nrz(-pi/4) q[17];\\nrz(pi/4) q[15];\\nswap q[16],q[15];\\ncx q[16],q[17];\\nswap q[16],q[15];\\nrz(2.6375741) q[17];\\nrx(pi) q[17];\\nrz(2.6375741) q[17];\\nswap q[16],q[15];\\ncx q[16],q[17];\\nswap q[16],q[15];\\nrz(-5*pi/4) q[16];\\nrx(pi/2) q[16];\\nrz(pi/2) q[16];\\ncx q[22],q[21];\\ncx q[22],q[16];\\nh q[22];\\ncx q[21],q[22];\\nrz(-pi/4) q[22];\\ncx q[16],q[22];\\nrz(pi/4) q[22];\\ncx q[21],q[22];\\nrz(pi/4) q[21];\\nrz(-pi/4) q[22];\\ncx q[16],q[22];\\nswap q[15],q[16];\\ncx q[15],q[21];\\nswap q[15],q[16];\\nrz(-pi/4) q[21];\\nrz(pi/4) q[16];\\nswap q[15],q[16];\\ncx q[15],q[21];\\nswap q[15],q[16];\\nrz(2.6375741) q[21];\\nrx(pi) q[21];\\nrz(2.6375741) q[21];\\nswap q[15],q[16];\\ncx q[15],q[21];\\nswap q[15],q[16];\\nrz(-5*pi/4) q[22];\\nrx(pi/2) q[22];\\nrz(pi/2) q[22];\\ncx q[23],q[29];\\ncx q[23],q[22];\\nh q[23];\\ncx q[29],q[23];\\nrz(-pi/4) q[23];\\ncx q[22],q[23];\\nrz(pi/4) q[23];\\ncx q[29],q[23];\\nrz(pi/4) q[29];\\nrz(-pi/4) q[23];\\ncx q[22],q[23];\\nswap q[28],q[22];\\ncx q[28],q[29];\\nswap q[28],q[22];\\nrz(-pi/4) q[29];\\nrz(pi/4) q[22];\\nswap q[28],q[22];\\ncx q[28],q[29];\\nswap q[28],q[22];\\nrz(2.6375741) q[29];\\nrx(pi) q[29];\\nrz(2.6375741) q[29];\\nswap q[28],q[22];\\ncx q[28],q[29];\\nswap q[28],q[22];\\nrz(-5*pi/4) q[23];\\nrx(pi/2) q[23];\\nrz(pi/2) q[23];\\ncx q[11],q[5];\\nswap q[17],q[11];\\ncx q[17],q[23];\\nswap q[17],q[11];\\nh q[11];\\ncx q[5],q[11];\\nrz(-pi/4) q[11];\\nswap q[17],q[23];\\ncx q[17],q[11];\\nswap q[17],q[23];\\nrz(pi/4) q[11];\\ncx q[5],q[11];\\nrz(pi/4) q[5];\\nrz(-pi/4) q[11];\\nswap q[17],q[23];\\ncx q[17],q[11];\\nswap q[17],q[23];\\nswap q[17],q[23];\\nswap q[11],q[17];\\ncx q[11],q[5];\\nswap q[11],q[17];\\nswap q[17],q[23];\\nrz(-pi/4) q[5];\\nrz(pi/4) q[23];\\nswap q[17],q[23];\\nswap q[11],q[17];\\ncx q[11],q[5];\\nswap q[11],q[17];\\nswap q[17],q[23];\\nrz(2.6375741) q[5];\\nrx(pi) q[5];\\nrz(2.6375741) q[5];\\nswap q[17],q[23];\\nswap q[11],q[17];\\ncx q[11],q[5];\\nswap q[11],q[17];\\nswap q[17],q[23];\\nrz(-5*pi/4) q[11];\\nrx(pi/2) q[11];\\nrz(pi/2) q[11];\\nswap q[10],q[4];\\nswap q[16],q[10];\\nswap q[22],q[16];\\ncx q[22],q[28];\\nswap q[22],q[16];\\nswap q[16],q[10];\\nswap q[10],q[4];\\nswap q[10],q[4];\\ncx q[10],q[11];\\nswap q[10],q[4];\\nh q[4];\\nswap q[22],q[28];\\nswap q[16],q[22];\\nswap q[10],q[16];\\ncx q[10],q[4];\\nswap q[10],q[16];\\nswap q[16],q[22];\\nswap q[22],q[28];\\nrz(-pi/4) q[4];\\nswap q[5],q[11];\\ncx q[5],q[4];\\nswap q[5],q[11];\\nrz(pi/4) q[4];\\nswap q[22],q[28];\\nswap q[16],q[22];\\nswap q[10],q[16];\\ncx q[10],q[4];\\nswap q[10],q[16];\\nswap q[16],q[22];\\nswap q[22],q[28];\\nrz(-pi/4) q[4];\\nrz(pi/4) q[28];\\nswap q[5],q[11];\\ncx q[5],q[4];\\nswap q[5],q[11];\\nrz(-5*pi/4) q[4];\\nrx(pi/2) q[4];\\nrz(pi/2) q[4];\\nswap q[10],q[11];\\nswap q[16],q[10];\\nswap q[22],q[16];\\ncx q[22],q[28];\\nswap q[22],q[16];\\nswap q[16],q[10];\\nswap q[10],q[11];\\nrz(-pi/4) q[28];\\nrz(pi/4) q[11];\\nswap q[10],q[11];\\nswap q[16],q[10];\\nswap q[22],q[16];\\ncx q[22],q[28];\\nswap q[22],q[16];\\nswap q[16],q[10];\\nswap q[10],q[11];\\nrz(2.6375741) q[28];\\nrx(pi) q[28];\\nrz(2.6375741) q[28];\\nswap q[10],q[11];\\nswap q[16],q[10];\\nswap q[22],q[16];\\ncx q[22],q[28];\\nswap q[22],q[16];\\nswap q[16],q[10];\\nswap q[10],q[11];\\ncx q[13],q[12];\\nswap q[7],q[13];\\nswap q[1],q[7];\\nswap q[2],q[1];\\nswap q[3],q[2];\\ncx q[3],q[4];\\nswap q[3],q[2];\\nswap q[2],q[1];\\nswap q[1],q[7];\\nswap q[7],q[13];\\nh q[13];\\ncx q[12],q[13];\\nrz(-pi/4) q[13];\\nswap q[3],q[4];\\nswap q[2],q[3];\\nswap q[1],q[2];\\nswap q[7],q[1];\\ncx q[7],q[13];\\nswap q[7],q[1];\\nswap q[1],q[2];\\nswap q[2],q[3];\\nswap q[3],q[4];\\nrz(pi/4) q[13];\\ncx q[12],q[13];\\nrz(-pi/4) q[13];\\nswap q[3],q[4];\\nswap q[2],q[3];\\nswap q[1],q[2];\\nswap q[7],q[1];\\ncx q[7],q[13];\\nswap q[7],q[1];\\nswap q[1],q[2];\\nswap q[2],q[3];\\nswap q[3],q[4];\\nrz(-5*pi/4) q[13];\\nrx(pi/2) q[13];\\nrz(pi/2) q[13];\\nrz(pi/4) q[12];\\nswap q[3],q[4];\\nswap q[2],q[3];\\nswap q[1],q[2];\\nswap q[0],q[1];\\nswap q[6],q[0];\\ncx q[6],q[12];\\nswap q[6],q[0];\\nswap q[0],q[1];\\nswap q[1],q[2];\\nswap q[2],q[3];\\nswap q[3],q[4];\\nrz(pi/4) q[4];\\nrz(-pi/4) q[12];\\nswap q[3],q[4];\\nswap q[2],q[3];\\nswap q[1],q[2];\\nswap q[0],q[1];\\nswap q[6],q[0];\\ncx q[6],q[12];\\nswap q[6],q[0];\\nswap q[0],q[1];\\nswap q[1],q[2];\\nswap q[2],q[3];\\nswap q[3],q[4];\\nrz(2.6375741) q[12];\\nrx(pi) q[12];\\nrz(2.6375741) q[12];\\nswap q[3],q[4];\\nswap q[2],q[3];\\nswap q[1],q[2];\\nswap q[0],q[1];\\nswap q[6],q[0];\\ncx q[6],q[12];\\nswap q[6],q[0];\\nswap q[0],q[1];\\nswap q[1],q[2];\\nswap q[2],q[3];\\nswap q[3],q[4];\\ncx q[19],q[18];\\ncx q[19],q[13];\\nh q[19];\\ncx q[18],q[19];\\nrz(-pi/4) q[19];\\ncx q[13],q[19];\\nrz(pi/4) q[19];\\ncx q[18],q[19];\\nrz(-pi/4) q[19];\\ncx q[13],q[19];\\nrz(-5*pi/4) q[19];\\nrx(pi/2) q[19];\\nrz(pi/2) q[19];\\nrz(pi/4) q[18];\\nswap q[12],q[13];\\ncx q[12],q[18];\\nswap q[12],q[13];\\nrz(pi/4) q[13];\\nrz(-pi/4) q[18];\\nswap q[12],q[13];\\ncx q[12],q[18];\\nswap q[12],q[13];\\nrz(2.6375741) q[18];\\nrx(pi) q[18];\\nrz(2.6375741) q[18];\\nswap q[12],q[13];\\ncx q[12],q[18];\\nswap q[12],q[13];\\ncx q[20],q[26];\\ncx q[20],q[19];\\nh q[20];\\ncx q[26],q[20];\\nrz(-pi/4) q[20];\\ncx q[19],q[20];\\nrz(pi/4) q[20];\\ncx q[26],q[20];\\nrz(-pi/4) q[20];\\ncx q[19],q[20];\\nrz(-5*pi/4) q[20];\\nrx(pi/2) q[20];\\nrz(pi/2) q[20];\\nrz(pi/4) q[26];\\nswap q[25],q[19];\\ncx q[25],q[26];\\nswap q[25],q[19];\\nrz(pi/4) q[19];\\nrz(-pi/4) q[26];\\nswap q[25],q[19];\\ncx q[25],q[26];\\nswap q[25],q[19];\\nrz(2.6375741) q[26];\\nrx(pi) q[26];\\nrz(2.6375741) q[26];\\nswap q[25],q[19];\\ncx q[25],q[26];\\nswap q[25],q[19];\\ncx q[25],q[24];\\nswap q[19],q[25];\\ncx q[19],q[20];\\nswap q[19],q[25];\\nh q[25];\\ncx q[24],q[25];\\nrz(-pi/4) q[25];\\nswap q[19],q[20];\\ncx q[19],q[25];\\nswap q[19],q[20];\\nrz(pi/4) q[25];\\ncx q[24],q[25];\\nrz(-pi/4) q[25];\\nswap q[19],q[20];\\ncx q[19],q[25];\\nswap q[19],q[20];\\nrz(-5*pi/4) q[25];\\nrx(pi/2) q[25];\\nrz(pi/2) q[25];\\nrz(pi/4) q[24];\\nswap q[19],q[20];\\nswap q[18],q[19];\\ncx q[18],q[24];\\nswap q[18],q[19];\\nswap q[19],q[20];\\nrz(pi/4) q[20];\\nrz(-pi/4) q[24];\\nswap q[19],q[20];\\nswap q[18],q[19];\\ncx q[18],q[24];\\nswap q[18],q[19];\\nswap q[19],q[20];\\nrz(2.6375741) q[24];\\nrx(pi) q[24];\\nrz(2.6375741) q[24];\\nswap q[19],q[20];\\nswap q[18],q[19];\\ncx q[18],q[24];\\nswap q[18],q[19];\\nswap q[19],q[20];\\ncx q[31],q[30];\\ncx q[31],q[25];\\nh q[31];\\ncx q[30],q[31];\\nrz(-pi/4) q[31];\\ncx q[25],q[31];\\nrz(pi/4) q[31];\\ncx q[30],q[31];\\nrz(-pi/4) q[31];\\ncx q[25],q[31];\\nrz(-5*pi/4) q[31];\\nrx(pi/2) q[31];\\nrz(pi/2) q[31];\\nrz(pi/4) q[30];\\nswap q[24],q[25];\\ncx q[24],q[30];\\nswap q[24],q[25];\\nrz(pi/4) q[25];\\nrz(-pi/4) q[30];\\nswap q[24],q[25];\\ncx q[24],q[30];\\nswap q[24],q[25];\\nrz(2.6375741) q[30];\\nrx(pi) q[30];\\nrz(2.6375741) q[30];\\nswap q[24],q[25];\\ncx q[24],q[30];\\nswap q[24],q[25];\\ncx q[32],q[33];\\ncx q[32],q[31];\\nh q[32];\\ncx q[33],q[32];\\nrz(-pi/4) q[32];\\ncx q[31],q[32];\\nrz(pi/4) q[32];\\ncx q[33],q[32];\\nrz(-pi/4) q[32];\\ncx q[31],q[32];\\nrz(-5*pi/4) q[32];\\nrx(pi/2) q[32];\\nrz(pi/2) q[32];\\nrz(pi/4) q[33];\\nswap q[32],q[31];\\ncx q[32],q[33];\\nswap q[32],q[31];\\nrz(pi/4) q[31];\\nrz(-pi/4) q[33];\\nswap q[32],q[31];\\ncx q[32],q[33];\\nswap q[32],q[31];\\nrz(2.6375741) q[33];\\nrx(pi) q[33];\\nrz(2.6375741) q[33];\\nswap q[32],q[31];\\ncx q[32],q[33];\\nswap q[32],q[31];\\nswap q[33],q[27];\\ncx q[33],q[34];\\nswap q[33],q[27];\\nswap q[26],q[27];\\ncx q[26],q[32];\\nswap q[26],q[27];\\nh q[27];\\nswap q[28],q[34];\\ncx q[28],q[27];\\nswap q[28],q[34];\\nrz(-pi/4) q[27];\\nswap q[26],q[32];\\ncx q[26],q[27];\\nswap q[26],q[32];\\nrz(pi/4) q[27];\\nswap q[28],q[34];\\ncx q[28],q[27];\\nswap q[28],q[34];\\nrz(-pi/4) q[27];\\nswap q[26],q[32];\\ncx q[26],q[27];\\nswap q[26],q[32];\\nrz(-5*pi/4) q[27];\\nrx(pi/2) q[27];\\nrz(pi/2) q[27];\\nrz(pi/4) q[34];\\nswap q[33],q[32];\\ncx q[33],q[34];\\nswap q[33],q[32];\\nrz(pi/4) q[32];\\nrz(-pi/4) q[34];\\nswap q[33],q[32];\\ncx q[33],q[34];\\nswap q[33],q[32];\\nrz(2.6375741) q[34];\\nrx(pi) q[34];\\nrz(2.6375741) q[34];\\nswap q[33],q[32];\\ncx q[33],q[34];\\nswap q[33],q[32];\\nswap q[33],q[27];\\nswap q[34],q[33];\\ncx q[34],q[35];\\nswap q[34],q[33];\\nswap q[33],q[27];\\nh q[27];\\nswap q[28],q[34];\\ncx q[28],q[27];\\nswap q[28],q[34];\\nrz(-pi/4) q[27];\\nswap q[26],q[32];\\ncx q[26],q[27];\\nswap q[26],q[32];\\nrz(pi/4) q[27];\\nswap q[28],q[34];\\ncx q[28],q[27];\\nswap q[28],q[34];\\nrz(-pi/4) q[27];\\nswap q[26],q[32];\\ncx q[26],q[27];\\nswap q[26],q[32];\\nrz(-5*pi/4) q[27];\\nrx(pi/2) q[27];\\nrz(pi/2) q[27];\\nrz(pi/4) q[34];\\nswap q[33],q[32];\\ncx q[33],q[34];\\nswap q[33],q[32];\\nrz(pi/4) q[32];\\nrz(-pi/4) q[34];\\nswap q[33],q[32];\\ncx q[33],q[34];\\nswap q[33],q[32];\\nswap q[26],q[27];\\ncx q[26],q[32];\\nswap q[26],q[27];\\nh q[32];\\ncx q[33],q[32];\\nrz(-pi/4) q[32];\\ncx q[31],q[32];\\nrz(pi/4) q[32];\\ncx q[33],q[32];\\nrz(-pi/4) q[32];\\ncx q[31],q[32];\\nrz(-5*pi/4) q[32];\\nrx(pi/2) q[32];\\nrz(pi/2) q[32];\\nrz(pi/4) q[33];\\nswap q[32],q[31];\\ncx q[32],q[33];\\nswap q[32],q[31];\\nrz(pi/4) q[31];\\nrz(-pi/4) q[33];\\nswap q[32],q[31];\\ncx q[32],q[33];\\nswap q[32],q[31];\\ncx q[32],q[31];\\nh q[31];\\ncx q[30],q[31];\\nrz(-pi/4) q[31];\\ncx q[25],q[31];\\nrz(pi/4) q[31];\\ncx q[30],q[31];\\nrz(-pi/4) q[31];\\ncx q[25],q[31];\\nrz(-5*pi/4) q[31];\\nrx(pi/2) q[31];\\nrz(pi/2) q[31];\\nrz(pi/4) q[30];\\nswap q[24],q[25];\\ncx q[24],q[30];\\nswap q[24],q[25];\\nrz(pi/4) q[25];\\nrz(-pi/4) q[30];\\nswap q[24],q[25];\\ncx q[24],q[30];\\nswap q[24],q[25];\\ncx q[31],q[25];\\nh q[25];\\ncx q[24],q[25];\\nrz(-pi/4) q[25];\\nswap q[19],q[20];\\ncx q[19],q[25];\\nswap q[19],q[20];\\nrz(pi/4) q[25];\\ncx q[24],q[25];\\nrz(-pi/4) q[25];\\nswap q[19],q[20];\\ncx q[19],q[25];\\nswap q[19],q[20];\\nrz(-5*pi/4) q[25];\\nrx(pi/2) q[25];\\nrz(pi/2) q[25];\\nrz(pi/4) q[24];\\nswap q[19],q[20];\\nswap q[18],q[19];\\ncx q[18],q[24];\\nswap q[18],q[19];\\nswap q[19],q[20];\\nrz(pi/4) q[20];\\nrz(-pi/4) q[24];\\nswap q[19],q[20];\\nswap q[18],q[19];\\ncx q[18],q[24];\\nswap q[18],q[19];\\nswap q[19],q[20];\\nswap q[19],q[25];\\ncx q[19],q[20];\\nswap q[19],q[25];\\nh q[20];\\ncx q[26],q[20];\\nrz(-pi/4) q[20];\\ncx q[19],q[20];\\nrz(pi/4) q[20];\\ncx q[26],q[20];\\nrz(-pi/4) q[20];\\ncx q[19],q[20];\\nrz(-5*pi/4) q[20];\\nrx(pi/2) q[20];\\nrz(pi/2) q[20];\\nrz(pi/4) q[26];\\nswap q[25],q[19];\\ncx q[25],q[26];\\nswap q[25],q[19];\\nrz(pi/4) q[19];\\nrz(-pi/4) q[26];\\nswap q[25],q[19];\\ncx q[25],q[26];\\nswap q[25],q[19];\\ncx q[20],q[19];\\nh q[19];\\ncx q[18],q[19];\\nrz(-pi/4) q[19];\\ncx q[13],q[19];\\nrz(pi/4) q[19];\\ncx q[18],q[19];\\nrz(-pi/4) q[19];\\ncx q[13],q[19];\\nrz(-5*pi/4) q[19];\\nrx(pi/2) q[19];\\nrz(pi/2) q[19];\\nrz(pi/4) q[18];\\nswap q[12],q[13];\\ncx q[12],q[18];\\nswap q[12],q[13];\\nrz(pi/4) q[13];\\nrz(-pi/4) q[18];\\nswap q[12],q[13];\\ncx q[12],q[18];\\nswap q[12],q[13];\\ncx q[19],q[13];\\nh q[13];\\ncx q[12],q[13];\\nrz(-pi/4) q[13];\\nswap q[3],q[4];\\nswap q[2],q[3];\\nswap q[1],q[2];\\nswap q[7],q[1];\\ncx q[7],q[13];\\nswap q[7],q[1];\\nswap q[1],q[2];\\nswap q[2],q[3];\\nswap q[3],q[4];\\nrz(pi/4) q[13];\\ncx q[12],q[13];\\nrz(-pi/4) q[13];\\nswap q[3],q[4];\\nswap q[2],q[3];\\nswap q[1],q[2];\\nswap q[7],q[1];\\ncx q[7],q[13];\\nswap q[7],q[1];\\nswap q[1],q[2];\\nswap q[2],q[3];\\nswap q[3],q[4];\\nrz(-5*pi/4) q[13];\\nrx(pi/2) q[13];\\nrz(pi/2) q[13];\\nrz(pi/4) q[12];\\nswap q[3],q[4];\\nswap q[2],q[3];\\nswap q[1],q[2];\\nswap q[0],q[1];\\nswap q[6],q[0];\\ncx q[6],q[12];\\nswap q[6],q[0];\\nswap q[0],q[1];\\nswap q[1],q[2];\\nswap q[2],q[3];\\nswap q[3],q[4];\\nrz(pi/4) q[4];\\nrz(-pi/4) q[12];\\nswap q[3],q[4];\\nswap q[2],q[3];\\nswap q[1],q[2];\\nswap q[0],q[1];\\nswap q[6],q[0];\\ncx q[6],q[12];\\nswap q[6],q[0];\\nswap q[0],q[1];\\nswap q[1],q[2];\\nswap q[2],q[3];\\nswap q[3],q[4];\\nswap q[7],q[13];\\nswap q[1],q[7];\\nswap q[2],q[1];\\nswap q[3],q[2];\\ncx q[3],q[4];\\nswap q[3],q[2];\\nswap q[2],q[1];\\nswap q[1],q[7];\\nswap q[7],q[13];\\nh q[4];\\nswap q[22],q[28];\\nswap q[16],q[22];\\nswap q[10],q[16];\\ncx q[10],q[4];\\nswap q[10],q[16];\\nswap q[16],q[22];\\nswap q[22],q[28];\\nrz(-pi/4) q[4];\\nrz(2.6375741) q[12];\\nrx(pi) q[12];\\nrz(2.6375741) q[12];\\ncx q[13],q[12];\\nrz(2.6375741) q[18];\\nrx(pi) q[18];\\nrz(2.6375741) q[18];\\ncx q[19],q[18];\\nrz(2.6375741) q[26];\\nrx(pi) q[26];\\nrz(2.6375741) q[26];\\ncx q[20],q[26];\\nrz(2.6375741) q[24];\\nrx(pi) q[24];\\nrz(2.6375741) q[24];\\ncx q[25],q[24];\\nrz(2.6375741) q[30];\\nrx(pi) q[30];\\nrz(2.6375741) q[30];\\ncx q[31],q[30];\\nrz(2.6375741) q[33];\\nrx(pi) q[33];\\nrz(2.6375741) q[33];\\ncx q[32],q[33];\\nrz(2.6375741) q[34];\\nrx(pi) q[34];\\nrz(2.6375741) q[34];\\nswap q[33],q[27];\\ncx q[33],q[34];\\nswap q[33],q[27];\\nswap q[5],q[11];\\ncx q[5],q[4];\\nswap q[5],q[11];\\nrz(pi/4) q[4];\\nswap q[22],q[28];\\nswap q[16],q[22];\\nswap q[10],q[16];\\ncx q[10],q[4];\\nswap q[10],q[16];\\nswap q[16],q[22];\\nswap q[22],q[28];\\nrz(-pi/4) q[4];\\nrz(pi/4) q[28];\\nswap q[5],q[11];\\ncx q[5],q[4];\\nswap q[5],q[11];\\nrz(-5*pi/4) q[4];\\nrx(pi/2) q[4];\\nrz(pi/2) q[4];\\nswap q[10],q[11];\\nswap q[16],q[10];\\nswap q[22],q[16];\\ncx q[22],q[28];\\nswap q[22],q[16];\\nswap q[16],q[10];\\nswap q[10],q[11];\\nrz(-pi/4) q[28];\\nrz(pi/4) q[11];\\nswap q[10],q[11];\\nswap q[16],q[10];\\nswap q[22],q[16];\\ncx q[22],q[28];\\nswap q[22],q[16];\\nswap q[16],q[10];\\nswap q[10],q[11];\\nswap q[10],q[4];\\ncx q[10],q[11];\\nswap q[10],q[4];\\nrz(2.6375741) q[28];\\nrx(pi) q[28];\\nrz(2.6375741) q[28];\\nswap q[10],q[4];\\nswap q[16],q[10];\\nswap q[22],q[16];\\ncx q[22],q[28];\\nswap q[22],q[16];\\nswap q[16],q[10];\\nswap q[10],q[4];\\nh q[11];\\ncx q[5],q[11];\\nrz(-pi/4) q[11];\\nswap q[17],q[23];\\ncx q[17],q[11];\\nswap q[17],q[23];\\nrz(pi/4) q[11];\\ncx q[5],q[11];\\nrz(pi/4) q[5];\\nrz(-pi/4) q[11];\\nswap q[17],q[23];\\ncx q[17],q[11];\\nswap q[17],q[23];\\nswap q[17],q[23];\\nswap q[11],q[17];\\ncx q[11],q[5];\\nswap q[11],q[17];\\nswap q[17],q[23];\\nrz(-pi/4) q[5];\\nrz(pi/4) q[23];\\nswap q[17],q[23];\\nswap q[11],q[17];\\ncx q[11],q[5];\\nswap q[11],q[17];\\nswap q[17],q[23];\\nrz(2.6375741) q[5];\\nrx(pi) q[5];\\nrz(2.6375741) q[5];\\nrz(-5*pi/4) q[11];\\nrx(pi/2) q[11];\\nrz(pi/2) q[11];\\nswap q[17],q[11];\\ncx q[17],q[23];\\nswap q[17],q[11];\\nh q[23];\\ncx q[29],q[23];\\nrz(-pi/4) q[23];\\ncx q[22],q[23];\\nrz(pi/4) q[23];\\ncx q[29],q[23];\\nrz(pi/4) q[29];\\nrz(-pi/4) q[23];\\ncx q[22],q[23];\\nswap q[28],q[22];\\ncx q[28],q[29];\\nswap q[28],q[22];\\nrz(-pi/4) q[29];\\nrz(pi/4) q[22];\\nswap q[28],q[22];\\ncx q[28],q[29];\\nswap q[28],q[22];\\nrz(2.6375741) q[29];\\nrx(pi) q[29];\\nrz(2.6375741) q[29];\\nrz(-5*pi/4) q[23];\\nrx(pi/2) q[23];\\nrz(pi/2) q[23];\\ncx q[23],q[22];\\nh q[22];\\ncx q[21],q[22];\\nrz(-pi/4) q[22];\\ncx q[16],q[22];\\nrz(pi/4) q[22];\\ncx q[21],q[22];\\nrz(pi/4) q[21];\\nrz(-pi/4) q[22];\\ncx q[16],q[22];\\nswap q[15],q[16];\\ncx q[15],q[21];\\nswap q[15],q[16];\\nrz(-pi/4) q[21];\\nrz(pi/4) q[16];\\nswap q[15],q[16];\\ncx q[15],q[21];\\nswap q[15],q[16];\\nrz(2.6375741) q[21];\\nrx(pi) q[21];\\nrz(2.6375741) q[21];\\nrz(-5*pi/4) q[22];\\nrx(pi/2) q[22];\\nrz(pi/2) q[22];\\ncx q[22],q[16];\\nh q[16];\\ncx q[17],q[16];\\nrz(-pi/4) q[16];\\ncx q[15],q[16];\\nrz(pi/4) q[16];\\ncx q[17],q[16];\\nrz(pi/4) q[17];\\nrz(-pi/4) q[16];\\ncx q[15],q[16];\\nswap q[16],q[15];\\ncx q[16],q[17];\\nswap q[16],q[15];\\nrz(-pi/4) q[17];\\nrz(pi/4) q[15];\\nswap q[16],q[15];\\ncx q[16],q[17];\\nswap q[16],q[15];\\nrz(2.6375741) q[17];\\nrx(pi) q[17];\\nrz(2.6375741) q[17];\\nrz(-5*pi/4) q[16];\\nrx(pi/2) q[16];\\nrz(pi/2) q[16];\\ncx q[16],q[15];\\nh q[15];\\ncx q[14],q[15];\\nrz(-pi/4) q[15];\\ncx q[9],q[15];\\nrz(pi/4) q[15];\\ncx q[14],q[15];\\nrz(pi/4) q[14];\\nrz(-pi/4) q[15];\\ncx q[9],q[15];\\nswap q[8],q[9];\\ncx q[8],q[14];\\nswap q[8],q[9];\\nrz(-pi/4) q[14];\\nrz(pi/4) q[9];\\nswap q[8],q[9];\\ncx q[8],q[14];\\nswap q[8],q[9];\\nrz(2.6375741) q[14];\\nrx(pi) q[14];\\nrz(2.6375741) q[14];\\nrz(-5*pi/4) q[15];\\nrx(pi/2) q[15];\\nrz(pi/2) q[15];\\ncx q[15],q[9];\\nh q[9];\\ncx q[10],q[9];\\nrz(-pi/4) q[9];\\ncx q[8],q[9];\\nrz(pi/4) q[9];\\ncx q[10],q[9];\\nrz(pi/4) q[10];\\nrz(-pi/4) q[9];\\ncx q[8],q[9];\\nswap q[9],q[8];\\ncx q[9],q[10];\\nswap q[9],q[8];\\nrz(-pi/4) q[10];\\nrz(pi/4) q[8];\\nswap q[9],q[8];\\ncx q[9],q[10];\\nswap q[9],q[8];\\nrz(2.6375741) q[10];\\nrx(pi) q[10];\\nrz(2.6375741) q[10];\\nrz(-5*pi/4) q[9];\\nrx(pi/2) q[9];\\nrz(pi/2) q[9];\\ncx q[9],q[8];\\nh q[8];\\ncx q[7],q[8];\\nrz(-pi/4) q[8];\\ncx q[2],q[8];\\nrz(pi/4) q[8];\\ncx q[7],q[8];\\nrz(pi/4) q[7];\\nrz(-pi/4) q[8];\\ncx q[2],q[8];\\nswap q[1],q[2];\\ncx q[1],q[7];\\nswap q[1],q[2];\\nrz(pi/4) q[2];\\nrz(-pi/4) q[7];\\nswap q[1],q[2];\\ncx q[1],q[7];\\nswap q[1],q[2];\\nrz(2.6375741) q[7];\\nrx(pi) q[7];\\nrz(2.6375741) q[7];\\nrz(-5*pi/4) q[8];\\nrx(pi/2) q[8];\\nrz(pi/2) q[8];\\ncx q[8],q[2];\\nh q[2];\\ncx q[3],q[2];\\nrz(-pi/4) q[2];\\nswap q[1],q[0];\\ncx q[1],q[2];\\nswap q[1],q[0];\\nrz(pi/4) q[2];\\ncx q[3],q[2];\\nrz(pi/4) q[3];\\nrz(-pi/4) q[2];\\nswap q[1],q[0];\\ncx q[1],q[2];\\nswap q[1],q[0];\\nswap q[1],q[0];\\nswap q[2],q[1];\\ncx q[2],q[3];\\nswap q[2],q[1];\\nswap q[1],q[0];\\nrz(pi/4) q[0];\\nrz(-pi/4) q[3];\\nswap q[1],q[0];\\nswap q[2],q[1];\\ncx q[2],q[3];\\nswap q[2],q[1];\\nswap q[1],q[0];\\nrz(2.6375741) q[3];\\nrx(pi) q[3];\\nrz(2.6375741) q[3];\\nrz(-5*pi/4) q[2];\\nrx(pi/2) q[2];\\nrz(pi/2) q[2];\\nswap q[1],q[2];\\ncx q[1],q[0];\\nswap q[1],q[2];\\nh q[0];\\ncx q[1],q[0];\\nrz(-pi/4) q[0];\\ncx q[6],q[0];\\nrz(pi/4) q[0];\\ncx q[1],q[0];\\nrz(-pi/4) q[0];\\ncx q[6],q[0];\\nrz(-5*pi/4) q[0];\\nrx(pi/2) q[0];\\nrz(pi/2) q[0];\\nrz(pi/4) q[1];\\nswap q[0],q[6];\\ncx q[0],q[1];\\nswap q[0],q[6];\\nrz(pi/4) q[6];\\nrz(-pi/4) q[1];\\nswap q[0],q[6];\\ncx q[0],q[1];\\nswap q[0],q[6];\\ncx q[0],q[6];\\nrz(2.6375741) q[1];\\nrx(pi) q[1];\\nrz(2.6375741) q[1];\\ncx q[0],q[1];\\ncx q[2],q[3];\\ncx q[8],q[7];\\ncx q[9],q[10];\\ncx q[15],q[14];\\ncx q[16],q[17];\\ncx q[22],q[21];\\ncx q[23],q[29];\\ncx q[11],q[5];\\n')\n",
    "_gate_times = {\n",
    "    '1' : 12.0,\n",
    "    'rz' : 0.0,  # Free\n",
    "    'cx' : 80.0,\n",
    "}\n",
    "_schedule = schedule_circuit(_routed, _gate_times)\n",
    "validate_schedule(_routed, _gate_times, _schedule, check_unitary=False)\n",
    "_score, _worst = score_schedule(_routed, _gate_times, _schedule)\n",
    "assert _worst == 4508064, 'internal error'\n",
    "assert _score <= 3000000, 'score is above 3000000, try improving the mapping by placing pairs of qubits with many CNOTs close together'\n",
    "print('PASS: Score is under 3000000 (see if you can beat our solution of 2615008)')"
   ]
  },
  {
   "cell_type": "code",
   "execution_count": 34,
   "metadata": {
    "deletable": false,
    "editable": false,
    "nbgrader": {
     "cell_type": "code",
     "checksum": "0e06f1553987dbe890a2951d9b93f051",
     "grade": true,
     "grade_id": "3c-test",
     "locked": true,
     "points": 5,
     "schema_version": 3,
     "solution": false,
     "task": false
    }
   },
   "outputs": [
    {
     "name": "stderr",
     "output_type": "stream",
     "text": [
      "C:\\Users\\panch\\AppData\\Local\\Temp\\ipykernel_21812\\2653531177.py:84: DeprecationWarning: Back-references to from Bit instances to their containing Registers have been deprecated. Instead, inspect Registers to find their contained Bits.\n",
      "  q1 = qubits[0].index  # qubit uno del cx\n",
      "C:\\Users\\panch\\AppData\\Local\\Temp\\ipykernel_21812\\2653531177.py:85: DeprecationWarning: Back-references to from Bit instances to their containing Registers have been deprecated. Instead, inspect Registers to find their contained Bits.\n",
      "  q2 = qubits[1].index # qubit dos del cx\n",
      "C:\\Users\\panch\\AppData\\Local\\Temp\\ipykernel_21812\\2653531177.py:45: DeprecationWarning: Back-references to from Bit instances to their containing Registers have been deprecated. Instead, inspect Registers to find their contained Bits.\n",
      "  current_qubit = gate_wrapped.qubits[0].index\n",
      "C:\\Users\\panch\\AppData\\Local\\Temp\\ipykernel_21812\\126268001.py:9: DeprecationWarning: Back-references to from Bit instances to their containing Registers have been deprecated. Instead, inspect Registers to find their contained Bits.\n",
      "  == len(frozenset(q.index for q in routed_circuit.qubits))), (\n",
      "C:\\Users\\panch\\AppData\\Local\\Temp\\ipykernel_21812\\741747216.py:7: DeprecationWarning: Back-references to from Bit instances to their containing Registers have been deprecated. Instead, inspect Registers to find their contained Bits.\n",
      "  circuit = QuantumCircuit(next(iter(qubits)).register)\n",
      "C:\\Users\\panch\\AppData\\Local\\Temp\\ipykernel_21812\\741747216.py:12: DeprecationWarning: Back-references to from Bit instances to their containing Registers have been deprecated. Instead, inspect Registers to find their contained Bits.\n",
      "  new_qubits = [circuit.qubits[q.index] for q in gate.qubits]\n"
     ]
    },
    {
     "name": "stdout",
     "output_type": "stream",
     "text": [
      "(Total circuit duration is 131184.0)\n",
      "Your scheduling score is 4650904.0 ns, better than the worst case score of 5406624.0.\n",
      "PASS: Score is under 3000000 (see if you can beat our solution of 4650904)\n"
     ]
    }
   ],
   "source": [
    "# Do not delete this cell\n",
    "# The autograder will test the function schedule_circuit.\n",
    "# Give a fixed routing so we only test your scheduler\n",
    "_routed = QuantumCircuit.from_qasm_str('OPENQASM 2.0;\\ninclude \"qelib1.inc\";\\nqreg q[200];\\ncx q[0],q[1];\\ncx q[0],q[199];\\nh q[0];\\ncx q[1],q[0];\\nrz(-pi/4) q[0];\\ncx q[199],q[0];\\nrz(pi/4) q[0];\\ncx q[1],q[0];\\nrz(-pi/4) q[0];\\ncx q[199],q[0];\\nrz(-5*pi/4) q[0];\\nrx(pi/2) q[0];\\nrz(pi/2) q[0];\\nrz(pi/4) q[1];\\nswap q[0],q[199];\\ncx q[0],q[1];\\nswap q[0],q[199];\\nrz(pi/4) q[199];\\nrz(-pi/4) q[1];\\nswap q[0],q[199];\\ncx q[0],q[1];\\nswap q[0],q[199];\\nrz(2.6375741) q[1];\\nrx(pi) q[1];\\nrz(2.6375741) q[1];\\nswap q[0],q[199];\\ncx q[0],q[1];\\nswap q[0],q[199];\\ncx q[2],q[3];\\nswap q[1],q[2];\\ncx q[1],q[0];\\nswap q[1],q[2];\\nh q[2];\\ncx q[3],q[2];\\nrz(-pi/4) q[2];\\nswap q[1],q[0];\\ncx q[1],q[2];\\nswap q[1],q[0];\\nrz(pi/4) q[2];\\ncx q[3],q[2];\\nrz(pi/4) q[3];\\nrz(-pi/4) q[2];\\nswap q[1],q[0];\\ncx q[1],q[2];\\nswap q[1],q[0];\\nswap q[1],q[0];\\nswap q[2],q[1];\\ncx q[2],q[3];\\nswap q[2],q[1];\\nswap q[1],q[0];\\nrz(pi/4) q[0];\\nrz(-pi/4) q[3];\\nswap q[1],q[0];\\nswap q[2],q[1];\\ncx q[2],q[3];\\nswap q[2],q[1];\\nswap q[1],q[0];\\nrz(2.6375741) q[3];\\nrx(pi) q[3];\\nrz(2.6375741) q[3];\\nswap q[1],q[0];\\nswap q[2],q[1];\\ncx q[2],q[3];\\nswap q[2],q[1];\\nswap q[1],q[0];\\nrz(-5*pi/4) q[2];\\nrx(pi/2) q[2];\\nrz(pi/2) q[2];\\ncx q[4],q[5];\\nswap q[3],q[4];\\ncx q[3],q[2];\\nswap q[3],q[4];\\nh q[4];\\ncx q[5],q[4];\\nrz(-pi/4) q[4];\\nswap q[3],q[2];\\ncx q[3],q[4];\\nswap q[3],q[2];\\nrz(pi/4) q[4];\\ncx q[5],q[4];\\nrz(pi/4) q[5];\\nrz(-pi/4) q[4];\\nswap q[3],q[2];\\ncx q[3],q[4];\\nswap q[3],q[2];\\nswap q[3],q[2];\\nswap q[4],q[3];\\ncx q[4],q[5];\\nswap q[4],q[3];\\nswap q[3],q[2];\\nrz(pi/4) q[2];\\nrz(-pi/4) q[5];\\nswap q[3],q[2];\\nswap q[4],q[3];\\ncx q[4],q[5];\\nswap q[4],q[3];\\nswap q[3],q[2];\\nrz(2.6375741) q[5];\\nrx(pi) q[5];\\nrz(2.6375741) q[5];\\nswap q[3],q[2];\\nswap q[4],q[3];\\ncx q[4],q[5];\\nswap q[4],q[3];\\nswap q[3],q[2];\\nrz(-5*pi/4) q[4];\\nrx(pi/2) q[4];\\nrz(pi/2) q[4];\\ncx q[6],q[7];\\nswap q[5],q[6];\\ncx q[5],q[4];\\nswap q[5],q[6];\\nh q[6];\\ncx q[7],q[6];\\nrz(-pi/4) q[6];\\nswap q[5],q[4];\\ncx q[5],q[6];\\nswap q[5],q[4];\\nrz(pi/4) q[6];\\ncx q[7],q[6];\\nrz(pi/4) q[7];\\nrz(-pi/4) q[6];\\nswap q[5],q[4];\\ncx q[5],q[6];\\nswap q[5],q[4];\\nswap q[5],q[4];\\nswap q[6],q[5];\\ncx q[6],q[7];\\nswap q[6],q[5];\\nswap q[5],q[4];\\nrz(-pi/4) q[7];\\nrz(pi/4) q[4];\\nswap q[5],q[4];\\nswap q[6],q[5];\\ncx q[6],q[7];\\nswap q[6],q[5];\\nswap q[5],q[4];\\nrz(2.6375741) q[7];\\nrx(pi) q[7];\\nrz(2.6375741) q[7];\\nswap q[5],q[4];\\nswap q[6],q[5];\\ncx q[6],q[7];\\nswap q[6],q[5];\\nswap q[5],q[4];\\nrz(-5*pi/4) q[6];\\nrx(pi/2) q[6];\\nrz(pi/2) q[6];\\ncx q[8],q[9];\\nswap q[7],q[8];\\ncx q[7],q[6];\\nswap q[7],q[8];\\nh q[8];\\ncx q[9],q[8];\\nrz(-pi/4) q[8];\\nswap q[7],q[6];\\ncx q[7],q[8];\\nswap q[7],q[6];\\nrz(pi/4) q[8];\\ncx q[9],q[8];\\nrz(pi/4) q[9];\\nrz(-pi/4) q[8];\\nswap q[7],q[6];\\ncx q[7],q[8];\\nswap q[7],q[6];\\nswap q[7],q[6];\\nswap q[8],q[7];\\ncx q[8],q[9];\\nswap q[8],q[7];\\nswap q[7],q[6];\\nrz(-pi/4) q[9];\\nrz(pi/4) q[6];\\nswap q[7],q[6];\\nswap q[8],q[7];\\ncx q[8],q[9];\\nswap q[8],q[7];\\nswap q[7],q[6];\\nrz(2.6375741) q[9];\\nrx(pi) q[9];\\nrz(2.6375741) q[9];\\nswap q[7],q[6];\\nswap q[8],q[7];\\ncx q[8],q[9];\\nswap q[8],q[7];\\nswap q[7],q[6];\\nrz(-5*pi/4) q[8];\\nrx(pi/2) q[8];\\nrz(pi/2) q[8];\\ncx q[10],q[11];\\nswap q[9],q[10];\\ncx q[9],q[8];\\nswap q[9],q[10];\\nh q[10];\\ncx q[11],q[10];\\nrz(-pi/4) q[10];\\nswap q[9],q[8];\\ncx q[9],q[10];\\nswap q[9],q[8];\\nrz(pi/4) q[10];\\ncx q[11],q[10];\\nrz(pi/4) q[11];\\nrz(-pi/4) q[10];\\nswap q[9],q[8];\\ncx q[9],q[10];\\nswap q[9],q[8];\\nswap q[9],q[8];\\nswap q[10],q[9];\\ncx q[10],q[11];\\nswap q[10],q[9];\\nswap q[9],q[8];\\nrz(-pi/4) q[11];\\nrz(pi/4) q[8];\\nswap q[9],q[8];\\nswap q[10],q[9];\\ncx q[10],q[11];\\nswap q[10],q[9];\\nswap q[9],q[8];\\nrz(2.6375741) q[11];\\nrx(pi) q[11];\\nrz(2.6375741) q[11];\\nswap q[9],q[8];\\nswap q[10],q[9];\\ncx q[10],q[11];\\nswap q[10],q[9];\\nswap q[9],q[8];\\nrz(-5*pi/4) q[10];\\nrx(pi/2) q[10];\\nrz(pi/2) q[10];\\ncx q[12],q[13];\\nswap q[11],q[12];\\ncx q[11],q[10];\\nswap q[11],q[12];\\nh q[12];\\ncx q[13],q[12];\\nrz(-pi/4) q[12];\\nswap q[11],q[10];\\ncx q[11],q[12];\\nswap q[11],q[10];\\nrz(pi/4) q[12];\\ncx q[13],q[12];\\nrz(pi/4) q[13];\\nrz(-pi/4) q[12];\\nswap q[11],q[10];\\ncx q[11],q[12];\\nswap q[11],q[10];\\nswap q[11],q[10];\\nswap q[12],q[11];\\ncx q[12],q[13];\\nswap q[12],q[11];\\nswap q[11],q[10];\\nrz(-pi/4) q[13];\\nrz(pi/4) q[10];\\nswap q[11],q[10];\\nswap q[12],q[11];\\ncx q[12],q[13];\\nswap q[12],q[11];\\nswap q[11],q[10];\\nrz(2.6375741) q[13];\\nrx(pi) q[13];\\nrz(2.6375741) q[13];\\nswap q[11],q[10];\\nswap q[12],q[11];\\ncx q[12],q[13];\\nswap q[12],q[11];\\nswap q[11],q[10];\\nrz(-5*pi/4) q[12];\\nrx(pi/2) q[12];\\nrz(pi/2) q[12];\\ncx q[14],q[15];\\nswap q[13],q[14];\\ncx q[13],q[12];\\nswap q[13],q[14];\\nh q[14];\\ncx q[15],q[14];\\nrz(-pi/4) q[14];\\nswap q[13],q[12];\\ncx q[13],q[14];\\nswap q[13],q[12];\\nrz(pi/4) q[14];\\ncx q[15],q[14];\\nrz(pi/4) q[15];\\nrz(-pi/4) q[14];\\nswap q[13],q[12];\\ncx q[13],q[14];\\nswap q[13],q[12];\\nswap q[13],q[12];\\nswap q[14],q[13];\\ncx q[14],q[15];\\nswap q[14],q[13];\\nswap q[13],q[12];\\nrz(-pi/4) q[15];\\nrz(pi/4) q[12];\\nswap q[13],q[12];\\nswap q[14],q[13];\\ncx q[14],q[15];\\nswap q[14],q[13];\\nswap q[13],q[12];\\nrz(2.6375741) q[15];\\nrx(pi) q[15];\\nrz(2.6375741) q[15];\\nswap q[13],q[12];\\nswap q[14],q[13];\\ncx q[14],q[15];\\nswap q[14],q[13];\\nswap q[13],q[12];\\nrz(-5*pi/4) q[14];\\nrx(pi/2) q[14];\\nrz(pi/2) q[14];\\ncx q[16],q[17];\\nswap q[15],q[16];\\ncx q[15],q[14];\\nswap q[15],q[16];\\nh q[16];\\ncx q[17],q[16];\\nrz(-pi/4) q[16];\\nswap q[15],q[14];\\ncx q[15],q[16];\\nswap q[15],q[14];\\nrz(pi/4) q[16];\\ncx q[17],q[16];\\nrz(pi/4) q[17];\\nrz(-pi/4) q[16];\\nswap q[15],q[14];\\ncx q[15],q[16];\\nswap q[15],q[14];\\nswap q[15],q[14];\\nswap q[16],q[15];\\ncx q[16],q[17];\\nswap q[16],q[15];\\nswap q[15],q[14];\\nrz(-pi/4) q[17];\\nrz(pi/4) q[14];\\nswap q[15],q[14];\\nswap q[16],q[15];\\ncx q[16],q[17];\\nswap q[16],q[15];\\nswap q[15],q[14];\\nrz(2.6375741) q[17];\\nrx(pi) q[17];\\nrz(2.6375741) q[17];\\nswap q[15],q[14];\\nswap q[16],q[15];\\ncx q[16],q[17];\\nswap q[16],q[15];\\nswap q[15],q[14];\\nrz(-5*pi/4) q[16];\\nrx(pi/2) q[16];\\nrz(pi/2) q[16];\\ncx q[18],q[19];\\nswap q[17],q[18];\\ncx q[17],q[16];\\nswap q[17],q[18];\\nh q[18];\\ncx q[19],q[18];\\nrz(-pi/4) q[18];\\nswap q[17],q[16];\\ncx q[17],q[18];\\nswap q[17],q[16];\\nrz(pi/4) q[18];\\ncx q[19],q[18];\\nrz(-pi/4) q[18];\\nrz(pi/4) q[19];\\nswap q[17],q[16];\\ncx q[17],q[18];\\nswap q[17],q[16];\\nrz(-5*pi/4) q[18];\\nrx(pi/2) q[18];\\nrz(pi/2) q[18];\\nswap q[17],q[16];\\nswap q[18],q[17];\\ncx q[18],q[19];\\nswap q[18],q[17];\\nswap q[17],q[16];\\nrz(-pi/4) q[19];\\nrz(pi/4) q[16];\\nswap q[17],q[16];\\nswap q[18],q[17];\\ncx q[18],q[19];\\nswap q[18],q[17];\\nswap q[17],q[16];\\nrz(2.6375741) q[19];\\nrx(pi) q[19];\\nrz(2.6375741) q[19];\\nswap q[17],q[16];\\nswap q[18],q[17];\\ncx q[18],q[19];\\nswap q[18],q[17];\\nswap q[17],q[16];\\ncx q[20],q[21];\\nswap q[19],q[20];\\ncx q[19],q[18];\\nswap q[19],q[20];\\nh q[20];\\ncx q[21],q[20];\\nrz(-pi/4) q[20];\\nswap q[19],q[18];\\ncx q[19],q[20];\\nswap q[19],q[18];\\nrz(pi/4) q[20];\\ncx q[21],q[20];\\nrz(-pi/4) q[20];\\nswap q[19],q[18];\\ncx q[19],q[20];\\nswap q[19],q[18];\\nrz(-5*pi/4) q[20];\\nrx(pi/2) q[20];\\nrz(pi/2) q[20];\\nrz(pi/4) q[21];\\nswap q[19],q[18];\\nswap q[20],q[19];\\ncx q[20],q[21];\\nswap q[20],q[19];\\nswap q[19],q[18];\\nrz(pi/4) q[18];\\nrz(-pi/4) q[21];\\nswap q[19],q[18];\\nswap q[20],q[19];\\ncx q[20],q[21];\\nswap q[20],q[19];\\nswap q[19],q[18];\\nrz(2.6375741) q[21];\\nrx(pi) q[21];\\nrz(2.6375741) q[21];\\nswap q[19],q[18];\\nswap q[20],q[19];\\ncx q[20],q[21];\\nswap q[20],q[19];\\nswap q[19],q[18];\\ncx q[22],q[23];\\nswap q[21],q[22];\\ncx q[21],q[20];\\nswap q[21],q[22];\\nh q[22];\\ncx q[23],q[22];\\nrz(-pi/4) q[22];\\nswap q[21],q[20];\\ncx q[21],q[22];\\nswap q[21],q[20];\\nrz(pi/4) q[22];\\ncx q[23],q[22];\\nrz(-pi/4) q[22];\\nswap q[21],q[20];\\ncx q[21],q[22];\\nswap q[21],q[20];\\nrz(-5*pi/4) q[22];\\nrx(pi/2) q[22];\\nrz(pi/2) q[22];\\nrz(pi/4) q[23];\\nswap q[21],q[20];\\nswap q[22],q[21];\\ncx q[22],q[23];\\nswap q[22],q[21];\\nswap q[21],q[20];\\nrz(pi/4) q[20];\\nrz(-pi/4) q[23];\\nswap q[21],q[20];\\nswap q[22],q[21];\\ncx q[22],q[23];\\nswap q[22],q[21];\\nswap q[21],q[20];\\nrz(2.6375741) q[23];\\nrx(pi) q[23];\\nrz(2.6375741) q[23];\\nswap q[21],q[20];\\nswap q[22],q[21];\\ncx q[22],q[23];\\nswap q[22],q[21];\\nswap q[21],q[20];\\ncx q[24],q[25];\\nswap q[23],q[24];\\ncx q[23],q[22];\\nswap q[23],q[24];\\nh q[24];\\ncx q[25],q[24];\\nrz(-pi/4) q[24];\\nswap q[23],q[22];\\ncx q[23],q[24];\\nswap q[23],q[22];\\nrz(pi/4) q[24];\\ncx q[25],q[24];\\nrz(-pi/4) q[24];\\nswap q[23],q[22];\\ncx q[23],q[24];\\nswap q[23],q[22];\\nrz(-5*pi/4) q[24];\\nrx(pi/2) q[24];\\nrz(pi/2) q[24];\\nrz(pi/4) q[25];\\nswap q[23],q[22];\\nswap q[24],q[23];\\ncx q[24],q[25];\\nswap q[24],q[23];\\nswap q[23],q[22];\\nrz(pi/4) q[22];\\nrz(-pi/4) q[25];\\nswap q[23],q[22];\\nswap q[24],q[23];\\ncx q[24],q[25];\\nswap q[24],q[23];\\nswap q[23],q[22];\\nrz(2.6375741) q[25];\\nrx(pi) q[25];\\nrz(2.6375741) q[25];\\nswap q[23],q[22];\\nswap q[24],q[23];\\ncx q[24],q[25];\\nswap q[24],q[23];\\nswap q[23],q[22];\\ncx q[26],q[27];\\nswap q[25],q[26];\\ncx q[25],q[24];\\nswap q[25],q[26];\\nh q[26];\\ncx q[27],q[26];\\nrz(-pi/4) q[26];\\nswap q[25],q[24];\\ncx q[25],q[26];\\nswap q[25],q[24];\\nrz(pi/4) q[26];\\ncx q[27],q[26];\\nrz(-pi/4) q[26];\\nswap q[25],q[24];\\ncx q[25],q[26];\\nswap q[25],q[24];\\nrz(-5*pi/4) q[26];\\nrx(pi/2) q[26];\\nrz(pi/2) q[26];\\nrz(pi/4) q[27];\\nswap q[25],q[24];\\nswap q[26],q[25];\\ncx q[26],q[27];\\nswap q[26],q[25];\\nswap q[25],q[24];\\nrz(pi/4) q[24];\\nrz(-pi/4) q[27];\\nswap q[25],q[24];\\nswap q[26],q[25];\\ncx q[26],q[27];\\nswap q[26],q[25];\\nswap q[25],q[24];\\nrz(2.6375741) q[27];\\nrx(pi) q[27];\\nrz(2.6375741) q[27];\\nswap q[25],q[24];\\nswap q[26],q[25];\\ncx q[26],q[27];\\nswap q[26],q[25];\\nswap q[25],q[24];\\ncx q[28],q[29];\\nswap q[27],q[28];\\ncx q[27],q[26];\\nswap q[27],q[28];\\nh q[28];\\ncx q[29],q[28];\\nrz(-pi/4) q[28];\\nswap q[27],q[26];\\ncx q[27],q[28];\\nswap q[27],q[26];\\nrz(pi/4) q[28];\\ncx q[29],q[28];\\nrz(-pi/4) q[28];\\nswap q[27],q[26];\\ncx q[27],q[28];\\nswap q[27],q[26];\\nrz(-5*pi/4) q[28];\\nrx(pi/2) q[28];\\nrz(pi/2) q[28];\\nrz(pi/4) q[29];\\nswap q[27],q[26];\\nswap q[28],q[27];\\ncx q[28],q[29];\\nswap q[28],q[27];\\nswap q[27],q[26];\\nrz(pi/4) q[26];\\nrz(-pi/4) q[29];\\nswap q[27],q[26];\\nswap q[28],q[27];\\ncx q[28],q[29];\\nswap q[28],q[27];\\nswap q[27],q[26];\\nrz(2.6375741) q[29];\\nrx(pi) q[29];\\nrz(2.6375741) q[29];\\nswap q[27],q[26];\\nswap q[28],q[27];\\ncx q[28],q[29];\\nswap q[28],q[27];\\nswap q[27],q[26];\\ncx q[30],q[31];\\nswap q[29],q[30];\\ncx q[29],q[28];\\nswap q[29],q[30];\\nh q[30];\\ncx q[31],q[30];\\nrz(-pi/4) q[30];\\nswap q[29],q[28];\\ncx q[29],q[30];\\nswap q[29],q[28];\\nrz(pi/4) q[30];\\ncx q[31],q[30];\\nrz(-pi/4) q[30];\\nswap q[29],q[28];\\ncx q[29],q[30];\\nswap q[29],q[28];\\nrz(-5*pi/4) q[30];\\nrx(pi/2) q[30];\\nrz(pi/2) q[30];\\nrz(pi/4) q[31];\\nswap q[29],q[28];\\nswap q[30],q[29];\\ncx q[30],q[31];\\nswap q[30],q[29];\\nswap q[29],q[28];\\nrz(pi/4) q[28];\\nrz(-pi/4) q[31];\\nswap q[29],q[28];\\nswap q[30],q[29];\\ncx q[30],q[31];\\nswap q[30],q[29];\\nswap q[29],q[28];\\nrz(2.6375741) q[31];\\nrx(pi) q[31];\\nrz(2.6375741) q[31];\\nswap q[29],q[28];\\nswap q[30],q[29];\\ncx q[30],q[31];\\nswap q[30],q[29];\\nswap q[29],q[28];\\ncx q[32],q[33];\\nswap q[31],q[32];\\ncx q[31],q[30];\\nswap q[31],q[32];\\nh q[32];\\ncx q[33],q[32];\\nrz(-pi/4) q[32];\\nswap q[31],q[30];\\ncx q[31],q[32];\\nswap q[31],q[30];\\nrz(pi/4) q[32];\\ncx q[33],q[32];\\nrz(-pi/4) q[32];\\nswap q[31],q[30];\\ncx q[31],q[32];\\nswap q[31],q[30];\\nrz(-5*pi/4) q[32];\\nrx(pi/2) q[32];\\nrz(pi/2) q[32];\\nrz(pi/4) q[33];\\nswap q[31],q[30];\\nswap q[32],q[31];\\ncx q[32],q[33];\\nswap q[32],q[31];\\nswap q[31],q[30];\\nrz(pi/4) q[30];\\nrz(-pi/4) q[33];\\nswap q[31],q[30];\\nswap q[32],q[31];\\ncx q[32],q[33];\\nswap q[32],q[31];\\nswap q[31],q[30];\\nrz(2.6375741) q[33];\\nrx(pi) q[33];\\nrz(2.6375741) q[33];\\nswap q[31],q[30];\\nswap q[32],q[31];\\ncx q[32],q[33];\\nswap q[32],q[31];\\nswap q[31],q[30];\\nswap q[33],q[32];\\ncx q[33],q[34];\\nswap q[33],q[32];\\nh q[32];\\ncx q[33],q[32];\\nrz(-pi/4) q[32];\\nswap q[31],q[30];\\ncx q[31],q[32];\\nswap q[31],q[30];\\nrz(pi/4) q[32];\\ncx q[33],q[32];\\nrz(-pi/4) q[32];\\nswap q[31],q[30];\\ncx q[31],q[32];\\nswap q[31],q[30];\\nrz(-5*pi/4) q[32];\\nrx(pi/2) q[32];\\nrz(pi/2) q[32];\\nrz(pi/4) q[33];\\nswap q[31],q[30];\\nswap q[32],q[31];\\ncx q[32],q[33];\\nswap q[32],q[31];\\nswap q[31],q[30];\\nrz(pi/4) q[30];\\nrz(-pi/4) q[33];\\nswap q[31],q[30];\\nswap q[32],q[31];\\ncx q[32],q[33];\\nswap q[32],q[31];\\nswap q[31],q[30];\\nswap q[31],q[32];\\ncx q[31],q[30];\\nswap q[31],q[32];\\nh q[30];\\ncx q[31],q[30];\\nrz(-pi/4) q[30];\\nswap q[29],q[28];\\ncx q[29],q[30];\\nswap q[29],q[28];\\nrz(pi/4) q[30];\\ncx q[31],q[30];\\nrz(-pi/4) q[30];\\nswap q[29],q[28];\\ncx q[29],q[30];\\nswap q[29],q[28];\\nrz(-5*pi/4) q[30];\\nrx(pi/2) q[30];\\nrz(pi/2) q[30];\\nrz(pi/4) q[31];\\nswap q[29],q[28];\\nswap q[30],q[29];\\ncx q[30],q[31];\\nswap q[30],q[29];\\nswap q[29],q[28];\\nrz(pi/4) q[28];\\nrz(-pi/4) q[31];\\nswap q[29],q[28];\\nswap q[30],q[29];\\ncx q[30],q[31];\\nswap q[30],q[29];\\nswap q[29],q[28];\\nswap q[29],q[30];\\ncx q[29],q[28];\\nswap q[29],q[30];\\nh q[28];\\ncx q[29],q[28];\\nrz(-pi/4) q[28];\\nswap q[27],q[26];\\ncx q[27],q[28];\\nswap q[27],q[26];\\nrz(pi/4) q[28];\\ncx q[29],q[28];\\nrz(-pi/4) q[28];\\nswap q[27],q[26];\\ncx q[27],q[28];\\nswap q[27],q[26];\\nrz(-5*pi/4) q[28];\\nrx(pi/2) q[28];\\nrz(pi/2) q[28];\\nrz(pi/4) q[29];\\nswap q[27],q[26];\\nswap q[28],q[27];\\ncx q[28],q[29];\\nswap q[28],q[27];\\nswap q[27],q[26];\\nrz(pi/4) q[26];\\nrz(-pi/4) q[29];\\nswap q[27],q[26];\\nswap q[28],q[27];\\ncx q[28],q[29];\\nswap q[28],q[27];\\nswap q[27],q[26];\\nswap q[27],q[28];\\ncx q[27],q[26];\\nswap q[27],q[28];\\nh q[26];\\ncx q[27],q[26];\\nrz(-pi/4) q[26];\\nswap q[25],q[24];\\ncx q[25],q[26];\\nswap q[25],q[24];\\nrz(pi/4) q[26];\\ncx q[27],q[26];\\nrz(-pi/4) q[26];\\nswap q[25],q[24];\\ncx q[25],q[26];\\nswap q[25],q[24];\\nrz(-5*pi/4) q[26];\\nrx(pi/2) q[26];\\nrz(pi/2) q[26];\\nrz(pi/4) q[27];\\nswap q[25],q[24];\\nswap q[26],q[25];\\ncx q[26],q[27];\\nswap q[26],q[25];\\nswap q[25],q[24];\\nrz(pi/4) q[24];\\nrz(-pi/4) q[27];\\nswap q[25],q[24];\\nswap q[26],q[25];\\ncx q[26],q[27];\\nswap q[26],q[25];\\nswap q[25],q[24];\\nswap q[25],q[26];\\ncx q[25],q[24];\\nswap q[25],q[26];\\nh q[24];\\ncx q[25],q[24];\\nrz(-pi/4) q[24];\\nswap q[23],q[22];\\ncx q[23],q[24];\\nswap q[23],q[22];\\nrz(pi/4) q[24];\\ncx q[25],q[24];\\nrz(-pi/4) q[24];\\nswap q[23],q[22];\\ncx q[23],q[24];\\nswap q[23],q[22];\\nrz(-5*pi/4) q[24];\\nrx(pi/2) q[24];\\nrz(pi/2) q[24];\\nrz(pi/4) q[25];\\nswap q[23],q[22];\\nswap q[24],q[23];\\ncx q[24],q[25];\\nswap q[24],q[23];\\nswap q[23],q[22];\\nrz(pi/4) q[22];\\nrz(-pi/4) q[25];\\nswap q[23],q[22];\\nswap q[24],q[23];\\ncx q[24],q[25];\\nswap q[24],q[23];\\nswap q[23],q[22];\\nswap q[23],q[24];\\ncx q[23],q[22];\\nswap q[23],q[24];\\nh q[22];\\ncx q[23],q[22];\\nrz(-pi/4) q[22];\\nswap q[21],q[20];\\ncx q[21],q[22];\\nswap q[21],q[20];\\nrz(pi/4) q[22];\\ncx q[23],q[22];\\nrz(-pi/4) q[22];\\nswap q[21],q[20];\\ncx q[21],q[22];\\nswap q[21],q[20];\\nrz(-5*pi/4) q[22];\\nrx(pi/2) q[22];\\nrz(pi/2) q[22];\\nrz(pi/4) q[23];\\nswap q[21],q[20];\\nswap q[22],q[21];\\ncx q[22],q[23];\\nswap q[22],q[21];\\nswap q[21],q[20];\\nrz(pi/4) q[20];\\nrz(-pi/4) q[23];\\nswap q[21],q[20];\\nswap q[22],q[21];\\ncx q[22],q[23];\\nswap q[22],q[21];\\nswap q[21],q[20];\\nswap q[21],q[22];\\ncx q[21],q[20];\\nswap q[21],q[22];\\nh q[20];\\ncx q[21],q[20];\\nrz(-pi/4) q[20];\\nswap q[19],q[18];\\ncx q[19],q[20];\\nswap q[19],q[18];\\nrz(pi/4) q[20];\\ncx q[21],q[20];\\nrz(-pi/4) q[20];\\nswap q[19],q[18];\\ncx q[19],q[20];\\nswap q[19],q[18];\\nrz(-5*pi/4) q[20];\\nrx(pi/2) q[20];\\nrz(pi/2) q[20];\\nrz(pi/4) q[21];\\nswap q[19],q[18];\\nswap q[20],q[19];\\ncx q[20],q[21];\\nswap q[20],q[19];\\nswap q[19],q[18];\\nrz(pi/4) q[18];\\nrz(-pi/4) q[21];\\nswap q[19],q[18];\\nswap q[20],q[19];\\ncx q[20],q[21];\\nswap q[20],q[19];\\nswap q[19],q[18];\\nswap q[19],q[20];\\ncx q[19],q[18];\\nswap q[19],q[20];\\nh q[18];\\ncx q[19],q[18];\\nrz(-pi/4) q[18];\\nrz(2.6375741) q[21];\\nrx(pi) q[21];\\nrz(2.6375741) q[21];\\ncx q[20],q[21];\\nrz(2.6375741) q[23];\\nrx(pi) q[23];\\nrz(2.6375741) q[23];\\ncx q[22],q[23];\\nrz(2.6375741) q[25];\\nrx(pi) q[25];\\nrz(2.6375741) q[25];\\ncx q[24],q[25];\\nrz(2.6375741) q[27];\\nrx(pi) q[27];\\nrz(2.6375741) q[27];\\ncx q[26],q[27];\\nrz(2.6375741) q[29];\\nrx(pi) q[29];\\nrz(2.6375741) q[29];\\ncx q[28],q[29];\\nrz(2.6375741) q[31];\\nrx(pi) q[31];\\nrz(2.6375741) q[31];\\ncx q[30],q[31];\\nrz(2.6375741) q[33];\\nrx(pi) q[33];\\nrz(2.6375741) q[33];\\ncx q[32],q[33];\\nswap q[17],q[16];\\ncx q[17],q[18];\\nswap q[17],q[16];\\nrz(pi/4) q[18];\\ncx q[19],q[18];\\nrz(-pi/4) q[18];\\nrz(pi/4) q[19];\\nswap q[17],q[16];\\ncx q[17],q[18];\\nswap q[17],q[16];\\nrz(-5*pi/4) q[18];\\nrx(pi/2) q[18];\\nrz(pi/2) q[18];\\nswap q[17],q[16];\\nswap q[18],q[17];\\ncx q[18],q[19];\\nswap q[18],q[17];\\nswap q[17],q[16];\\nrz(-pi/4) q[19];\\nrz(pi/4) q[16];\\nswap q[17],q[16];\\nswap q[18],q[17];\\ncx q[18],q[19];\\nswap q[18],q[17];\\nswap q[17],q[16];\\nswap q[17],q[18];\\ncx q[17],q[16];\\nswap q[17],q[18];\\nrz(2.6375741) q[19];\\nrx(pi) q[19];\\nrz(2.6375741) q[19];\\ncx q[18],q[19];\\nh q[16];\\ncx q[17],q[16];\\nrz(-pi/4) q[16];\\nswap q[15],q[14];\\ncx q[15],q[16];\\nswap q[15],q[14];\\nrz(pi/4) q[16];\\ncx q[17],q[16];\\nrz(pi/4) q[17];\\nrz(-pi/4) q[16];\\nswap q[15],q[14];\\ncx q[15],q[16];\\nswap q[15],q[14];\\nswap q[15],q[14];\\nswap q[16],q[15];\\ncx q[16],q[17];\\nswap q[16],q[15];\\nswap q[15],q[14];\\nrz(-pi/4) q[17];\\nrz(pi/4) q[14];\\nswap q[15],q[14];\\nswap q[16],q[15];\\ncx q[16],q[17];\\nswap q[16],q[15];\\nswap q[15],q[14];\\nrz(2.6375741) q[17];\\nrx(pi) q[17];\\nrz(2.6375741) q[17];\\nrz(-5*pi/4) q[16];\\nrx(pi/2) q[16];\\nrz(pi/2) q[16];\\nswap q[15],q[16];\\ncx q[15],q[14];\\nswap q[15],q[16];\\nh q[14];\\ncx q[15],q[14];\\nrz(-pi/4) q[14];\\nswap q[13],q[12];\\ncx q[13],q[14];\\nswap q[13],q[12];\\nrz(pi/4) q[14];\\ncx q[15],q[14];\\nrz(pi/4) q[15];\\nrz(-pi/4) q[14];\\nswap q[13],q[12];\\ncx q[13],q[14];\\nswap q[13],q[12];\\nswap q[13],q[12];\\nswap q[14],q[13];\\ncx q[14],q[15];\\nswap q[14],q[13];\\nswap q[13],q[12];\\nrz(-pi/4) q[15];\\nrz(pi/4) q[12];\\nswap q[13],q[12];\\nswap q[14],q[13];\\ncx q[14],q[15];\\nswap q[14],q[13];\\nswap q[13],q[12];\\nrz(2.6375741) q[15];\\nrx(pi) q[15];\\nrz(2.6375741) q[15];\\nrz(-5*pi/4) q[14];\\nrx(pi/2) q[14];\\nrz(pi/2) q[14];\\nswap q[13],q[14];\\ncx q[13],q[12];\\nswap q[13],q[14];\\nh q[12];\\ncx q[13],q[12];\\nrz(-pi/4) q[12];\\nswap q[11],q[10];\\ncx q[11],q[12];\\nswap q[11],q[10];\\nrz(pi/4) q[12];\\ncx q[13],q[12];\\nrz(pi/4) q[13];\\nrz(-pi/4) q[12];\\nswap q[11],q[10];\\ncx q[11],q[12];\\nswap q[11],q[10];\\nswap q[11],q[10];\\nswap q[12],q[11];\\ncx q[12],q[13];\\nswap q[12],q[11];\\nswap q[11],q[10];\\nrz(-pi/4) q[13];\\nrz(pi/4) q[10];\\nswap q[11],q[10];\\nswap q[12],q[11];\\ncx q[12],q[13];\\nswap q[12],q[11];\\nswap q[11],q[10];\\nrz(2.6375741) q[13];\\nrx(pi) q[13];\\nrz(2.6375741) q[13];\\nrz(-5*pi/4) q[12];\\nrx(pi/2) q[12];\\nrz(pi/2) q[12];\\nswap q[11],q[12];\\ncx q[11],q[10];\\nswap q[11],q[12];\\nh q[10];\\ncx q[11],q[10];\\nrz(-pi/4) q[10];\\nswap q[9],q[8];\\ncx q[9],q[10];\\nswap q[9],q[8];\\nrz(pi/4) q[10];\\ncx q[11],q[10];\\nrz(pi/4) q[11];\\nrz(-pi/4) q[10];\\nswap q[9],q[8];\\ncx q[9],q[10];\\nswap q[9],q[8];\\nswap q[9],q[8];\\nswap q[10],q[9];\\ncx q[10],q[11];\\nswap q[10],q[9];\\nswap q[9],q[8];\\nrz(-pi/4) q[11];\\nrz(pi/4) q[8];\\nswap q[9],q[8];\\nswap q[10],q[9];\\ncx q[10],q[11];\\nswap q[10],q[9];\\nswap q[9],q[8];\\nrz(2.6375741) q[11];\\nrx(pi) q[11];\\nrz(2.6375741) q[11];\\nrz(-5*pi/4) q[10];\\nrx(pi/2) q[10];\\nrz(pi/2) q[10];\\nswap q[9],q[10];\\ncx q[9],q[8];\\nswap q[9],q[10];\\nh q[8];\\ncx q[9],q[8];\\nrz(-pi/4) q[8];\\nswap q[7],q[6];\\ncx q[7],q[8];\\nswap q[7],q[6];\\nrz(pi/4) q[8];\\ncx q[9],q[8];\\nrz(pi/4) q[9];\\nrz(-pi/4) q[8];\\nswap q[7],q[6];\\ncx q[7],q[8];\\nswap q[7],q[6];\\nswap q[7],q[6];\\nswap q[8],q[7];\\ncx q[8],q[9];\\nswap q[8],q[7];\\nswap q[7],q[6];\\nrz(-pi/4) q[9];\\nrz(pi/4) q[6];\\nswap q[7],q[6];\\nswap q[8],q[7];\\ncx q[8],q[9];\\nswap q[8],q[7];\\nswap q[7],q[6];\\nrz(2.6375741) q[9];\\nrx(pi) q[9];\\nrz(2.6375741) q[9];\\nrz(-5*pi/4) q[8];\\nrx(pi/2) q[8];\\nrz(pi/2) q[8];\\nswap q[7],q[8];\\ncx q[7],q[6];\\nswap q[7],q[8];\\nh q[6];\\ncx q[7],q[6];\\nrz(-pi/4) q[6];\\nswap q[5],q[4];\\ncx q[5],q[6];\\nswap q[5],q[4];\\nrz(pi/4) q[6];\\ncx q[7],q[6];\\nrz(pi/4) q[7];\\nrz(-pi/4) q[6];\\nswap q[5],q[4];\\ncx q[5],q[6];\\nswap q[5],q[4];\\nswap q[5],q[4];\\nswap q[6],q[5];\\ncx q[6],q[7];\\nswap q[6],q[5];\\nswap q[5],q[4];\\nrz(-pi/4) q[7];\\nrz(pi/4) q[4];\\nswap q[5],q[4];\\nswap q[6],q[5];\\ncx q[6],q[7];\\nswap q[6],q[5];\\nswap q[5],q[4];\\nrz(2.6375741) q[7];\\nrx(pi) q[7];\\nrz(2.6375741) q[7];\\nrz(-5*pi/4) q[6];\\nrx(pi/2) q[6];\\nrz(pi/2) q[6];\\nswap q[5],q[6];\\ncx q[5],q[4];\\nswap q[5],q[6];\\nh q[4];\\ncx q[5],q[4];\\nrz(-pi/4) q[4];\\nswap q[3],q[2];\\ncx q[3],q[4];\\nswap q[3],q[2];\\nrz(pi/4) q[4];\\ncx q[5],q[4];\\nrz(pi/4) q[5];\\nrz(-pi/4) q[4];\\nswap q[3],q[2];\\ncx q[3],q[4];\\nswap q[3],q[2];\\nswap q[3],q[2];\\nswap q[4],q[3];\\ncx q[4],q[5];\\nswap q[4],q[3];\\nswap q[3],q[2];\\nrz(pi/4) q[2];\\nrz(-pi/4) q[5];\\nswap q[3],q[2];\\nswap q[4],q[3];\\ncx q[4],q[5];\\nswap q[4],q[3];\\nswap q[3],q[2];\\nrz(2.6375741) q[5];\\nrx(pi) q[5];\\nrz(2.6375741) q[5];\\nrz(-5*pi/4) q[4];\\nrx(pi/2) q[4];\\nrz(pi/2) q[4];\\nswap q[3],q[4];\\ncx q[3],q[2];\\nswap q[3],q[4];\\nh q[2];\\ncx q[3],q[2];\\nrz(-pi/4) q[2];\\nswap q[1],q[0];\\ncx q[1],q[2];\\nswap q[1],q[0];\\nrz(pi/4) q[2];\\ncx q[3],q[2];\\nrz(pi/4) q[3];\\nrz(-pi/4) q[2];\\nswap q[1],q[0];\\ncx q[1],q[2];\\nswap q[1],q[0];\\nswap q[1],q[0];\\nswap q[2],q[1];\\ncx q[2],q[3];\\nswap q[2],q[1];\\nswap q[1],q[0];\\nrz(pi/4) q[0];\\nrz(-pi/4) q[3];\\nswap q[1],q[0];\\nswap q[2],q[1];\\ncx q[2],q[3];\\nswap q[2],q[1];\\nswap q[1],q[0];\\nrz(2.6375741) q[3];\\nrx(pi) q[3];\\nrz(2.6375741) q[3];\\nrz(-5*pi/4) q[2];\\nrx(pi/2) q[2];\\nrz(pi/2) q[2];\\nswap q[1],q[2];\\ncx q[1],q[0];\\nswap q[1],q[2];\\nh q[0];\\ncx q[1],q[0];\\nrz(-pi/4) q[0];\\ncx q[199],q[0];\\nrz(pi/4) q[0];\\ncx q[1],q[0];\\nrz(-pi/4) q[0];\\ncx q[199],q[0];\\nrz(-5*pi/4) q[0];\\nrx(pi/2) q[0];\\nrz(pi/2) q[0];\\nrz(pi/4) q[1];\\nswap q[0],q[199];\\ncx q[0],q[1];\\nswap q[0],q[199];\\nrz(pi/4) q[199];\\nrz(-pi/4) q[1];\\nswap q[0],q[199];\\ncx q[0],q[1];\\nswap q[0],q[199];\\ncx q[0],q[199];\\nrz(2.6375741) q[1];\\nrx(pi) q[1];\\nrz(2.6375741) q[1];\\ncx q[0],q[1];\\ncx q[2],q[3];\\ncx q[4],q[5];\\ncx q[6],q[7];\\ncx q[8],q[9];\\ncx q[10],q[11];\\ncx q[12],q[13];\\ncx q[14],q[15];\\ncx q[16],q[17];\\n')\n",
    "_gate_times = {\n",
    "    '1' : 12.0,\n",
    "    'rz' : 0.0,  # Free\n",
    "    'cx' : 80.0,\n",
    "}\n",
    "_schedule = schedule_circuit(_routed, _gate_times)\n",
    "validate_schedule(_routed, _gate_times, _schedule, check_unitary=False)\n",
    "_score, _worst = score_schedule(_routed, _gate_times, _schedule)\n",
    "assert _worst == 5406624, 'internal error'\n",
    "assert _score <= 5000000, 'score is above 3000000, try improving the mapping by placing pairs of qubits with many CNOTs close together'\n",
    "print('PASS: Score is under 3000000 (see if you can beat our solution of 4650904)')"
   ]
  },
  {
   "cell_type": "markdown",
   "metadata": {},
   "source": [
    "# 4. Bonus Challenge (not graded)\n",
    "\n",
    "If you would like to practice making a better mapper, router, or scheduler, compete against your classmates to compile the best circuit.\n",
    "\n",
    "You may improve your solutions above in parts 1, 2, and/or 3.  They should still pass the tests but you should make them produce more efficient solutions than those parts require.\n",
    "\n",
    "The tests below will give you a \"SWAP Count\" score and a \"Active Qubit Time\" score.  Let your classmates know what scores you achieve.\n",
    "\n",
    "Compilation Rules: Any circuit and schedule are allowed as long as it is an equivalent circuit.  This allows for routing strategies other than swap-there-and-back and scheduling strategies like as-late-as-possible.  Also, ANY other circuit optimizations are allowed but you may not use Qiskit's (or another tool's) optimization, mapping, routing, or scheduling passes (except decomposing with simply `qiskit.transpile(circuit, basis_gates=[...])`).  To aid in verification, make sure all qubits are swapped back to the inital mapping at the end of the circuit."
   ]
  },
  {
   "cell_type": "code",
   "execution_count": 32,
   "metadata": {
    "deletable": false,
    "nbgrader": {
     "cell_type": "code",
     "checksum": "176a1f2eda6228a67f789e964108328e",
     "grade": false,
     "grade_id": "4",
     "locked": false,
     "schema_version": 3,
     "solution": true,
     "task": false
    }
   },
   "outputs": [],
   "source": [
    "def compile_circuit(quantum_circuit, target_hardware, gate_times):\n",
    "    '''Optimizes, mappes, routes, and schedules a circuit, returning the final schedule.'''\n",
    "    ### Just improve your implementations of\n",
    "    ### map_circuit, route_circuit, and schedule_circuit in parts 1, 2, and 3.\n",
    "    ### You may modify this function if you want to add additional optimizations.\n",
    "    # YOUR CODE HERE\n",
    "    mapping = map_circuit(quantum_circuit, target_hardware)\n",
    "    routed = route_circuit(quantum_circuit, target_hardware, mapping)\n",
    "    schedule = schedule_circuit(routed, gate_times)\n",
    "    return mapping, schedule  # Return the mapping to help with verification"
   ]
  },
  {
   "cell_type": "code",
   "execution_count": 33,
   "metadata": {},
   "outputs": [],
   "source": [
    "# Scratch space (add more cells if you need)"
   ]
  },
  {
   "cell_type": "code",
   "execution_count": 34,
   "metadata": {
    "deletable": false,
    "editable": false,
    "nbgrader": {
     "cell_type": "code",
     "checksum": "6502a397ab6b7fb24dc96e021e109197",
     "grade": true,
     "grade_id": "4a-test",
     "locked": true,
     "points": 0,
     "schema_version": 3,
     "solution": false,
     "task": false
    }
   },
   "outputs": [
    {
     "name": "stderr",
     "output_type": "stream",
     "text": [
      "C:\\Users\\panch\\AppData\\Local\\Temp\\ipykernel_17452\\2877897505.py:24: DeprecationWarning: Back-references to from Bit instances to their containing Registers have been deprecated. Instead, inspect Registers to find their contained Bits.\n",
      "  sw_node_1 = [qubits[0].index]\n",
      "C:\\Users\\panch\\AppData\\Local\\Temp\\ipykernel_17452\\2877897505.py:25: DeprecationWarning: Back-references to from Bit instances to their containing Registers have been deprecated. Instead, inspect Registers to find their contained Bits.\n",
      "  sw_node_2 = [qubits[1].index]\n",
      "C:\\Users\\panch\\AppData\\Local\\Temp\\ipykernel_17452\\2877897505.py:32: DeprecationWarning: Back-references to from Bit instances to their containing Registers have been deprecated. Instead, inspect Registers to find their contained Bits.\n",
      "  new_qubit_indices = [gate[1][i].index for i in range(len(gate[1]))]\n",
      "C:\\Users\\panch\\AppData\\Local\\Temp\\ipykernel_17452\\2877897505.py:36: DeprecationWarning: Back-references to from Bit instances to their containing Registers have been deprecated. Instead, inspect Registers to find their contained Bits.\n",
      "  new_qubit_indices = [gate[1][i].index for i in range(len(gate[1]))]\n",
      "C:\\Users\\panch\\AppData\\Local\\Temp\\ipykernel_17452\\3012879932.py:45: DeprecationWarning: Back-references to from Bit instances to their containing Registers have been deprecated. Instead, inspect Registers to find their contained Bits.\n",
      "  qubit1 =qubit1_logic.index\n",
      "C:\\Users\\panch\\AppData\\Local\\Temp\\ipykernel_17452\\3012879932.py:46: DeprecationWarning: Back-references to from Bit instances to their containing Registers have been deprecated. Instead, inspect Registers to find their contained Bits.\n",
      "  qubit2= qubit2_logic.index\n",
      "C:\\Users\\panch\\AppData\\Local\\Temp\\ipykernel_17452\\2653531177.py:84: DeprecationWarning: Back-references to from Bit instances to their containing Registers have been deprecated. Instead, inspect Registers to find their contained Bits.\n",
      "  q1 = qubits[0].index  # qubit uno del cx\n",
      "C:\\Users\\panch\\AppData\\Local\\Temp\\ipykernel_17452\\2653531177.py:85: DeprecationWarning: Back-references to from Bit instances to their containing Registers have been deprecated. Instead, inspect Registers to find their contained Bits.\n",
      "  q2 = qubits[1].index # qubit dos del cx\n",
      "C:\\Users\\panch\\AppData\\Local\\Temp\\ipykernel_17452\\741747216.py:7: DeprecationWarning: Back-references to from Bit instances to their containing Registers have been deprecated. Instead, inspect Registers to find their contained Bits.\n",
      "  circuit = QuantumCircuit(next(iter(qubits)).register)\n",
      "C:\\Users\\panch\\AppData\\Local\\Temp\\ipykernel_17452\\741747216.py:12: DeprecationWarning: Back-references to from Bit instances to their containing Registers have been deprecated. Instead, inspect Registers to find their contained Bits.\n",
      "  new_qubits = [circuit.qubits[q.index] for q in gate.qubits]\n",
      "C:\\Users\\panch\\AppData\\Local\\Temp\\ipykernel_17452\\3383947762.py:17: DeprecationWarning: Back-references to from Bit instances to their containing Registers have been deprecated. Instead, inspect Registers to find their contained Bits.\n",
      "  extended_qubits = [extended_circuit.qubits[q.index]\n",
      "C:\\Users\\panch\\AppData\\Local\\Temp\\ipykernel_17452\\3383947762.py:21: DeprecationWarning: Back-references to from Bit instances to their containing Registers have been deprecated. Instead, inspect Registers to find their contained Bits.\n",
      "  rev_mapping = {v: k.index for k, v in mapping.items()}\n",
      "C:\\Users\\panch\\AppData\\Local\\Temp\\ipykernel_17452\\3383947762.py:23: DeprecationWarning: Back-references to from Bit instances to their containing Registers have been deprecated. Instead, inspect Registers to find their contained Bits.\n",
      "  unmapped_qubits = [unmapped_circuit.qubits[rev_mapping.get(q.index, q.index)]\n"
     ]
    },
    {
     "ename": "AssertionError",
     "evalue": "Circuits are not eqivalent (for this test, make sure to include any unnessesary SWAP gates at the end of the circuit to ensure the qubits are moved back to their starting locations.)",
     "output_type": "error",
     "traceback": [
      "\u001b[1;31m---------------------------------------------------------------------------\u001b[0m",
      "\u001b[1;31mAssertionError\u001b[0m                            Traceback (most recent call last)",
      "Cell \u001b[1;32mIn[34], line 17\u001b[0m\n\u001b[0;32m     15\u001b[0m _mapping, _schedule \u001b[38;5;241m=\u001b[39m compile_circuit(comp_circuit, comp_hardware, comp_gate_times)\n\u001b[0;32m     16\u001b[0m _routed \u001b[38;5;241m=\u001b[39m schedule_to_circuit(_schedule)\n\u001b[1;32m---> 17\u001b[0m \u001b[43mvalidate_routing\u001b[49m\u001b[43m(\u001b[49m\u001b[43mcomp_circuit\u001b[49m\u001b[43m,\u001b[49m\u001b[43m \u001b[49m\u001b[43mcomp_hardware\u001b[49m\u001b[43m,\u001b[49m\u001b[43m \u001b[49m\u001b[43m_mapping\u001b[49m\u001b[43m,\u001b[49m\u001b[43m \u001b[49m\u001b[43m_routed\u001b[49m\u001b[43m,\u001b[49m\u001b[43m \u001b[49m\u001b[43mcheck_unitary\u001b[49m\u001b[38;5;241;43m=\u001b[39;49m\u001b[38;5;28;43;01mTrue\u001b[39;49;00m\u001b[43m)\u001b[49m\n\u001b[0;32m     18\u001b[0m _score, _ \u001b[38;5;241m=\u001b[39m score_routing(comp_circuit, comp_hardware, _mapping, _routed)\n\u001b[0;32m     19\u001b[0m \u001b[38;5;28mprint\u001b[39m(\u001b[38;5;124m'\u001b[39m\u001b[38;5;124m'\u001b[39m)\n",
      "Cell \u001b[1;32mIn[21], line 29\u001b[0m, in \u001b[0;36mvalidate_routing\u001b[1;34m(circuit, target_hardware, mapping, routed_circuit, check_unitary)\u001b[0m\n\u001b[0;32m     27\u001b[0m     \u001b[38;5;28;01mfrom\u001b[39;00m \u001b[38;5;21;01mqiskit\u001b[39;00m\u001b[38;5;21;01m.\u001b[39;00m\u001b[38;5;21;01mquantum_info\u001b[39;00m\u001b[38;5;21;01m.\u001b[39;00m\u001b[38;5;21;01moperators\u001b[39;00m\u001b[38;5;21;01m.\u001b[39;00m\u001b[38;5;21;01mpredicates\u001b[39;00m \u001b[38;5;28;01mimport\u001b[39;00m matrix_equal\n\u001b[0;32m     28\u001b[0m     unitary \u001b[38;5;241m=\u001b[39m \u001b[38;5;28;01mlambda\u001b[39;00m c: qiskit\u001b[38;5;241m.\u001b[39mquantum_info\u001b[38;5;241m.\u001b[39mOperator(c)\u001b[38;5;241m.\u001b[39mdata\n\u001b[1;32m---> 29\u001b[0m     \u001b[38;5;28;01massert\u001b[39;00m matrix_equal(unitary(unmapped_circuit), unitary(extended_circuit)), (\n\u001b[0;32m     30\u001b[0m         \u001b[38;5;124m'\u001b[39m\u001b[38;5;124mCircuits are not eqivalent (for this test, make sure to include \u001b[39m\u001b[38;5;124m'\u001b[39m\n\u001b[0;32m     31\u001b[0m         \u001b[38;5;124m'\u001b[39m\u001b[38;5;124many unnessesary SWAP gates at the end of the circuit to ensure the \u001b[39m\u001b[38;5;124m'\u001b[39m\n\u001b[0;32m     32\u001b[0m         \u001b[38;5;124m'\u001b[39m\u001b[38;5;124mqubits are moved back to their starting locations.)\u001b[39m\u001b[38;5;124m'\u001b[39m)\n\u001b[0;32m     33\u001b[0m \u001b[38;5;66;03m# Check valid gates\u001b[39;00m\n\u001b[0;32m     34\u001b[0m \u001b[38;5;28;01mfor\u001b[39;00m gate \u001b[38;5;129;01min\u001b[39;00m routed_circuit:\n",
      "\u001b[1;31mAssertionError\u001b[0m: Circuits are not eqivalent (for this test, make sure to include any unnessesary SWAP gates at the end of the circuit to ensure the qubits are moved back to their starting locations.)"
     ]
    }
   ],
   "source": [
    "# Do not delete this cell\n",
    "# The autograder will test the function compile_circuit and give a challenge score.\n",
    "\n",
    "comp_hardware = nx.grid_2d_graph(4, 2)\n",
    "comp_hardware = nx.relabel_nodes(comp_hardware,\n",
    "    {n: i for i, n in enumerate(comp_hardware.nodes)})\n",
    "comp_gate_times = {\n",
    "    '1' : 12.0,\n",
    "    'rz' : 0.0,  # Free\n",
    "    'cx' : 80.0,\n",
    "}\n",
    "#comp_circuit = decomposed_adder_circuit(8)\n",
    "comp_circuit = QuantumCircuit.from_qasm_str('OPENQASM 2.0;\\ninclude \"qelib1.inc\";\\nqreg q[8];\\ncx q[1],q[4];\\ncx q[1],q[0];\\nh q[1];\\ncx q[4],q[1];\\nrz(-pi/4) q[1];\\ncx q[0],q[1];\\nrz(pi/4) q[1];\\ncx q[4],q[1];\\nrz(-pi/4) q[1];\\ncx q[0],q[1];\\nrz(-5*pi/4) q[1];\\nrx(pi/2) q[1];\\nrz(pi/2) q[1];\\nrz(pi/4) q[4];\\ncx q[0],q[4];\\nrz(pi/4) q[0];\\nrz(-pi/4) q[4];\\ncx q[0],q[4];\\nrz(2.6375741) q[4];\\nrx(pi) q[4];\\nrz(2.6375741) q[4];\\ncx q[0],q[4];\\ncx q[2],q[5];\\ncx q[2],q[1];\\nh q[2];\\ncx q[5],q[2];\\nrz(-pi/4) q[2];\\ncx q[1],q[2];\\nrz(pi/4) q[2];\\ncx q[5],q[2];\\nrz(-pi/4) q[2];\\ncx q[1],q[2];\\nrz(-5*pi/4) q[2];\\nrx(pi/2) q[2];\\nrz(pi/2) q[2];\\nrz(pi/4) q[5];\\ncx q[1],q[5];\\nrz(pi/4) q[1];\\nrz(-pi/4) q[5];\\ncx q[1],q[5];\\nrz(2.6375741) q[5];\\nrx(pi) q[5];\\nrz(2.6375741) q[5];\\ncx q[1],q[5];\\ncx q[3],q[6];\\ncx q[3],q[2];\\nh q[3];\\ncx q[6],q[3];\\nrz(-pi/4) q[3];\\ncx q[2],q[3];\\nrz(pi/4) q[3];\\ncx q[6],q[3];\\nrz(-pi/4) q[3];\\ncx q[2],q[3];\\nrz(-5*pi/4) q[3];\\nrx(pi/2) q[3];\\nrz(pi/2) q[3];\\nrz(pi/4) q[6];\\ncx q[2],q[6];\\nrz(pi/4) q[2];\\nrz(-pi/4) q[6];\\ncx q[2],q[6];\\nrz(2.6375741) q[6];\\nrx(pi) q[6];\\nrz(2.6375741) q[6];\\ncx q[2],q[6];\\ncx q[3],q[7];\\nh q[3];\\ncx q[6],q[3];\\nrz(-pi/4) q[3];\\ncx q[2],q[3];\\nrz(pi/4) q[3];\\ncx q[6],q[3];\\nrz(-pi/4) q[3];\\ncx q[2],q[3];\\nrz(-5*pi/4) q[3];\\nrx(pi/2) q[3];\\nrz(pi/2) q[3];\\nrz(pi/4) q[6];\\ncx q[2],q[6];\\nrz(pi/4) q[2];\\nrz(-pi/4) q[6];\\ncx q[2],q[6];\\ncx q[3],q[2];\\nh q[2];\\ncx q[5],q[2];\\nrz(-pi/4) q[2];\\ncx q[1],q[2];\\nrz(pi/4) q[2];\\ncx q[5],q[2];\\nrz(-pi/4) q[2];\\ncx q[1],q[2];\\nrz(-5*pi/4) q[2];\\nrx(pi/2) q[2];\\nrz(pi/2) q[2];\\nrz(pi/4) q[5];\\ncx q[1],q[5];\\nrz(pi/4) q[1];\\nrz(-pi/4) q[5];\\ncx q[1],q[5];\\ncx q[2],q[1];\\nh q[1];\\ncx q[4],q[1];\\nrz(-pi/4) q[1];\\ncx q[0],q[1];\\nrz(pi/4) q[1];\\ncx q[4],q[1];\\nrz(-pi/4) q[1];\\ncx q[0],q[1];\\nrz(-5*pi/4) q[1];\\nrx(pi/2) q[1];\\nrz(pi/2) q[1];\\nrz(pi/4) q[4];\\ncx q[0],q[4];\\nrz(pi/4) q[0];\\nrz(-pi/4) q[4];\\ncx q[0],q[4];\\ncx q[1],q[0];\\nrz(2.6375741) q[4];\\nrx(pi) q[4];\\nrz(2.6375741) q[4];\\ncx q[1],q[4];\\nrz(2.6375741) q[5];\\nrx(pi) q[5];\\nrz(2.6375741) q[5];\\ncx q[2],q[5];\\nrz(2.6375741) q[6];\\nrx(pi) q[6];\\nrz(2.6375741) q[6];\\ncx q[3],q[6];\\n')\n",
    "# Run your code\n",
    "_mapping, _schedule = compile_circuit(comp_circuit, comp_hardware, comp_gate_times)\n",
    "_routed = schedule_to_circuit(_schedule)\n",
    "validate_routing(comp_circuit, comp_hardware, _mapping, _routed, check_unitary=True)\n",
    "_score, _ = score_routing(comp_circuit, comp_hardware, _mapping, _routed)\n",
    "print('')\n",
    "print(f'Your SWAP Count Score: {_score}')"
   ]
  },
  {
   "cell_type": "code",
   "execution_count": null,
   "metadata": {
    "deletable": false,
    "editable": false,
    "nbgrader": {
     "cell_type": "code",
     "checksum": "ef7af392d96eef55399ded198aa1cc5f",
     "grade": true,
     "grade_id": "4b-test",
     "locked": true,
     "points": 0,
     "schema_version": 3,
     "solution": false,
     "task": false
    }
   },
   "outputs": [],
   "source": [
    "# Do not delete this cell\n",
    "# The autograder will test the function compile_circuit and give a challenge score.\n",
    "\n",
    "comp_hardware = nx.grid_2d_graph(4, 2)\n",
    "comp_hardware = nx.relabel_nodes(comp_hardware,\n",
    "    {n: i for i, n in enumerate(comp_hardware.nodes)})\n",
    "comp_gate_times = {\n",
    "    '1' : 12.0,\n",
    "    'rz' : 0.0,  # Free\n",
    "    'cx' : 80.0,\n",
    "}\n",
    "#comp_circuit = decomposed_adder_circuit(8)\n",
    "comp_circuit = QuantumCircuit.from_qasm_str('OPENQASM 2.0;\\ninclude \"qelib1.inc\";\\nqreg q[8];\\ncx q[1],q[4];\\ncx q[1],q[0];\\nh q[1];\\ncx q[4],q[1];\\nrz(-pi/4) q[1];\\ncx q[0],q[1];\\nrz(pi/4) q[1];\\ncx q[4],q[1];\\nrz(-pi/4) q[1];\\ncx q[0],q[1];\\nrz(-5*pi/4) q[1];\\nrx(pi/2) q[1];\\nrz(pi/2) q[1];\\nrz(pi/4) q[4];\\ncx q[0],q[4];\\nrz(pi/4) q[0];\\nrz(-pi/4) q[4];\\ncx q[0],q[4];\\nrz(2.6375741) q[4];\\nrx(pi) q[4];\\nrz(2.6375741) q[4];\\ncx q[0],q[4];\\ncx q[2],q[5];\\ncx q[2],q[1];\\nh q[2];\\ncx q[5],q[2];\\nrz(-pi/4) q[2];\\ncx q[1],q[2];\\nrz(pi/4) q[2];\\ncx q[5],q[2];\\nrz(-pi/4) q[2];\\ncx q[1],q[2];\\nrz(-5*pi/4) q[2];\\nrx(pi/2) q[2];\\nrz(pi/2) q[2];\\nrz(pi/4) q[5];\\ncx q[1],q[5];\\nrz(pi/4) q[1];\\nrz(-pi/4) q[5];\\ncx q[1],q[5];\\nrz(2.6375741) q[5];\\nrx(pi) q[5];\\nrz(2.6375741) q[5];\\ncx q[1],q[5];\\ncx q[3],q[6];\\ncx q[3],q[2];\\nh q[3];\\ncx q[6],q[3];\\nrz(-pi/4) q[3];\\ncx q[2],q[3];\\nrz(pi/4) q[3];\\ncx q[6],q[3];\\nrz(-pi/4) q[3];\\ncx q[2],q[3];\\nrz(-5*pi/4) q[3];\\nrx(pi/2) q[3];\\nrz(pi/2) q[3];\\nrz(pi/4) q[6];\\ncx q[2],q[6];\\nrz(pi/4) q[2];\\nrz(-pi/4) q[6];\\ncx q[2],q[6];\\nrz(2.6375741) q[6];\\nrx(pi) q[6];\\nrz(2.6375741) q[6];\\ncx q[2],q[6];\\ncx q[3],q[7];\\nh q[3];\\ncx q[6],q[3];\\nrz(-pi/4) q[3];\\ncx q[2],q[3];\\nrz(pi/4) q[3];\\ncx q[6],q[3];\\nrz(-pi/4) q[3];\\ncx q[2],q[3];\\nrz(-5*pi/4) q[3];\\nrx(pi/2) q[3];\\nrz(pi/2) q[3];\\nrz(pi/4) q[6];\\ncx q[2],q[6];\\nrz(pi/4) q[2];\\nrz(-pi/4) q[6];\\ncx q[2],q[6];\\ncx q[3],q[2];\\nh q[2];\\ncx q[5],q[2];\\nrz(-pi/4) q[2];\\ncx q[1],q[2];\\nrz(pi/4) q[2];\\ncx q[5],q[2];\\nrz(-pi/4) q[2];\\ncx q[1],q[2];\\nrz(-5*pi/4) q[2];\\nrx(pi/2) q[2];\\nrz(pi/2) q[2];\\nrz(pi/4) q[5];\\ncx q[1],q[5];\\nrz(pi/4) q[1];\\nrz(-pi/4) q[5];\\ncx q[1],q[5];\\ncx q[2],q[1];\\nh q[1];\\ncx q[4],q[1];\\nrz(-pi/4) q[1];\\ncx q[0],q[1];\\nrz(pi/4) q[1];\\ncx q[4],q[1];\\nrz(-pi/4) q[1];\\ncx q[0],q[1];\\nrz(-5*pi/4) q[1];\\nrx(pi/2) q[1];\\nrz(pi/2) q[1];\\nrz(pi/4) q[4];\\ncx q[0],q[4];\\nrz(pi/4) q[0];\\nrz(-pi/4) q[4];\\ncx q[0],q[4];\\ncx q[1],q[0];\\nrz(2.6375741) q[4];\\nrx(pi) q[4];\\nrz(2.6375741) q[4];\\ncx q[1],q[4];\\nrz(2.6375741) q[5];\\nrx(pi) q[5];\\nrz(2.6375741) q[5];\\ncx q[2],q[5];\\nrz(2.6375741) q[6];\\nrx(pi) q[6];\\nrz(2.6375741) q[6];\\ncx q[3],q[6];\\n')\n",
    "# Run your code\n",
    "_mapping, _schedule = compile_circuit(comp_circuit, comp_hardware, comp_gate_times)\n",
    "_routed = schedule_to_circuit(_schedule)\n",
    "validate_schedule(_routed, comp_gate_times, _schedule, check_unitary=True)\n",
    "_score, _worst = score_schedule(_routed, comp_gate_times, _schedule)\n",
    "print('')\n",
    "print(f'Your Active Qubit Time Score: {_score}')"
   ]
  },
  {
   "cell_type": "code",
   "execution_count": null,
   "metadata": {},
   "outputs": [],
   "source": []
  }
 ],
 "metadata": {
  "@webio": {
   "lastCommId": null,
   "lastKernelId": null
  },
  "kernelspec": {
   "display_name": "Python 3 (ipykernel)",
   "language": "python",
   "name": "python3"
  },
  "language_info": {
   "codemirror_mode": {
    "name": "ipython",
    "version": 3
   },
   "file_extension": ".py",
   "mimetype": "text/x-python",
   "name": "python",
   "nbconvert_exporter": "python",
   "pygments_lexer": "ipython3",
   "version": "3.8.0"
  }
 },
 "nbformat": 4,
 "nbformat_minor": 4
}
